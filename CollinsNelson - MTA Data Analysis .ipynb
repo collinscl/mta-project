{
 "cells": [
  {
   "cell_type": "markdown",
   "metadata": {
    "colab_type": "text",
    "id": "mStpGvEbPhUa"
   },
   "source": [
    "## Preliminary analysis\n",
    "\n",
    "This notebook analyzes the MTA subway data for the week of June 10-17, 2017 that can be found here:\n",
    "\n",
    "http://web.mta.info/developers/turnstile.html\n",
    "\n",
    "1.Download that SAME file and read it in below. View the first few rows."
   ]
  },
  {
   "cell_type": "code",
   "execution_count": 1,
   "metadata": {},
   "outputs": [],
   "source": [
    "import math\n",
    "import numpy as np\n",
    "import pandas as pd\n",
    "from datetime import datetime as dt\n",
    "import matplotlib.pyplot as plt\n",
    "%matplotlib inline"
   ]
  },
  {
   "cell_type": "code",
   "execution_count": 2,
   "metadata": {},
   "outputs": [
    {
     "data": {
      "text/html": [
       "<div>\n",
       "<style scoped>\n",
       "    .dataframe tbody tr th:only-of-type {\n",
       "        vertical-align: middle;\n",
       "    }\n",
       "\n",
       "    .dataframe tbody tr th {\n",
       "        vertical-align: top;\n",
       "    }\n",
       "\n",
       "    .dataframe thead th {\n",
       "        text-align: right;\n",
       "    }\n",
       "</style>\n",
       "<table border=\"1\" class=\"dataframe\">\n",
       "  <thead>\n",
       "    <tr style=\"text-align: right;\">\n",
       "      <th></th>\n",
       "      <th>C/A</th>\n",
       "      <th>UNIT</th>\n",
       "      <th>SCP</th>\n",
       "      <th>STATION</th>\n",
       "      <th>LINENAME</th>\n",
       "      <th>DIVISION</th>\n",
       "      <th>DATE</th>\n",
       "      <th>TIME</th>\n",
       "      <th>DESC</th>\n",
       "      <th>ENTRIES</th>\n",
       "      <th>EXITS</th>\n",
       "    </tr>\n",
       "  </thead>\n",
       "  <tbody>\n",
       "    <tr>\n",
       "      <th>0</th>\n",
       "      <td>A002</td>\n",
       "      <td>R051</td>\n",
       "      <td>02-00-00</td>\n",
       "      <td>59 ST</td>\n",
       "      <td>NQR456W</td>\n",
       "      <td>BMT</td>\n",
       "      <td>6/10/17</td>\n",
       "      <td>0:00:00</td>\n",
       "      <td>REGULAR</td>\n",
       "      <td>6215258</td>\n",
       "      <td>2104297</td>\n",
       "    </tr>\n",
       "    <tr>\n",
       "      <th>1</th>\n",
       "      <td>A002</td>\n",
       "      <td>R051</td>\n",
       "      <td>02-00-00</td>\n",
       "      <td>59 ST</td>\n",
       "      <td>NQR456W</td>\n",
       "      <td>BMT</td>\n",
       "      <td>6/10/17</td>\n",
       "      <td>4:00:00</td>\n",
       "      <td>REGULAR</td>\n",
       "      <td>6215284</td>\n",
       "      <td>2104303</td>\n",
       "    </tr>\n",
       "    <tr>\n",
       "      <th>2</th>\n",
       "      <td>A002</td>\n",
       "      <td>R051</td>\n",
       "      <td>02-00-00</td>\n",
       "      <td>59 ST</td>\n",
       "      <td>NQR456W</td>\n",
       "      <td>BMT</td>\n",
       "      <td>6/10/17</td>\n",
       "      <td>8:00:00</td>\n",
       "      <td>REGULAR</td>\n",
       "      <td>6215318</td>\n",
       "      <td>2104337</td>\n",
       "    </tr>\n",
       "    <tr>\n",
       "      <th>3</th>\n",
       "      <td>A002</td>\n",
       "      <td>R051</td>\n",
       "      <td>02-00-00</td>\n",
       "      <td>59 ST</td>\n",
       "      <td>NQR456W</td>\n",
       "      <td>BMT</td>\n",
       "      <td>6/10/17</td>\n",
       "      <td>12:00:00</td>\n",
       "      <td>REGULAR</td>\n",
       "      <td>6215475</td>\n",
       "      <td>2104417</td>\n",
       "    </tr>\n",
       "    <tr>\n",
       "      <th>4</th>\n",
       "      <td>A002</td>\n",
       "      <td>R051</td>\n",
       "      <td>02-00-00</td>\n",
       "      <td>59 ST</td>\n",
       "      <td>NQR456W</td>\n",
       "      <td>BMT</td>\n",
       "      <td>6/10/17</td>\n",
       "      <td>16:00:00</td>\n",
       "      <td>REGULAR</td>\n",
       "      <td>6215841</td>\n",
       "      <td>2104465</td>\n",
       "    </tr>\n",
       "  </tbody>\n",
       "</table>\n",
       "</div>"
      ],
      "text/plain": [
       "    C/A  UNIT       SCP STATION LINENAME DIVISION     DATE      TIME     DESC  \\\n",
       "0  A002  R051  02-00-00   59 ST  NQR456W      BMT  6/10/17   0:00:00  REGULAR   \n",
       "1  A002  R051  02-00-00   59 ST  NQR456W      BMT  6/10/17   4:00:00  REGULAR   \n",
       "2  A002  R051  02-00-00   59 ST  NQR456W      BMT  6/10/17   8:00:00  REGULAR   \n",
       "3  A002  R051  02-00-00   59 ST  NQR456W      BMT  6/10/17  12:00:00  REGULAR   \n",
       "4  A002  R051  02-00-00   59 ST  NQR456W      BMT  6/10/17  16:00:00  REGULAR   \n",
       "\n",
       "   ENTRIES  \\\n",
       "0  6215258   \n",
       "1  6215284   \n",
       "2  6215318   \n",
       "3  6215475   \n",
       "4  6215841   \n",
       "\n",
       "   EXITS                                                                 \n",
       "0                                            2104297                     \n",
       "1                                            2104303                     \n",
       "2                                            2104337                     \n",
       "3                                            2104417                     \n",
       "4                                            2104465                     "
      ]
     },
     "execution_count": 2,
     "metadata": {},
     "output_type": "execute_result"
    }
   ],
   "source": [
    "june17 = pd.read_csv('June 17.csv')\n",
    "june17.head()"
   ]
  },
  {
   "cell_type": "markdown",
   "metadata": {
    "colab_type": "text",
    "id": "ORJ0mTH0PhUe"
   },
   "source": [
    "2.What are the column names?"
   ]
  },
  {
   "cell_type": "code",
   "execution_count": 3,
   "metadata": {
    "colab": {},
    "colab_type": "code",
    "id": "lI12wZTDPhUf"
   },
   "outputs": [
    {
     "name": "stdout",
     "output_type": "stream",
     "text": [
      "Index(['C/A', 'UNIT', 'SCP', 'STATION', 'LINENAME', 'DIVISION', 'DATE', 'TIME',\n",
      "       'DESC', 'ENTRIES',\n",
      "       'EXITS                                                               '],\n",
      "      dtype='object')\n"
     ]
    }
   ],
   "source": [
    "print(june17.columns)"
   ]
  },
  {
   "cell_type": "markdown",
   "metadata": {
    "colab_type": "text",
    "id": "j5vI0VWzPhUj"
   },
   "source": [
    "3.We can see that there is a lot of whitespace at the end of the exits column name. Let's strip that whitespace:"
   ]
  },
  {
   "cell_type": "code",
   "execution_count": 4,
   "metadata": {
    "colab": {},
    "colab_type": "code",
    "id": "VPkcWYbdPhUk"
   },
   "outputs": [
    {
     "name": "stdout",
     "output_type": "stream",
     "text": [
      "Index(['c/a', 'unit', 'scp', 'station', 'linename', 'division', 'date', 'time',\n",
      "       'desc', 'entries', 'exits'],\n",
      "      dtype='object')\n"
     ]
    }
   ],
   "source": [
    "june17.columns = june17.columns.str.strip().str.lower()\n",
    "print(june17.columns)"
   ]
  },
  {
   "cell_type": "markdown",
   "metadata": {
    "colab_type": "text",
    "id": "hpp8WuvNPhUm"
   },
   "source": [
    "4.How big is the data set?"
   ]
  },
  {
   "cell_type": "code",
   "execution_count": 5,
   "metadata": {
    "colab": {},
    "colab_type": "code",
    "id": "Q8wuU_CRPhUn"
   },
   "outputs": [
    {
     "name": "stdout",
     "output_type": "stream",
     "text": [
      "2169299\n"
     ]
    }
   ],
   "source": [
    "print(len(june17)*len(june17.columns))"
   ]
  },
  {
   "cell_type": "markdown",
   "metadata": {
    "colab_type": "text",
    "id": "Cs09G8y-PhUp"
   },
   "source": [
    "5.How many unique stations are there? What are they? Answer each of these questions in one line each."
   ]
  },
  {
   "cell_type": "code",
   "execution_count": 6,
   "metadata": {
    "colab": {},
    "colab_type": "code",
    "id": "2NYLAovdPhUq"
   },
   "outputs": [
    {
     "name": "stdout",
     "output_type": "stream",
     "text": [
      "376\n"
     ]
    }
   ],
   "source": [
    "print(len(set(june17.station)))"
   ]
  },
  {
   "cell_type": "markdown",
   "metadata": {
    "colab_type": "text",
    "id": "cHoomcKyPhUu"
   },
   "source": [
    "6.Okay, so we understand what station represents. But what the heck are C/A, UNIT, and SCP? Keep in mind that in the larger stations, you might have multiple areas within one station that look like this:\n",
    "\n",
    "<img src=\"image.jpg\" style=\"width: 300px;\"/>\n",
    "\n",
    "Further complicating things, there are a few station names like 14TH ST that refer to more than one station location along that street.\n",
    "\n",
    "This data set is not very well documented. Welcome to the joys of real world data science!!!\n",
    "\n",
    "Read the following two links carefully to see other people's confusion and what information they have been able to gather:\n",
    "\n",
    "https://groups.google.com/forum/#!topic/mtadeveloperresources/AMVx2WUY9iI\n",
    "\n",
    "https://groups.google.com/forum/#!searchin/mtadeveloperresources/%22remote$20unit%22%7Csort:relevance/mtadeveloperresources/z8l3ZU9cY6Y/OFlHGkFAimQJ\n",
    "\n",
    "It sounds like each C/A + UNIT + SCP + STATION combo refers to a single turnstile. How many unique turnstiles are there? "
   ]
  },
  {
   "cell_type": "code",
   "execution_count": 7,
   "metadata": {
    "colab": {},
    "colab_type": "code",
    "id": "zimRzTJMPhUu"
   },
   "outputs": [
    {
     "name": "stdout",
     "output_type": "stream",
     "text": [
      "4695\n"
     ]
    }
   ],
   "source": [
    "unique = []\n",
    "for index, row in june17.iterrows(): # This creates a list of the unique turnstile tuples\n",
    "    if (row['c/a'], row.unit, row.scp, row.station) not in unique:\n",
    "        unique.append((row['c/a'], row.unit, row.scp, row.station))\n",
    "print(len(unique))"
   ]
  },
  {
   "cell_type": "markdown",
   "metadata": {
    "colab_type": "text",
    "id": "5SJoHrr4PhUx"
   },
   "source": [
    "7.What data types are each of the columns?"
   ]
  },
  {
   "cell_type": "code",
   "execution_count": 8,
   "metadata": {
    "colab": {},
    "colab_type": "code",
    "id": "S1jYB-EUPhUy"
   },
   "outputs": [
    {
     "name": "stdout",
     "output_type": "stream",
     "text": [
      "<class 'pandas.core.frame.DataFrame'>\n",
      "RangeIndex: 197209 entries, 0 to 197208\n",
      "Data columns (total 11 columns):\n",
      "c/a         197209 non-null object\n",
      "unit        197209 non-null object\n",
      "scp         197209 non-null object\n",
      "station     197209 non-null object\n",
      "linename    197209 non-null object\n",
      "division    197209 non-null object\n",
      "date        197209 non-null object\n",
      "time        197209 non-null object\n",
      "desc        197209 non-null object\n",
      "entries     197209 non-null int64\n",
      "exits       197209 non-null int64\n",
      "dtypes: int64(2), object(9)\n",
      "memory usage: 16.6+ MB\n"
     ]
    }
   ],
   "source": [
    "june17.info()"
   ]
  },
  {
   "cell_type": "markdown",
   "metadata": {
    "colab_type": "text",
    "id": "gIc54DxNPhU2"
   },
   "source": [
    "8.We can see that the exits and entries are treated as integers but the others are all treated as objects (strings). Overwrite the time column so that it is a datetime object containing the combined date and time column info (so that the times have a chronological order). "
   ]
  },
  {
   "cell_type": "code",
   "execution_count": 9,
   "metadata": {},
   "outputs": [
    {
     "name": "stdout",
     "output_type": "stream",
     "text": [
      "<class 'pandas.core.frame.DataFrame'>\n",
      "RangeIndex: 197209 entries, 0 to 197208\n",
      "Data columns (total 11 columns):\n",
      "c/a         197209 non-null object\n",
      "unit        197209 non-null object\n",
      "scp         197209 non-null object\n",
      "station     197209 non-null object\n",
      "linename    197209 non-null object\n",
      "division    197209 non-null object\n",
      "date        197209 non-null datetime64[ns]\n",
      "time        197209 non-null datetime64[ns]\n",
      "desc        197209 non-null object\n",
      "entries     197209 non-null int64\n",
      "exits       197209 non-null int64\n",
      "dtypes: datetime64[ns](2), int64(2), object(7)\n",
      "memory usage: 16.6+ MB\n"
     ]
    }
   ],
   "source": [
    "june17.time = june17.date + '-' + june17.time\n",
    "june17.time = pd.to_datetime(june17.time, format = '%m/%d/%y-%H:%M:%S')\n",
    "june17.date = pd.to_datetime(june17.date, format = '%m/%d/%y') # We changed the date column to datetime too\n",
    "june17.info() # Just in case we just want to use the date and no time"
   ]
  },
  {
   "cell_type": "markdown",
   "metadata": {
    "colab_type": "text",
    "id": "_aYeYy02PhU6"
   },
   "source": [
    "9.What is the earliest and latest date in our dataset?"
   ]
  },
  {
   "cell_type": "code",
   "execution_count": 11,
   "metadata": {
    "colab": {},
    "colab_type": "code",
    "id": "gV_u3A4lPhU6"
   },
   "outputs": [
    {
     "name": "stdout",
     "output_type": "stream",
     "text": [
      "Min: 2017-06-10 00:00:00, Max: 2017-06-16 23:59:54\n"
     ]
    }
   ],
   "source": [
    "print('Min: {}, Max: {}'.format(min(june17.time), max(june17.time)))"
   ]
  },
  {
   "cell_type": "markdown",
   "metadata": {
    "colab_type": "text",
    "id": "LZT4y83fPhU8"
   },
   "source": [
    "10.If we wanted to only look at the 34st Street Penn Station stop on 6/12/2017, what would we type?"
   ]
  },
  {
   "cell_type": "code",
   "execution_count": 12,
   "metadata": {
    "colab": {},
    "colab_type": "code",
    "id": "F6LMCUSFPhU9"
   },
   "outputs": [
    {
     "data": {
      "text/html": [
       "<div>\n",
       "<style scoped>\n",
       "    .dataframe tbody tr th:only-of-type {\n",
       "        vertical-align: middle;\n",
       "    }\n",
       "\n",
       "    .dataframe tbody tr th {\n",
       "        vertical-align: top;\n",
       "    }\n",
       "\n",
       "    .dataframe thead th {\n",
       "        text-align: right;\n",
       "    }\n",
       "</style>\n",
       "<table border=\"1\" class=\"dataframe\">\n",
       "  <thead>\n",
       "    <tr style=\"text-align: right;\">\n",
       "      <th></th>\n",
       "      <th>c/a</th>\n",
       "      <th>unit</th>\n",
       "      <th>scp</th>\n",
       "      <th>station</th>\n",
       "      <th>linename</th>\n",
       "      <th>division</th>\n",
       "      <th>date</th>\n",
       "      <th>time</th>\n",
       "      <th>desc</th>\n",
       "      <th>entries</th>\n",
       "      <th>exits</th>\n",
       "    </tr>\n",
       "  </thead>\n",
       "  <tbody>\n",
       "    <tr>\n",
       "      <th>49612</th>\n",
       "      <td>N067</td>\n",
       "      <td>R012</td>\n",
       "      <td>00-00-00</td>\n",
       "      <td>34 ST-PENN STA</td>\n",
       "      <td>ACE</td>\n",
       "      <td>IND</td>\n",
       "      <td>2017-06-12</td>\n",
       "      <td>2017-06-12 00:00:00</td>\n",
       "      <td>REGULAR</td>\n",
       "      <td>1829493</td>\n",
       "      <td>1553798</td>\n",
       "    </tr>\n",
       "    <tr>\n",
       "      <th>49613</th>\n",
       "      <td>N067</td>\n",
       "      <td>R012</td>\n",
       "      <td>00-00-00</td>\n",
       "      <td>34 ST-PENN STA</td>\n",
       "      <td>ACE</td>\n",
       "      <td>IND</td>\n",
       "      <td>2017-06-12</td>\n",
       "      <td>2017-06-12 04:00:00</td>\n",
       "      <td>REGULAR</td>\n",
       "      <td>1829495</td>\n",
       "      <td>1553801</td>\n",
       "    </tr>\n",
       "    <tr>\n",
       "      <th>49614</th>\n",
       "      <td>N067</td>\n",
       "      <td>R012</td>\n",
       "      <td>00-00-00</td>\n",
       "      <td>34 ST-PENN STA</td>\n",
       "      <td>ACE</td>\n",
       "      <td>IND</td>\n",
       "      <td>2017-06-12</td>\n",
       "      <td>2017-06-12 08:00:00</td>\n",
       "      <td>REGULAR</td>\n",
       "      <td>1829676</td>\n",
       "      <td>1553947</td>\n",
       "    </tr>\n",
       "    <tr>\n",
       "      <th>49615</th>\n",
       "      <td>N067</td>\n",
       "      <td>R012</td>\n",
       "      <td>00-00-00</td>\n",
       "      <td>34 ST-PENN STA</td>\n",
       "      <td>ACE</td>\n",
       "      <td>IND</td>\n",
       "      <td>2017-06-12</td>\n",
       "      <td>2017-06-12 12:00:00</td>\n",
       "      <td>REGULAR</td>\n",
       "      <td>1829944</td>\n",
       "      <td>1554414</td>\n",
       "    </tr>\n",
       "    <tr>\n",
       "      <th>49616</th>\n",
       "      <td>N067</td>\n",
       "      <td>R012</td>\n",
       "      <td>00-00-00</td>\n",
       "      <td>34 ST-PENN STA</td>\n",
       "      <td>ACE</td>\n",
       "      <td>IND</td>\n",
       "      <td>2017-06-12</td>\n",
       "      <td>2017-06-12 16:00:00</td>\n",
       "      <td>REGULAR</td>\n",
       "      <td>1829981</td>\n",
       "      <td>1554571</td>\n",
       "    </tr>\n",
       "  </tbody>\n",
       "</table>\n",
       "</div>"
      ],
      "text/plain": [
       "        c/a  unit       scp         station linename division       date  \\\n",
       "49612  N067  R012  00-00-00  34 ST-PENN STA      ACE      IND 2017-06-12   \n",
       "49613  N067  R012  00-00-00  34 ST-PENN STA      ACE      IND 2017-06-12   \n",
       "49614  N067  R012  00-00-00  34 ST-PENN STA      ACE      IND 2017-06-12   \n",
       "49615  N067  R012  00-00-00  34 ST-PENN STA      ACE      IND 2017-06-12   \n",
       "49616  N067  R012  00-00-00  34 ST-PENN STA      ACE      IND 2017-06-12   \n",
       "\n",
       "                     time     desc  entries    exits  \n",
       "49612 2017-06-12 00:00:00  REGULAR  1829493  1553798  \n",
       "49613 2017-06-12 04:00:00  REGULAR  1829495  1553801  \n",
       "49614 2017-06-12 08:00:00  REGULAR  1829676  1553947  \n",
       "49615 2017-06-12 12:00:00  REGULAR  1829944  1554414  \n",
       "49616 2017-06-12 16:00:00  REGULAR  1829981  1554571  "
      ]
     },
     "execution_count": 12,
     "metadata": {},
     "output_type": "execute_result"
    }
   ],
   "source": [
    "june17[(june17.station == '34 ST-PENN STA') & (june17.date == dt(2017,6,12))].head()"
   ]
  },
  {
   "cell_type": "markdown",
   "metadata": {
    "colab_type": "text",
    "id": "Nn50RQAgPhU_"
   },
   "source": [
    "11.Create a dictionary called bigDict. It should contain a nested set of keys and values. The outermost key should be the tuple (C/A,UNIT,STATION) and its value should itself be a dictionary with the SCP as the key and a list of (TIME, EXITS) tuples as its values. The purpose of this section is to prepare data for later uses. It should take a little while to finish running."
   ]
  },
  {
   "cell_type": "code",
   "execution_count": 13,
   "metadata": {
    "colab": {},
    "colab_type": "code",
    "id": "BHlTC7_yPhVA"
   },
   "outputs": [],
   "source": [
    "bigDict = {}\n",
    "for index, row in june17.iterrows():\n",
    "    bigDict[(row['c/a'],row['unit'],row['station'])] = bigDict.get((row['c/a'],row['unit'],row['station']), {}) # if no dictionary has been formed as a key for a certain iD, this will create one\n",
    "    bigDict[(row['c/a'],row['unit'],row['station'])][row['scp']] = bigDict[(row['c/a'],row['unit'],row['station'])].get(row['scp'], []) + [(row['time'], row['exits'])] #this will add the scp data to the dictionary"
   ]
  },
  {
   "cell_type": "markdown",
   "metadata": {
    "colab_type": "text",
    "id": "qt7jRerOPhVC"
   },
   "source": [
    "12.As an example, use the bigDict to view all of the turnstile data located at the('A037', 'R170', '14 ST-UNION SQ') area:"
   ]
  },
  {
   "cell_type": "code",
   "execution_count": 14,
   "metadata": {
    "colab": {},
    "colab_type": "code",
    "id": "ZSuarWASPhVC"
   },
   "outputs": [
    {
     "name": "stdout",
     "output_type": "stream",
     "text": [
      "{'05-00-00': [(Timestamp('2017-06-10 01:00:00'), 30866), (Timestamp('2017-06-10 05:00:00'), 30892), (Timestamp('2017-06-10 09:00:00'), 31064), (Timestamp('2017-06-10 13:00:00'), 31714), (Timestamp('2017-06-10 17:00:00'), 32323), (Timestamp('2017-06-10 21:00:00'), 32825), (Timestamp('2017-06-11 01:00:00'), 33068), (Timestamp('2017-06-11 05:00:00'), 33115), (Timestamp('2017-06-11 09:00:00'), 33214), (Timestamp('2017-06-11 13:00:00'), 33649), (Timestamp('2017-06-11 17:00:00'), 34137), (Timestamp('2017-06-11 21:00:00'), 34527), (Timestamp('2017-06-12 01:00:00'), 34667), (Timestamp('2017-06-12 05:00:00'), 34684), (Timestamp('2017-06-12 09:00:00'), 35349), (Timestamp('2017-06-12 13:00:00'), 36274), (Timestamp('2017-06-12 17:00:00'), 36710), (Timestamp('2017-06-12 21:00:00'), 36993), (Timestamp('2017-06-13 01:00:00'), 37093), (Timestamp('2017-06-13 05:00:00'), 37105), (Timestamp('2017-06-13 09:00:00'), 37870), (Timestamp('2017-06-13 13:00:00'), 38835), (Timestamp('2017-06-13 17:00:00'), 39284), (Timestamp('2017-06-13 21:00:00'), 39426), (Timestamp('2017-06-14 01:00:00'), 39524), (Timestamp('2017-06-14 05:00:00'), 39534), (Timestamp('2017-06-14 09:00:00'), 40215), (Timestamp('2017-06-14 13:00:00'), 41212), (Timestamp('2017-06-14 17:00:00'), 41720), (Timestamp('2017-06-14 21:00:00'), 42153), (Timestamp('2017-06-15 01:00:00'), 42289), (Timestamp('2017-06-15 05:00:00'), 42308), (Timestamp('2017-06-15 09:00:00'), 43034), (Timestamp('2017-06-15 13:00:00'), 43987), (Timestamp('2017-06-15 17:00:00'), 44660), (Timestamp('2017-06-15 21:00:00'), 45019), (Timestamp('2017-06-16 01:00:00'), 45153), (Timestamp('2017-06-16 05:00:00'), 45171), (Timestamp('2017-06-16 09:00:00'), 45859), (Timestamp('2017-06-16 13:00:00'), 46930), (Timestamp('2017-06-16 17:00:00'), 47432), (Timestamp('2017-06-16 21:00:00'), 47802)], '05-00-01': [(Timestamp('2017-06-10 01:00:00'), 1039398), (Timestamp('2017-06-10 05:00:00'), 1039448), (Timestamp('2017-06-10 09:00:00'), 1039614), (Timestamp('2017-06-10 13:00:00'), 1040090), (Timestamp('2017-06-10 17:00:00'), 1040547), (Timestamp('2017-06-10 21:00:00'), 1040924), (Timestamp('2017-06-11 01:00:00'), 1041117), (Timestamp('2017-06-11 05:00:00'), 1041167), (Timestamp('2017-06-11 09:00:00'), 1041263), (Timestamp('2017-06-11 13:00:00'), 1041665), (Timestamp('2017-06-11 17:00:00'), 1042047), (Timestamp('2017-06-11 21:00:00'), 1042319), (Timestamp('2017-06-12 01:00:00'), 1042422), (Timestamp('2017-06-12 05:00:00'), 1042435), (Timestamp('2017-06-12 09:00:00'), 1042946), (Timestamp('2017-06-12 13:00:00'), 1043634), (Timestamp('2017-06-12 17:00:00'), 1043985), (Timestamp('2017-06-12 21:00:00'), 1044270), (Timestamp('2017-06-13 01:00:00'), 1044354), (Timestamp('2017-06-13 05:00:00'), 1044373), (Timestamp('2017-06-13 09:00:00'), 1044885), (Timestamp('2017-06-13 13:00:00'), 1045586), (Timestamp('2017-06-13 17:00:00'), 1045908), (Timestamp('2017-06-13 21:00:00'), 1046021), (Timestamp('2017-06-14 01:00:00'), 1046092), (Timestamp('2017-06-14 05:00:00'), 1046112), (Timestamp('2017-06-14 09:00:00'), 1046639), (Timestamp('2017-06-14 13:00:00'), 1047350), (Timestamp('2017-06-14 17:00:00'), 1047766), (Timestamp('2017-06-14 21:00:00'), 1048036), (Timestamp('2017-06-15 01:00:00'), 1048155), (Timestamp('2017-06-15 05:00:00'), 1048172), (Timestamp('2017-06-15 09:00:00'), 1048695), (Timestamp('2017-06-15 13:00:00'), 1049419), (Timestamp('2017-06-15 17:00:00'), 1049871), (Timestamp('2017-06-15 21:00:00'), 1050204), (Timestamp('2017-06-16 01:00:00'), 1050297), (Timestamp('2017-06-16 05:00:00'), 1050319), (Timestamp('2017-06-16 13:00:00'), 1051339), (Timestamp('2017-06-16 17:00:00'), 1051758), (Timestamp('2017-06-16 21:00:00'), 1052032)], '05-00-02': [(Timestamp('2017-06-10 01:00:00'), 1084777), (Timestamp('2017-06-10 05:00:00'), 1084800), (Timestamp('2017-06-10 09:00:00'), 1084921), (Timestamp('2017-06-10 13:00:00'), 1085201), (Timestamp('2017-06-10 17:00:00'), 1085446), (Timestamp('2017-06-10 21:00:00'), 1085615), (Timestamp('2017-06-11 01:00:00'), 1085739), (Timestamp('2017-06-11 05:00:00'), 1085762), (Timestamp('2017-06-11 09:00:00'), 1085846), (Timestamp('2017-06-11 13:00:00'), 1086056), (Timestamp('2017-06-11 17:00:00'), 1086276), (Timestamp('2017-06-11 21:00:00'), 1086409), (Timestamp('2017-06-12 01:00:00'), 1086456), (Timestamp('2017-06-12 05:00:00'), 1086469), (Timestamp('2017-06-12 09:00:00'), 1086791), (Timestamp('2017-06-12 13:00:00'), 1087216), (Timestamp('2017-06-12 17:00:00'), 1087428), (Timestamp('2017-06-12 21:00:00'), 1087615), (Timestamp('2017-06-13 01:00:00'), 1087687), (Timestamp('2017-06-13 05:00:00'), 1087704), (Timestamp('2017-06-13 09:00:00'), 1088031), (Timestamp('2017-06-13 13:00:00'), 1088460), (Timestamp('2017-06-13 17:00:00'), 1088627), (Timestamp('2017-06-13 21:00:00'), 1088730), (Timestamp('2017-06-14 01:00:00'), 1088766), (Timestamp('2017-06-14 05:00:00'), 1088780), (Timestamp('2017-06-14 09:00:00'), 1089159), (Timestamp('2017-06-14 13:00:00'), 1089645), (Timestamp('2017-06-14 17:00:00'), 1089869), (Timestamp('2017-06-14 21:00:00'), 1090044), (Timestamp('2017-06-15 01:00:00'), 1090130), (Timestamp('2017-06-15 05:00:00'), 1090140), (Timestamp('2017-06-15 09:00:00'), 1090465), (Timestamp('2017-06-15 13:00:00'), 1090836), (Timestamp('2017-06-15 17:00:00'), 1091072), (Timestamp('2017-06-15 21:00:00'), 1091273), (Timestamp('2017-06-16 01:00:00'), 1091338), (Timestamp('2017-06-16 05:00:00'), 1091355), (Timestamp('2017-06-16 09:00:00'), 1091695), (Timestamp('2017-06-16 13:00:00'), 1092162), (Timestamp('2017-06-16 17:00:00'), 1092410), (Timestamp('2017-06-16 21:00:00'), 1092586)], '05-00-03': [(Timestamp('2017-06-10 01:00:00'), 3893659), (Timestamp('2017-06-10 05:00:00'), 3893666), (Timestamp('2017-06-10 09:00:00'), 3893697), (Timestamp('2017-06-10 13:00:00'), 3893784), (Timestamp('2017-06-10 17:00:00'), 3893875), (Timestamp('2017-06-10 21:00:00'), 3893963), (Timestamp('2017-06-11 01:00:00'), 3893996), (Timestamp('2017-06-11 05:00:00'), 3894011), (Timestamp('2017-06-11 09:00:00'), 3894033), (Timestamp('2017-06-11 13:00:00'), 3894104), (Timestamp('2017-06-11 17:00:00'), 3894188), (Timestamp('2017-06-11 21:00:00'), 3894252), (Timestamp('2017-06-12 01:00:00'), 3894273), (Timestamp('2017-06-12 05:00:00'), 3894275), (Timestamp('2017-06-12 09:00:00'), 3894364), (Timestamp('2017-06-12 13:00:00'), 3894533), (Timestamp('2017-06-12 17:00:00'), 3894636), (Timestamp('2017-06-12 21:00:00'), 3894696), (Timestamp('2017-06-13 01:00:00'), 3894737), (Timestamp('2017-06-13 05:00:00'), 3894739), (Timestamp('2017-06-13 09:00:00'), 3894848), (Timestamp('2017-06-13 13:00:00'), 3895000), (Timestamp('2017-06-13 17:00:00'), 3895071), (Timestamp('2017-06-13 21:00:00'), 3895108), (Timestamp('2017-06-14 01:00:00'), 3895127), (Timestamp('2017-06-14 05:00:00'), 3895133), (Timestamp('2017-06-14 09:00:00'), 3895217), (Timestamp('2017-06-14 13:00:00'), 3895344), (Timestamp('2017-06-14 17:00:00'), 3895439), (Timestamp('2017-06-14 21:00:00'), 3895510), (Timestamp('2017-06-15 01:00:00'), 3895547), (Timestamp('2017-06-15 05:00:00'), 3895551), (Timestamp('2017-06-15 09:00:00'), 3895607), (Timestamp('2017-06-15 13:00:00'), 3895725), (Timestamp('2017-06-15 17:00:00'), 3895816), (Timestamp('2017-06-15 21:00:00'), 3895881), (Timestamp('2017-06-16 01:00:00'), 3895918), (Timestamp('2017-06-16 05:00:00'), 3895924), (Timestamp('2017-06-16 09:00:00'), 3896022), (Timestamp('2017-06-16 13:00:00'), 3896170), (Timestamp('2017-06-16 17:00:00'), 3896235), (Timestamp('2017-06-16 21:00:00'), 3896310)]}\n"
     ]
    }
   ],
   "source": [
    "print(bigDict[('A037', 'R170', '14 ST-UNION SQ')])"
   ]
  },
  {
   "cell_type": "markdown",
   "metadata": {
    "colab_type": "text",
    "id": "zRotAgYHPhVF"
   },
   "source": [
    "13.Create a function called inspection that takes in the (C/A,UNIT,STATION) tuple and SCP value and plots the exit counter data versus time. \n",
    "\n",
    "For example, the input of \n",
    "```python\n",
    "inspection(('A037', 'R170', '14 ST-UNION SQ'), '05-00-00')\n",
    "```\n",
    "should produce an upward trending plot."
   ]
  },
  {
   "cell_type": "code",
   "execution_count": 15,
   "metadata": {
    "colab": {},
    "colab_type": "code",
    "id": "GzHd5fJbPhVG"
   },
   "outputs": [
    {
     "data": {
      "image/png": "[encoded data removed]",
      "text/plain": [
       "<Figure size 432x288 with 1 Axes>"
      ]
     },
     "metadata": {},
     "output_type": "display_data"
    }
   ],
   "source": [
    "def inspection(iD, scp):\n",
    "    '''\n",
    "    This function takes in a (C/A,UNIT,STATION) tuple and an SCP and plots the exit tally vs the day.\n",
    "    '''\n",
    "    exits = [count for time, count in bigDict[iD][scp]]\n",
    "    times = [time for time, count in bigDict[iD][scp]]\n",
    "    plt.plot(times, exits)\n",
    "    plt.xlabel('Time')\n",
    "    plt.ylabel('Exit Tally')\n",
    "    plt.title('Exits vs. Time for {}, {}'.format(iD, scp))\n",
    "    plt.xticks(rotation=45)\n",
    "    \n",
    "\n",
    "inspection(('A037', 'R170', '14 ST-UNION SQ'), '05-00-00')"
   ]
  },
  {
   "cell_type": "markdown",
   "metadata": {
    "colab_type": "text",
    "id": "4PvO-TRJPhVI"
   },
   "source": [
    "## Finding Data Errors\n",
    "14.Due to bugs in MTA data, we will need to remove \"incorrect\" data. First, find the incorrect data by figuring out which turnstile counters aren't going strictly upwards. How many of these incorrect data values are there? Create a smaller dictionary callled \"trouble\" that contains the troublesome data from the bigDict."
   ]
  },
  {
   "cell_type": "code",
   "execution_count": 17,
   "metadata": {
    "colab": {},
    "colab_type": "code",
    "id": "xp_22cNoPhVJ"
   },
   "outputs": [
    {
     "data": {
      "text/plain": [
       "False"
      ]
     },
     "execution_count": 17,
     "metadata": {},
     "output_type": "execute_result"
    }
   ],
   "source": [
    "def is_trouble(iD, scp):\n",
    "    '''\n",
    "    This function takes in a (C/A,UNIT,STATION) tuple and an SCP returns False if the data is strictly increasing.\n",
    "    If the data is not strictly increasing it will return True.\n",
    "    '''\n",
    "    exits = [count for time, count in bigDict[iD][scp]]\n",
    "    sorted_exits = sorted(exits)\n",
    "    if exits == sorted_exits: # if the sorted list of counts is not equal to the original list, you know that some \n",
    "        return False # data had to be moved around and that it wasn't in a strictly increasing order in the\n",
    "    return True # first place\n",
    "\n",
    "trouble = {}\n",
    "for iD in bigDict:\n",
    "    for scp in bigDict[iD]:\n",
    "        if is_trouble(iD, scp):\n",
    "            trouble[iD] = trouble.get(iD, {})\n",
    "            trouble[iD][scp] = bigDict[iD][scp]\n",
    "            \n",
    "# print(trouble)\n",
    "is_trouble(('A037', 'R170', '14 ST-UNION SQ'), '05-00-00')"
   ]
  },
  {
   "cell_type": "markdown",
   "metadata": {
    "colab_type": "text",
    "id": "5ABIdqxlPhVL"
   },
   "source": [
    "15.Using the troublesome dictionary and your inspection plotting function, plot all of the troublesome data. There are several different types of errors. What do you think is causing each type?"
   ]
  },
  {
   "cell_type": "code",
   "execution_count": 18,
   "metadata": {},
   "outputs": [
    {
     "name": "stdout",
     "output_type": "stream",
     "text": [
      "dict_keys([('A011', 'R080', '57 ST-7 AV'), ('A043', 'R462', 'CANAL ST'), ('A060', 'R001', 'WHITEHALL S-FRY'), ('A069', 'R044', 'CHAMBERS ST'), ('B020', 'R263', 'AVENUE H'), ('B024', 'R211', 'KINGS HWY'), ('B025', 'R150', 'AVENUE U'), ('C021', 'R212', '59 ST'), ('D008', 'R392', '18 AV'), ('H003', 'R163', '6 AV'), ('H009', 'R235', 'BEDFORD AV'), ('JFK02', 'R535', 'HOWARD BCH JFK'), ('JFK03', 'R536', 'JFK JAMAICA CT1'), ('J034', 'R007', '104 ST'), ('K026', 'R100', 'METROPOLITAN AV'), ('N016A', 'R296', '163 ST-AMSTERDM'), ('N029', 'R333', '116 ST'), ('N062', 'R011', '42 ST-PORT AUTH'), ('N078', 'R175', '14 ST'), ('N100', 'R252', 'HIGH ST'), ('N111', 'R284', 'CLINTON-WASH AV'), ('N138', 'R355', '111 ST'), ('N203', 'R195', '161/YANKEE STAD'), ('N311', 'R339', '36 ST'), ('N327', 'R254', 'GRAND-NEWTOWN'), ('N334B', 'R341', '75 AV'), ('N501', 'R020', '47-50 STS ROCK'), ('N506', 'R022', '34 ST-HERALD SQ'), ('N520', 'R240', 'GRAND ST'), ('N539A', 'R288', '7 AV'), ('N551', 'R421', 'AVENUE I'), ('N601', 'R319', 'LEXINGTON AV/63'), ('N606', 'R025', 'JAMAICA CENTER'), ('PTH01', 'R549', 'NEWARK HW BMEBE'), ('PTH03', 'R552', 'JOURNAL SQUARE'), ('PTH07', 'R550', 'CITY / BUS'), ('PTH11', 'R545', '14TH STREET'), ('PTH16', 'R550', 'LACKAWANNA'), ('PTH18', 'R549', 'NEWARK BM BW'), ('R127', 'R105', '14 ST'), ('R161A', 'R452', '72 ST'), ('R206', 'R014', 'FULTON ST'), ('R227', 'R131', '23 ST'), ('R240', 'R047', 'GRD CNTRL-42 ST'), ('R241A', 'R048', 'GRD CNTRL-42 ST'), ('R245', 'R051', '59 ST'), ('R249', 'R179', '86 ST'), ('R322', 'R386', '174 ST'), ('R622', 'R123', 'FRANKLIN AV'), ('R646', 'R110', 'FLATBUSH AV-B.C')])\n",
      "dict_keys(['01-00-00', '01-00-03'])\n",
      "dict_keys(['00-02-00', '00-02-01'])\n",
      "dict_keys(['00-05-01'])\n"
     ]
    }
   ],
   "source": [
    "print(trouble.keys())\n",
    "\n",
    "print(trouble[('A011', 'R080', '57 ST-7 AV')].keys())\n",
    "print(trouble[('PTH07', 'R550', 'CITY / BUS')].keys())\n",
    "print(trouble[('B024', 'R211', 'KINGS HWY')].keys())"
   ]
  },
  {
   "cell_type": "code",
   "execution_count": 19,
   "metadata": {},
   "outputs": [
    {
     "data": {
      "image/png": "[encoded data removed]",
      "text/plain": [
       "<Figure size 432x288 with 1 Axes>"
      ]
     },
     "metadata": {},
     "output_type": "display_data"
    }
   ],
   "source": [
    "inspection(('A011', 'R080', '57 ST-7 AV'), '01-00-00') # Turnstile malfunctions and begins to \n",
    "# count backwards instead on forwards"
   ]
  },
  {
   "cell_type": "code",
   "execution_count": 20,
   "metadata": {},
   "outputs": [
    {
     "data": {
      "image/png": "[encoded data removed]",
      "text/plain": [
       "<Figure size 432x288 with 1 Axes>"
      ]
     },
     "metadata": {},
     "output_type": "display_data"
    }
   ],
   "source": [
    "inspection(('PTH07', 'R550', 'CITY / BUS'), '00-02-00') # Issue with data transfer?"
   ]
  },
  {
   "cell_type": "code",
   "execution_count": 21,
   "metadata": {},
   "outputs": [
    {
     "data": {
      "image/png": "[encoded data removed]",
      "text/plain": [
       "<Figure size 432x288 with 1 Axes>"
      ]
     },
     "metadata": {},
     "output_type": "display_data"
    }
   ],
   "source": [
    "inspection(('PTH03', 'R552', 'JOURNAL SQUARE'), '00-01-00') # Turnstile reaces maximum toll and number is reset"
   ]
  },
  {
   "cell_type": "markdown",
   "metadata": {
    "colab_type": "text",
    "id": "ctWRbA6NPhVR"
   },
   "source": [
    "## Data Cleanup\n",
    "There are three types of mistakes: decreasing, garbage values, and turnstile resets."
   ]
  },
  {
   "cell_type": "markdown",
   "metadata": {
    "colab_type": "text",
    "id": "yYQ1t9ELPhVS"
   },
   "source": [
    "#### Mistake Type I: Monotone but Decreasing - To fix this, we reflect the data. \n",
    "\n",
    "16.Run the cell below to fix it:"
   ]
  },
  {
   "cell_type": "code",
   "execution_count": 22,
   "metadata": {
    "colab": {},
    "colab_type": "code",
    "id": "RZrRM7QZPhVT",
    "outputId": "6cec83ae-f11c-49a8-d83f-1eebc3812690"
   },
   "outputs": [],
   "source": [
    "def isMonotoneDecrease(tup):\n",
    "    '''Input: Tuple of (Station,SCP). \n",
    "    Output: True if this SCP has monotone property, but decreasing, False otherwise.'''\n",
    "    n = len(bigDict[tup[0]][tup[1]])\n",
    "    for i in range(n-1):\n",
    "        if(bigDict[tup[0]][tup[1]][i+1][1]>bigDict[tup[0]][tup[1]][i][1]):\n",
    "            return False\n",
    "    return True\n",
    "\n",
    "def fixMonotoneDecrease(tup):\n",
    "    '''reflects the data to fix it'''\n",
    "    n = len(bigDict[tup[0]][tup[1]])\n",
    "    for i in range(n):\n",
    "        bigDict[tup[0]][tup[1]][i] = (bigDict[tup[0]][tup[1]][i][0],(-1)*bigDict[tup[0]][tup[1]][i][1])\n",
    "    \n",
    "\n",
    "# monotoneDecreaseList = []\n",
    "# for k in trouble:\n",
    "#     if(isMonotoneDecrease(k)):\n",
    "#         monotoneDecreaseList.append(k)\n",
    "# print(\"Total Monotone Decrease:\",len(monotoneDecreaseList))\n",
    "# for k in monotoneDecreaseList:\n",
    "#     fixMonotoneDecrease(k)\n",
    "# print(\"Problem Fixed!\")\n",
    "\n",
    "# for k in trouble:\n",
    "#     if(isMonotoneDecrease(k)):\n",
    "#         monotoneDecreaseList.append(k)\n",
    "# print(\"Total Monotone Decrease:\",len(monotoneDecreaseList))\n",
    "# for k in monotoneDecreaseList:\n",
    "#     inspection(k[0], k[1])"
   ]
  },
  {
   "cell_type": "markdown",
   "metadata": {
    "colab_type": "text",
    "id": "rtUwUo-cPhVa"
   },
   "source": [
    "#### Mistake Type II: Garbage Value - To fix this, remove the garbage value\n",
    "\n",
    "17.Run the cell below to fix it:"
   ]
  },
  {
   "cell_type": "code",
   "execution_count": 23,
   "metadata": {
    "colab": {},
    "colab_type": "code",
    "id": "Yosg1ex6PhVa",
    "outputId": "fe3ac72a-5246-46ed-cbf5-ce7076af2185"
   },
   "outputs": [],
   "source": [
    "def garbageEliminator(tup):\n",
    "    '''removes nonsensical isolated points'''\n",
    "    n = len(bigDict[tup[0]][tup[1]])\n",
    "    toDel = []\n",
    "    for i in range(1,n-1):\n",
    "        if((bigDict[tup[0]][tup[1]][i-1][1]>bigDict[tup[0]][tup[1]][i+1][1])):\n",
    "            continue\n",
    "        if((bigDict[tup[0]][tup[1]][i-1][1]<=bigDict[tup[0]][tup[1]][i][1]) and (bigDict[tup[0]][tup[1]][i][1]<=bigDict[tup[0]][tup[1]][i+1][1])):\n",
    "            continue\n",
    "        toDel.append(bigDict[tup[0]][tup[1]][i])\n",
    "    #Deletion Process\n",
    "    if(len(toDel)==0):\n",
    "        return 0\n",
    "    for k in toDel:\n",
    "        bigDict[tup[0]][tup[1]].remove(k)\n",
    "    return 1\n",
    "\n",
    "\n",
    "#Driver\n",
    "# cnt = 0\n",
    "# healList = []\n",
    "# for k in trouble:\n",
    "#     if(garbageEliminator(k)):\n",
    "#         healList.append(k)\n",
    "# print(\"Garbage Removed:\",len(healList))\n",
    "# for k in healList:\n",
    "#     inspection(k[0], k[1])"
   ]
  },
  {
   "cell_type": "markdown",
   "metadata": {
    "colab_type": "text",
    "id": "mwwLsrOlPhVd"
   },
   "source": [
    "#### Mistake Type III: Turnstile Reset - To fix this, shift the data upwards.\n",
    "\n",
    "18.Run the cell below to fix it:"
   ]
  },
  {
   "cell_type": "code",
   "execution_count": 24,
   "metadata": {
    "colab": {},
    "colab_type": "code",
    "id": "_Q9Uvl-APhVd",
    "outputId": "e268af6a-263e-48a8-b44e-e883ba227697"
   },
   "outputs": [],
   "source": [
    "def dealingWithReset(tup):\n",
    "    '''for counters that are reset, we fix the data by shifting it upwards'''\n",
    "    sta = tup[0]\n",
    "    tsl = tup[1]\n",
    "    n = len(bigDict[sta][tsl])\n",
    "    #Detecting Part\n",
    "    resetPoint = [] # it means (i,i+1) is reset\n",
    "    resetSet = []\n",
    "    for i in range(1,n-2):\n",
    "        if(bigDict[sta][tsl][i][1]<=bigDict[sta][tsl][i+1][1]):\n",
    "            continue #We don't need to change this one\n",
    "        resetPoint.append(i)\n",
    "    #Fixing Part\n",
    "    resetSet = set(resetPoint)\n",
    "    cumulative = 0\n",
    "    for i in range(n-2):\n",
    "        if(i not in resetSet):\n",
    "            bigDict[sta][tsl][i] = (bigDict[sta][tsl][i][0],bigDict[sta][tsl][i][1]+cumulative)\n",
    "            continue\n",
    "        #Problem\n",
    "        expected = (bigDict[sta][tsl][i][1]-bigDict[sta][tsl][i-1][1])+ (bigDict[sta][tsl][i+2][1]-bigDict[sta][tsl][i+1][1])\n",
    "        expected = int(expected/2)\n",
    "        shift = (bigDict[sta][tsl][i][1]+expected)-bigDict[sta][tsl][i+1][1]\n",
    "        cumulative = shift\n",
    "    for i in range(n-2,n):\n",
    "        bigDict[sta][tsl][i] = (bigDict[sta][tsl][i][0],bigDict[sta][tsl][i][1]+cumulative)\n",
    "    #Done!\n",
    "    \n",
    "#Test Usage\n",
    "# inspection(('JFK03', 'R536', 'JFK JAMAICA CT1'), '00-03-00')\n",
    "# dealingWithReset((('JFK03', 'R536', 'JFK JAMAICA CT1'), '00-03-00'))\n",
    "# print(\"Cleaned\")\n",
    "# inspection(('JFK03', 'R536', 'JFK JAMAICA CT1'), '00-03-00')"
   ]
  },
  {
   "cell_type": "markdown",
   "metadata": {
    "colab_type": "text",
    "id": "A4YofuN7PhVh"
   },
   "source": [
    "## Overall Cleaning Process\n",
    "19.This next cell does all of the previous cleanup in one cell. Run the cell below:"
   ]
  },
  {
   "cell_type": "code",
   "execution_count": 25,
   "metadata": {
    "colab": {},
    "colab_type": "code",
    "id": "PmQDV_w6PhVi",
    "outputId": "164fc903-a25f-424d-9ea4-541062039093"
   },
   "outputs": [
    {
     "data": {
      "image/png": "[encoded data removed]",
      "text/plain": [
       "<Figure size 432x288 with 1 Axes>"
      ]
     },
     "metadata": {},
     "output_type": "display_data"
    }
   ],
   "source": [
    "toClean = {}\n",
    "for st,stv in bigDict.items():\n",
    "    for scp,lst in stv.items():\n",
    "        #Cleaning in Each LIST of turnstile\n",
    "        toDel = []\n",
    "        n = len(lst)\n",
    "        lst.sort()\n",
    "        for i in range(1,n-1):\n",
    "            if(lst[i-1][1]<=lst[i][1] and lst[i][1]<=lst[i+1][1]): #What we expected Data to be (Non-Decreasing)\n",
    "                continue\n",
    "\n",
    "            key = (st,scp)\n",
    "            toClean[key] = trouble.get(key,0)+1\n",
    "            \n",
    "for k in toClean.keys():\n",
    "    if(isMonotoneDecrease(k)):\n",
    "        fixMonotoneDecrease(k)\n",
    "    garbageEliminator(k)\n",
    "    dealingWithReset(k)\n",
    "    inspection(k[0], k[1])"
   ]
  },
  {
   "cell_type": "markdown",
   "metadata": {
    "colab_type": "text",
    "id": "B-eaK9XNPhVk"
   },
   "source": [
    "20.Which troublesome stations are left?"
   ]
  },
  {
   "cell_type": "code",
   "execution_count": 26,
   "metadata": {},
   "outputs": [
    {
     "name": "stdout",
     "output_type": "stream",
     "text": [
      "Trouble List:  2\n",
      "(('PTH11', 'R545', '14TH STREET'), '00-00-03') 3\n",
      "(('R240', 'R047', 'GRD CNTRL-42 ST'), '00-00-01') 1\n"
     ]
    }
   ],
   "source": [
    "trouble = {}\n",
    "for st,stv in bigDict.items():\n",
    "    for scp,lst in stv.items():\n",
    "        #Cleaning in Each LIST of turnstile\n",
    "        toDel = []\n",
    "        n = len(lst)\n",
    "        lst.sort()\n",
    "        for i in range(1,n-1):\n",
    "            if(lst[i-1][1]<=lst[i][1] and lst[i][1]<=lst[i+1][1]): #What we expected Data to be (Non-Decreasing)\n",
    "                continue\n",
    "                \n",
    "            key = (st,scp)\n",
    "            trouble[key] = trouble.get(key,0)+1\n",
    "print(\"Trouble List: \",len(trouble.keys()))\n",
    "for k,v in trouble.items():\n",
    "    print(k,v)"
   ]
  },
  {
   "cell_type": "markdown",
   "metadata": {
    "colab_type": "text",
    "id": "3AKy82ddPhVo"
   },
   "source": [
    "21.Delete these two keys from bigDict manually:"
   ]
  },
  {
   "cell_type": "code",
   "execution_count": 27,
   "metadata": {
    "colab": {},
    "colab_type": "code",
    "id": "J-Qbu3zbPhVq"
   },
   "outputs": [],
   "source": [
    "del bigDict[('PTH11', 'R545', '14TH STREET')]['00-00-03']\n",
    "del bigDict[('R240', 'R047', 'GRD CNTRL-42 ST')]['00-00-01']"
   ]
  },
  {
   "cell_type": "markdown",
   "metadata": {
    "colab_type": "text",
    "id": "mYiZoVzLPhVs"
   },
   "source": [
    "22.The data is now all cleaned, so let's save it so that we don't have to run all of the above code every time. Use the pickle package to save bigDict as an \"MTAdict.pkl\" file."
   ]
  },
  {
   "cell_type": "code",
   "execution_count": 28,
   "metadata": {
    "colab": {},
    "colab_type": "code",
    "id": "BaH-GS-5PhVt"
   },
   "outputs": [],
   "source": [
    "import pickle\n",
    "\n",
    "with open('MTAdict.pkl', 'wb') as handle:\n",
    "    pickle.dump(bigDict, handle, protocol=pickle.HIGHEST_PROTOCOL)"
   ]
  },
  {
   "cell_type": "markdown",
   "metadata": {
    "colab_type": "text",
    "id": "KQeRQaOtPhVw"
   },
   "source": [
    "# --At this point, the data is ready to use and so we are ready for data analysis.--\n",
    "23.Let's read the cleaned data file back in and save it as bigDict."
   ]
  },
  {
   "cell_type": "code",
   "execution_count": 29,
   "metadata": {
    "colab": {},
    "colab_type": "code",
    "id": "gll6KAACPhVw"
   },
   "outputs": [],
   "source": [
    "with open('MTAdict.pkl', 'rb') as handle:\n",
    "    bigDict = pickle.load(handle)"
   ]
  },
  {
   "cell_type": "markdown",
   "metadata": {
    "colab_type": "text",
    "id": "QqgMHi0GPhVy"
   },
   "source": [
    "24.Create a function called turnstileRiders that takes in a single turnstile's date/exit info and a start and endtime (in datetime format) and returns the number of riders through that turnstile within that time period. As an extension, you may want to use a linear approximation in the case of incomplete information. \n",
    "\n",
    "For instance, the input \n",
    "```python\n",
    "t1 = dt.strptime(\"2017-06-12 00:00:00\",\"%Y-%m-%d %H:%M:%S\")\n",
    "t2 = dt.strptime(\"2017-06-13 00:00:00\",\"%Y-%m-%d %H:%M:%S\")\n",
    "turnstileRiders(bigDict[('R204', 'R043', 'WALL ST')][\"02-00-00\"],t1,t2)\n",
    "```\n",
    "\n",
    "should output 1419 riders."
   ]
  },
  {
   "cell_type": "code",
   "execution_count": 56,
   "metadata": {
    "colab": {},
    "colab_type": "code",
    "id": "O3WxVxloPhVz"
   },
   "outputs": [
    {
     "name": "stdout",
     "output_type": "stream",
     "text": [
      "1388\n"
     ]
    }
   ],
   "source": [
    "def turnstileRiders(lis, t1, t2):\n",
    "    '''\n",
    "    This function takes in a the bigDict[(C/A,UNIT,STATION)][scp] and time one and time two. \n",
    "    It returns the net number of exits for that turnstile between the two times.\n",
    "    Both times should be in datetime format.\n",
    "    '''\n",
    "    from datetime import datetime\n",
    "    try:\n",
    "        count = 0\n",
    "        for iD in lis:\n",
    "            if count == 0 and iD[0] >= t1:\n",
    "                baseline = iD[-1] # This designates the baseline value as the first exit that is after or on t1\n",
    "                count += 1 # we chose to not have them be strictly equal to account for variability in the way\n",
    "            elif iD[0] >= t1 and iD[0] <= t2: # data was tracked over time (sometimes it took data from 1:00 not 12:00)\n",
    "                actual = iD[-1] - baseline # this defines the actual count as last count before or on t2 minus the baseline\n",
    "        return actual\n",
    "    except:\n",
    "        return 0\n",
    "\n",
    "\n",
    "t1 = dt.strptime(\"2017-06-12 00:00:00\",\"%Y-%m-%d %H:%M:%S\")\n",
    "t2 = dt.strptime(\"2017-06-13 00:00:00\",\"%Y-%m-%d %H:%M:%S\")\n",
    "print(turnstileRiders(bigDict[('R204', 'R043', 'WALL ST')][\"02-00-00\"],t1,t2))"
   ]
  },
  {
   "cell_type": "markdown",
   "metadata": {
    "colab_type": "text",
    "id": "E25eeOU3PhV2"
   },
   "source": [
    "25.Create a function called stationRiders that calls the turnstileRiders function for each turnstile in a  (C/A,UNIT,STATION) station area and tallies all of the riders through that area between two times.\n",
    "\n",
    "For example, an input of \n",
    "```python\n",
    "getStationRangeRider(bigDict[('R204', 'R043', 'WALL ST')],dt(2017,6,12,0,0,0),dt(2017,6,13,0,0,0))\n",
    "```\n",
    "should output 9507 riders."
   ]
  },
  {
   "cell_type": "code",
   "execution_count": 57,
   "metadata": {
    "colab": {},
    "colab_type": "code",
    "id": "FyVMIPztPhV2"
   },
   "outputs": [
    {
     "data": {
      "text/plain": [
       "9524"
      ]
     },
     "execution_count": 57,
     "metadata": {},
     "output_type": "execute_result"
    }
   ],
   "source": [
    "def getStationRangeRider(iD, t1, t2):\n",
    "    '''\n",
    "    This function takes in a bigDict[(C/A,UNIT,STATION)] and time one and time two.\n",
    "    It returns the net number of exits for for that iD between the two times.\n",
    "    Both times should be in datetime format.\n",
    "    '''\n",
    "    total = 0\n",
    "    for scp in iD:\n",
    "        total += turnstileRiders(iD[scp],t1,t2)\n",
    "    return total\n",
    "\n",
    "t1 = dt.strptime(\"2017-06-12 02:00:00\",\"%Y-%m-%d %H:%M:%S\")\n",
    "t2 = dt.strptime(\"2017-06-13 02:00:00\",\"%Y-%m-%d %H:%M:%S\")\n",
    "getStationRangeRider(bigDict[('R204', 'R043', 'WALL ST')],t1,t2)"
   ]
  },
  {
   "cell_type": "markdown",
   "metadata": {
    "colab_type": "text",
    "id": "Q-rMHLJOPhV5"
   },
   "source": [
    "26.There are still several station areas within a station. Make a plot of the day of the week versus the number of total station rider exits for the ENTIRE Wall St station."
   ]
  },
  {
   "cell_type": "code",
   "execution_count": 58,
   "metadata": {},
   "outputs": [
    {
     "data": {
      "text/plain": [
       "Text(0.5,1,'Wall Street')"
      ]
     },
     "execution_count": 58,
     "metadata": {},
     "output_type": "execute_result"
    },
    {
     "data": {
      "image/png": "[encoded data removed]",
      "text/plain": [
       "<Figure size 720x360 with 1 Axes>"
      ]
     },
     "metadata": {},
     "output_type": "display_data"
    }
   ],
   "source": [
    "mon,tue,wed,thu,fri,sat,sun = 0,0,0,0,0,0,0\n",
    "\n",
    "for station in bigDict.keys():\n",
    "    if station[2] == 'WALL ST':\n",
    "        sat = sat + getStationRangeRider(bigDict[station], dt(2017,6,10,2,0,0),dt(2017,6,11,2,0,0))\n",
    "        sun = sun + getStationRangeRider(bigDict[station], dt(2017,6,11,2,0,0),dt(2017,6,12,2,0,0))\n",
    "        mon = mon + getStationRangeRider(bigDict[station], dt(2017,6,12,2,0,0),dt(2017,6,13,2,0,0))\n",
    "        tue = tue + getStationRangeRider(bigDict[station], dt(2017,6,13,2,0,0),dt(2017,6,14,2,0,0))\n",
    "        wed = wed + getStationRangeRider(bigDict[station], dt(2017,6,14,2,0,0),dt(2017,6,15,2,0,0))\n",
    "        thu = thu + getStationRangeRider(bigDict[station], dt(2017,6,15,2,0,0),dt(2017,6,16,2,0,0))\n",
    "        fri = fri + getStationRangeRider(bigDict[station], dt(2017,6,16,2,0,0),dt(2017,6,16,22,0,0))\n",
    "counts = [sat, sun, mon, tue, wed, thu, fri]   \n",
    "\n",
    "days = [ dt(2017,6,10,0,0,0), \n",
    "        dt(2017,6,11,0,0,0), \n",
    "        dt(2017,6,12,0,0,0), \n",
    "        dt(2017,6,13,0,0,0), \n",
    "        dt(2017,6,14,0,0,0), \n",
    "        dt(2017,6,15,0,0,0), \n",
    "        dt(2017,6,16,0,0,0)]\n",
    "\n",
    "plt.rcParams['figure.figsize'] = [10,5]\n",
    "plt.plot(days, counts,'.')\n",
    "plt.xlabel('day')\n",
    "plt.ylabel('exits')\n",
    "plt.title('Wall Street')"
   ]
  },
  {
   "cell_type": "markdown",
   "metadata": {
    "colab_type": "text",
    "id": "OQK29674PhV7"
   },
   "source": [
    "27.Sort by busiest station areas during 6/12 midnight - 6/13 midnight in descending order by creating a list of sorted tuples:"
   ]
  },
  {
   "cell_type": "code",
   "execution_count": 59,
   "metadata": {
    "colab": {},
    "colab_type": "code",
    "id": "tw8fwI_BPhV8"
   },
   "outputs": [
    {
     "name": "stdout",
     "output_type": "stream",
     "text": [
      "(56743, ('PTH22', 'R540', 'PATH NEW WTC'))\n",
      "(53755, ('R238', 'R046', 'GRD CNTRL-42 ST'))\n",
      "(36164, ('R249', 'R179', '86 ST'))\n",
      "(35595, ('R240', 'R047', 'GRD CNTRL-42 ST'))\n",
      "(30032, ('R533', 'R055', 'FLUSHING-MAIN'))\n",
      "(28346, ('H009', 'R235', 'BEDFORD AV'))\n",
      "(27771, ('N500', 'R020', '47-50 STS ROCK'))\n",
      "(27243, ('A025', 'R023', '34 ST-HERALD SQ'))\n",
      "(26676, ('N324', 'R018', 'JKSN HT-ROOSVLT'))\n",
      "(26381, ('N506', 'R022', '34 ST-HERALD SQ'))\n",
      "(26181, ('R138', 'R293', '34 ST-PENN STA'))\n",
      "(25957, ('R221', 'R170', '14 ST-UNION SQ'))\n",
      "(25744, ('N049', 'R084', '59 ST COLUMBUS'))\n",
      "(25518, ('PTH03', 'R552', 'JOURNAL SQUARE'))\n",
      "(25365, ('N507', 'R023', '34 ST-HERALD SQ'))\n",
      "(25051, ('N063A', 'R011', '42 ST-PORT AUTH'))\n",
      "(24777, ('N083', 'R138', 'W 4 ST-WASH SQ'))\n",
      "(24729, ('A034', 'R170', '14 ST-UNION SQ'))\n",
      "(24158, ('N306', 'R017', 'LEXINGTON AV/53'))\n",
      "(23524, ('R169', 'R168', '96 ST'))\n",
      "(23309, ('R258', 'R132', '125 ST'))\n",
      "(22615, ('N501', 'R020', '47-50 STS ROCK'))\n",
      "(22407, ('R151', 'R033', 'TIMES SQ-42 ST'))\n",
      "(22112, ('N606', 'R025', 'JAMAICA CENTER'))\n",
      "(21608, ('R161A', 'R452', '72 ST'))\n",
      "(21313, ('A033', 'R170', '14 ST-UNION SQ'))\n",
      "(20671, ('A021', 'R032', 'TIMES SQ-42 ST'))\n",
      "(20555, ('R236', 'R045', 'GRD CNTRL-42 ST'))\n",
      "(20170, ('N067', 'R012', '34 ST-PENN STA'))\n",
      "(19935, ('R247', 'R178', '77 ST'))\n",
      "(19885, ('PTH06', 'R546', 'PAVONIA/NEWPORT'))\n",
      "(19868, ('PTH17', 'R541', 'THIRTY THIRD ST'))\n",
      "(19553, ('PTH04', 'R551', 'GROVE STREET'))\n",
      "(19548, ('N504', 'R021', '42 ST-BRYANT PK'))\n",
      "(19545, ('N051', 'R084', '59 ST COLUMBUS'))\n",
      "(19520, ('PTH20', 'R549', 'NEWARK HM HE'))\n",
      "(19501, ('R610', 'R057', 'ATL AV-BARCLAY'))\n",
      "(19202, ('R116', 'R030', 'CHAMBERS ST'))\n",
      "(19025, ('N605', 'R024', 'SUTPHIN-ARCHER'))\n",
      "(18592, ('N505', 'R022', '34 ST-HERALD SQ'))\n",
      "(18523, ('R135', 'R031', '34 ST-PENN STA'))\n",
      "(18522, ('R523', 'R147', '61 ST WOODSIDE'))\n",
      "(18265, ('N520', 'R240', 'GRAND ST'))\n",
      "(18200, ('N601', 'R319', 'LEXINGTON AV/63'))\n",
      "(18195, ('R206', 'R014', 'FULTON ST'))\n",
      "(17981, ('R526', 'R096', '82 ST-JACKSON H'))\n",
      "(17700, ('R528', 'R097', 'JUNCTION BLVD'))\n",
      "(17392, ('R417', 'R222', 'PARKCHESTER'))\n",
      "(17122, ('N026', 'R102', '125 ST'))\n",
      "(17061, ('R161B', 'R452', '72 ST'))\n",
      "(17029, ('R101', 'R001', 'SOUTH FERRY'))\n",
      "(16674, ('A046', 'R463', 'CANAL ST'))\n",
      "(16608, ('PTH05', 'R543', 'EXCHANGE PLACE'))\n",
      "(16591, ('R145', 'R032', 'TIMES SQ-42 ST'))\n",
      "(16543, ('R246', 'R177', '68ST-HUNTER CO'))\n",
      "(15849, ('N078', 'R175', '14 ST'))\n",
      "(15816, ('R626', 'R062', 'CROWN HTS-UTICA'))\n",
      "(15742, ('N062', 'R011', '42 ST-PORT AUTH'))\n",
      "(15647, ('PTH07', 'R550', 'CITY / BUS'))\n",
      "(15354, ('N303', 'R015', '5 AV/53 ST'))\n",
      "(15312, ('N700', 'R570', '72 ST-2 AVE'))\n",
      "(15280, ('N519', 'R461', \"B'WAY-LAFAYETTE\"))\n",
      "(15189, ('N336', 'R158', 'KEW GARDENS'))\n",
      "(15093, ('N020', 'R101', '145 ST'))\n",
      "(14966, ('R534', 'R055', 'FLUSHING-MAIN'))\n",
      "(14882, ('R143', 'R032', 'TIMES SQ-42 ST'))\n",
      "(14856, ('N073', 'R013', '34 ST-PENN STA'))\n",
      "(14822, ('R202', 'R042', 'BOWLING GREEN'))\n",
      "(14672, ('N503', 'R021', '42 ST-BRYANT PK'))\n",
      "(14386, ('A043', 'R462', 'CANAL ST'))\n",
      "(14224, ('R515', 'R095', 'ASTORIA DITMARS'))\n",
      "(14085, ('A011', 'R080', '57 ST-7 AV'))\n",
      "(14062, ('H008', 'R248', '1 AV'))\n",
      "(13957, ('R182', 'R035', '168 ST'))\n",
      "(13810, ('N305', 'R017', 'LEXINGTON AV/53'))\n",
      "(13743, ('R529', 'R208', '103 ST-CORONA'))\n",
      "(13480, ('N508', 'R453', '23 ST'))\n",
      "(13416, ('D002', 'R390', '8 AV'))\n",
      "(13176, ('R245A', 'R051', '59 ST'))\n",
      "(13093, ('N304', 'R015', '5 AV/53 ST'))\n",
      "(13089, ('R155', 'R116', '50 ST'))\n",
      "(13014, ('N062A', 'R010', '42 ST-PORT AUTH'))\n",
      "(12897, ('H001', 'R175', '8 AV'))\n",
      "(12670, ('R243', 'R049', '51 ST'))\n",
      "(12629, ('B016', 'R098', 'CHURCH AV'))\n",
      "(12430, ('R168A', 'R168', '96 ST'))\n",
      "(12378, ('N600', 'R302', '57 ST'))\n",
      "(12190, ('A069', 'R044', 'CHAMBERS ST'))\n",
      "(12187, ('C009', 'R057', 'ATL AV-BARCLAY'))\n",
      "(12174, ('N329', 'R201', 'WOODHAVEN BLVD'))\n",
      "(12048, ('R220', 'R160', 'ASTOR PL'))\n",
      "(12018, ('R252', 'R180', '103 ST'))\n",
      "(12011, ('PTH12', 'R542', 'TWENTY THIRD ST'))\n",
      "(11969, ('PTH13', 'R541', 'THIRTY ST'))\n",
      "(11948, ('N098', 'R028', 'FULTON ST'))\n",
      "(11841, ('N519A', 'R461', \"B'WAY-LAFAYETTE\"))\n",
      "(11765, ('PTH16', 'R550', 'LACKAWANNA'))\n",
      "(11708, ('R165', 'R167', '86 ST'))\n",
      "(11573, ('R501', 'R054', '5 AVE'))\n",
      "(11543, ('N501A', 'R020', '47-50 STS ROCK'))\n",
      "(11523, ('R183', 'R260', '181 ST'))\n",
      "(11486, ('R210', 'R044', 'BROOKLYN BRIDGE'))\n",
      "(11456, ('R244', 'R050', '59 ST'))\n",
      "(11427, ('N080', 'R138', 'W 4 ST-WASH SQ'))\n",
      "(11173, ('R513', 'R093', '30 AV'))\n",
      "(11164, ('A022', 'R022', '34 ST-HERALD SQ'))\n",
      "(11075, ('A060', 'R001', 'WHITEHALL S-FRY'))\n",
      "(11064, ('N335', 'R158', 'KEW GARDENS'))\n",
      "(10986, ('R550', 'R072', '34 ST-HUDSON YD'))\n",
      "(10937, ('R154', 'R116', '50 ST'))\n",
      "(10820, ('N060', 'R010', '42 ST-PORT AUTH'))\n",
      "(10776, ('N509', 'R203', '23 ST'))\n",
      "(10765, ('N301', 'R113', '7 AV'))\n",
      "(10759, ('A049', 'R088', 'CORTLANDT ST'))\n",
      "(10694, ('N095A', 'R014', 'FULTON ST'))\n",
      "(10641, ('N327', 'R254', 'GRAND-NEWTOWN'))\n",
      "(10606, ('R159', 'R164', '66 ST-LINCOLN'))\n",
      "(10553, ('A035', 'R170', '14 ST-UNION SQ'))\n",
      "(10510, ('B027', 'R136', 'SHEEPSHEAD BAY'))\n",
      "(10347, ('B019', 'R149', 'NEWKIRK PLAZA'))\n",
      "(10334, ('N607', 'R025', 'JAMAICA CENTER'))\n",
      "(10317, ('N103', 'R127', 'JAY ST-METROTEC'))\n",
      "(10243, ('R158', 'R084', '59 ST COLUMBUS'))\n",
      "(10209, ('N092', 'R029', 'CHAMBERS ST'))\n",
      "(9998, ('N094', 'R029', 'WORLD TRADE CTR'))\n",
      "(9992, ('N102', 'R127', 'JAY ST-METROTEC'))\n",
      "(9917, ('N072', 'R012', '34 ST-PENN STA'))\n",
      "(9908, ('N700A', 'R570', '72 ST-2 AVE'))\n",
      "(9749, ('R602', 'R108', 'BOROUGH HALL'))\n",
      "(9746, ('N701A', 'R571', '86 ST-2 AVE'))\n",
      "(9746, ('N089', 'R139', 'CANAL ST'))\n",
      "(9716, ('R111', 'R027', 'WALL ST'))\n",
      "(9583, ('R226', 'R131', '23 ST'))\n",
      "(9559, ('N523', 'R300', '2 AV'))\n",
      "(9522, ('B004', 'R171', '7 AV'))\n",
      "(9452, ('N323', 'R018', 'JKSN HT-ROOSVLT'))\n",
      "(9446, ('G001', 'R151', 'CONEY IS-STILLW'))\n",
      "(9420, ('R216', 'R322', 'SPRING ST'))\n",
      "(9419, ('R532H', 'R328', 'METS-WILLETS PT'))\n",
      "(9397, ('R204', 'R043', 'WALL ST'))\n",
      "(9354, ('R228', 'R143', '28 ST'))\n",
      "(9287, ('R512', 'R092', 'BROADWAY'))\n",
      "(9252, ('R601A', 'R108', 'BOROUGH HALL'))\n",
      "(9223, ('R518', 'R261', '40 ST LOWERY ST'))\n",
      "(9176, ('R185', 'R274', '191 ST'))\n",
      "(9100, ('R244A', 'R050', '59 ST'))\n",
      "(9100, ('PTH02', 'R544', 'HARRISON'))\n",
      "(9051, ('R175', 'R169', '137 ST CITY COL'))\n",
      "(9043, ('N300', 'R113', '7 AV'))\n",
      "(9036, ('N305A', 'R016', 'LEXINGTON AV/53'))\n",
      "(9019, ('R142', 'R293', '34 ST-PENN STA'))\n",
      "(8970, ('R503', 'R276', 'VERNON-JACKSON'))\n",
      "(8912, ('R283', 'R221', '167 ST'))\n",
      "(8841, ('JFK03', 'R536', 'JFK JAMAICA CT1'))\n",
      "(8809, ('R229', 'R143', '28 ST'))\n",
      "(8765, ('PTH01', 'R549', 'NEWARK HW BMEBE'))\n",
      "(8755, ('N095', 'R014', 'FULTON ST'))\n",
      "(8743, ('R519', 'R223', '46 ST BLISS ST'))\n",
      "(8708, ('N044', 'R187', '81 ST-MUSEUM'))\n",
      "(8682, ('N601A', 'R319', 'LEXINGTON AV/63'))\n",
      "(8665, ('R201', 'R041', 'BOWLING GREEN'))\n",
      "(8573, ('R127', 'R105', '14 ST'))\n",
      "(8569, ('N108', 'R217', 'HOYT-SCHER'))\n",
      "(8523, ('A042', 'R086', 'PRINCE ST'))\n",
      "(8507, ('B024A', 'R211', 'KINGS HWY'))\n",
      "(8470, ('R232', 'R176', '33 ST'))\n",
      "(8430, ('R412', 'R146', 'HUNTS POINT AV'))\n",
      "(8370, ('R331', 'R364', 'GUN HILL RD'))\n",
      "(8288, ('R514', 'R094', 'ASTORIA BLVD'))\n",
      "(8185, ('C008', 'R099', 'DEKALB AV'))\n",
      "(8098, ('R622', 'R123', 'FRANKLIN AV'))\n",
      "(8087, ('R147', 'R033', 'TIMES SQ-42 ST'))\n",
      "(8062, ('N701', 'R571', '86 ST-2 AVE'))\n",
      "(8042, ('R132', 'R190', '23 ST'))\n",
      "(8024, ('N091', 'R029', 'CHAMBERS ST'))\n",
      "(8000, ('N124', 'R103', 'BROADWAY JCT'))\n",
      "(7957, ('R237', 'R046', 'GRD CNTRL-42 ST'))\n",
      "(7921, ('N120', 'R153', 'UTICA AV'))\n",
      "(7890, ('N333B', 'R141', 'FOREST HILLS 71'))\n",
      "(7843, ('N046', 'R281', '72 ST'))\n",
      "(7816, ('N512', 'R163', '14 ST'))\n",
      "(7795, ('C018', 'R197', '36 ST'))\n",
      "(7766, ('PTH21', 'R540', 'PATH WTC 2'))\n",
      "(7717, ('R245', 'R051', '59 ST'))\n",
      "(7706, ('A013', 'R081', '49 ST'))\n",
      "(7701, ('R527', 'R122', '90 ST-ELMHURST'))\n",
      "(7675, ('A029', 'R082', '28 ST'))\n",
      "(7666, ('C012', 'R258', '4AV-9 ST'))\n",
      "(7651, ('H007', 'R248', '1 AV'))\n",
      "(7555, ('R516', 'R291', '33 ST-RAWSON ST'))\n",
      "(7545, ('J009', 'R378', 'MYRTLE AV'))\n",
      "(7487, ('A039', 'R085', '8 ST-NYU'))\n",
      "(7472, ('R110', 'R027', 'WALL ST'))\n",
      "(7458, ('R148', 'R033', 'TIMES SQ-42 ST'))\n",
      "(7441, ('R301', 'R323', 'CENTRAL PK N110'))\n",
      "(7419, ('G009', 'R151', 'CONEY IS-STILLW'))\n",
      "(7404, ('N117', 'R198', 'NOSTRAND AV'))\n",
      "(7393, ('R174', 'R034', '125 ST'))\n",
      "(7367, ('R241A', 'R048', 'GRD CNTRL-42 ST'))\n",
      "(7323, ('N071', 'R013', '34 ST-PENN STA'))\n",
      "(7258, ('R530', 'R310', '111 ST'))\n",
      "(7242, ('R242', 'R049', '51 ST'))\n",
      "(7232, ('D010', 'R394', 'BAY PKWY'))\n",
      "(7193, ('A002', 'R051', '59 ST'))\n",
      "(7163, ('PTH11', 'R545', '14TH STREET'))\n",
      "(7128, ('E014', 'R374', 'BAY PKWY'))\n",
      "(7116, ('N056', 'R188', '50 ST'))\n",
      "(7108, ('J002', 'R460', 'MARCY AV'))\n",
      "(7098, ('R113', 'R028', 'FULTON ST'))\n",
      "(7074, ('N702', 'R572', '96 ST-2 AVE'))\n",
      "(7070, ('A006', 'R079', '5 AV/59 ST'))\n",
      "(7000, ('N525', 'R142', 'DELANCEY/ESSEX'))\n",
      "(6993, ('N077', 'R111', '23 ST'))\n",
      "(6971, ('R612', 'R057', 'ATL AV-BARCLAY'))\n",
      "(6934, ('R237B', 'R047', 'GRD CNTRL-42 ST'))\n",
      "(6865, ('R173', 'R159', '116 ST-COLUMBIA'))\n",
      "(6821, ('N076', 'R111', '23 ST'))\n",
      "(6814, ('N400A', 'R359', 'COURT SQ'))\n",
      "(6798, ('B024', 'R211', 'KINGS HWY'))\n",
      "(6756, ('R141', 'R031', '34 ST-PENN STA'))\n",
      "(6722, ('N141', 'R356', 'OZONE PK LEFFRT'))\n",
      "(6685, ('N309A', 'R140', 'QUEENS PLAZA'))\n",
      "(6684, ('A010', 'R080', '57 ST-7 AV'))\n",
      "(6677, ('N315', 'R238', 'STEINWAY ST'))\n",
      "(6676, ('R248', 'R178', '77 ST'))\n",
      "(6638, ('R507', 'R134', 'HUNTERS PT AV'))\n",
      "(6636, ('N603', 'R303', '21 ST-QNSBRIDGE'))\n",
      "(6626, ('N702A', 'R572', '96 ST-2 AVE'))\n",
      "(6611, ('C021', 'R212', '59 ST'))\n",
      "(6604, ('R284', 'R243', '170 ST'))\n",
      "(6594, ('R261', 'R205', '149/GRAND CONC'))\n",
      "(6593, ('N100', 'R252', 'HIGH ST'))\n",
      "(6550, ('N070', 'R012', '34 ST-PENN STA'))\n",
      "(6515, ('R521', 'R327', '52 ST'))\n",
      "(6495, ('B031', 'R172', 'BRIGHTON BEACH'))\n",
      "(6467, ('A031', 'R083', '23 ST'))\n",
      "(6446, ('N602', 'R259', 'ROOSEVELT ISLND'))\n",
      "(6445, ('R325', 'R388', 'E 180 ST'))\n",
      "(6386, ('R170', 'R191', '103 ST'))\n",
      "(6386, ('N539A', 'R288', '7 AV'))\n",
      "(6373, ('N090', 'R139', 'CANAL ST'))\n",
      "(6347, ('N502', 'R021', '42 ST-BRYANT PK'))\n",
      "(6345, ('R200A', 'R041', 'BOWLING GREEN'))\n",
      "(6339, ('R418', 'R106', 'CASTLE HILL AV'))\n",
      "(6316, ('N019', 'R101', '145 ST'))\n",
      "(6305, ('N063', 'R011', '42 ST-PORT AUTH'))\n",
      "(6276, ('R414', 'R162', 'ELDER AV'))\n",
      "(6273, ('R126', 'R189', 'CHRISTOPHER ST'))\n",
      "(6193, ('A030', 'R083', '23 ST'))\n",
      "(6176, ('H027', 'R137', 'MYRTLE-WYCKOFF'))\n",
      "(6136, ('C025', 'R215', '86 ST'))\n",
      "(6119, ('N405', 'R239', 'GREENPOINT AV'))\n",
      "(6091, ('A061', 'R142', 'DELANCEY/ESSEX'))\n",
      "(6053, ('A037', 'R170', '14 ST-UNION SQ'))\n",
      "(6035, ('K025', 'R404', 'FRESH POND RD'))\n",
      "(6030, ('A058', 'R001', 'WHITEHALL S-FRY'))\n",
      "(6004, ('N010', 'R126', '175 ST'))\n",
      "(5982, ('R124', 'R290', 'HOUSTON ST'))\n",
      "(5962, ('N213', 'R154', 'TREMONT AV'))\n",
      "(5959, ('R250', 'R179', '86 ST'))\n",
      "(5935, ('R253', 'R181', '110 ST'))\n",
      "(5910, ('R628', 'R064', 'SARATOGA AV'))\n",
      "(5885, ('H026', 'R137', 'MYRTLE-WYCKOFF'))\n",
      "(5877, ('R227', 'R131', '23 ST'))\n",
      "(5873, ('R634', 'R069', 'NEW LOTS AV'))\n",
      "(5820, ('R625', 'R062', 'CROWN HTS-UTICA'))\n",
      "(5792, ('R231A', 'R176', '33 ST'))\n",
      "(5760, ('E001', 'R368', '9 AV'))\n",
      "(5750, ('R629', 'R065', 'ROCKAWAY AV'))\n",
      "(5744, ('R231', 'R176', '33 ST'))\n",
      "(5719, ('R420', 'R107', 'WESTCHESTER SQ'))\n",
      "(5697, ('A015', 'R081', '49 ST'))\n",
      "(5664, ('H014', 'R249', 'GRAHAM AV'))\n",
      "(5624, ('PTH09', 'R548', 'CHRISTOPHER ST'))\n",
      "(5610, ('R508', 'R346', 'COURT SQ'))\n",
      "(5586, ('R524', 'R347', '69 ST'))\n",
      "(5562, ('R311', 'R053', '3 AV-149 ST'))\n",
      "(5559, ('R608', 'R056', 'NEVINS ST'))\n",
      "(5549, ('A027', 'R082', '28 ST'))\n",
      "(5520, ('N339A', 'R114', 'PARSONS BLVD'))\n",
      "(5505, ('R336', 'R145', 'WAKEFIELD/241'))\n",
      "(5475, ('R401', 'R445', '3 AV 138 ST'))\n",
      "(5458, ('R179', 'R193', '157 ST'))\n",
      "(5450, ('N546', 'R204', 'CHURCH AV'))\n",
      "(5430, ('N537', 'R258', '4 AV-9 ST'))\n",
      "(5429, ('N203', 'R195', '161/YANKEE STAD'))\n",
      "(5421, ('N343', 'R019', 'JAMAICA 179 ST'))\n",
      "(5399, ('N536', 'R270', 'SMITH-9 ST'))\n",
      "(5392, ('N521', 'R300', '2 AV'))\n",
      "(5373, ('N604', 'R342', 'JAMAICA VAN WK'))\n",
      "(5352, ('B013', 'R196', 'PROSPECT PARK'))\n",
      "(5330, ('N217', 'R112', 'FORDHAM RD'))\n",
      "(5321, ('R251', 'R144', '96 ST'))\n",
      "(5303, ('R290', 'R161', 'KINGSBRIDGE RD'))\n",
      "(5296, ('R177', 'R273', '145 ST'))\n",
      "(5286, ('R217A', 'R194', 'BLEECKER ST'))\n",
      "(5281, ('R415', 'R120', 'MORISN AV/SNDVW'))\n",
      "(5280, ('N330', 'R202', '63 DR-REGO PARK'))\n",
      "(5269, ('A081', 'R028', 'FULTON ST'))\n",
      "(5213, ('R134', 'R272', '28 ST'))\n",
      "(5170, ('H016', 'R250', 'GRAND ST'))\n",
      "(5141, ('R112', 'R027', 'WALL ST'))\n",
      "(5134, ('N409', 'R268', 'METROPOLITAN AV'))\n",
      "(5128, ('R511', 'R091', '36 AV'))\n",
      "(5093, ('A014', 'R081', '49 ST'))\n",
      "(5080, ('J024', 'R437', 'CRESCENT ST'))\n",
      "(5020, ('N196', 'R285', 'FAR ROCKAWAY'))\n",
      "(5011, ('N114', 'R297', 'FRANKLIN AV'))\n",
      "(5005, ('R210A', 'R044', 'BROOKLYN BRIDGE'))\n",
      "(4970, ('R287', 'R244', 'BURNSIDE AV'))\n",
      "(4945, ('C019', 'R232', '45 ST'))\n",
      "(4928, ('B015', 'R098', 'CHURCH AV'))\n",
      "(4924, ('N526', 'R142', 'DELANCEY/ESSEX'))\n",
      "(4858, ('R208', 'R014', 'FULTON ST'))\n",
      "(4854, ('R256', 'R182', '116 ST'))\n",
      "(4843, ('D003', 'R391', 'FT HAMILTON PKY'))\n",
      "(4821, ('H039', 'R375', 'NEW LOTS'))\n",
      "(4815, ('R423', 'R429', 'PELHAM BAY PARK'))\n",
      "(4811, ('R645', 'R110', 'FLATBUSH AV-B.C'))\n",
      "(4806, ('N419', 'R287', 'CLASSON AV'))\n",
      "(4789, ('PTH10', 'R547', '9TH STREET'))\n",
      "(4784, ('R171', 'R192', 'CATHEDRAL PKWY'))\n",
      "(4780, ('N007A', 'R174', '181 ST'))\n",
      "(4768, ('R160A', 'R164', '66 ST-LINCOLN'))\n",
      "(4761, ('N120A', 'R153', 'UTICA AV'))\n",
      "(4758, ('R114', 'R028', 'FULTON ST'))\n",
      "(4732, ('R219', 'R160', 'ASTOR PL'))\n",
      "(4724, ('N129', 'R382', 'GRANT AV'))\n",
      "(4691, ('R160', 'R164', '66 ST-LINCOLN'))\n",
      "(4663, ('R730', 'R431', 'EASTCHSTER/DYRE'))\n",
      "(4649, ('R112A', 'R027', 'WALL ST'))\n",
      "(4623, ('R525', 'R018', '74 ST-BROADWAY'))\n",
      "(4608, ('N043', 'R186', '86 ST'))\n",
      "(4603, ('D008', 'R392', '18 AV'))\n",
      "(4601, ('N530', 'R301', 'YORK ST'))\n",
      "(4592, ('N531', 'R129', 'BERGEN ST'))\n",
      "(4521, ('R644', 'R135', 'NEWKIRK AV'))\n",
      "(4492, ('N069', 'R013', '34 ST-PENN STA'))\n",
      "(4490, ('N116', 'R198', 'NOSTRAND AV'))\n",
      "(4439, ('R164', 'R167', '86 ST'))\n",
      "(4413, ('B014', 'R148', 'PARKSIDE AV'))\n",
      "(4378, ('N040', 'R251', '96 ST'))\n",
      "(4276, ('R635', 'R277', 'PRESIDENT ST'))\n",
      "(4276, ('R509', 'R121', 'QUEENSBORO PLZ'))\n",
      "(4259, ('N408A', 'R256', 'NASSAU AV'))\n",
      "(4243, ('A041', 'R086', 'PRINCE ST'))\n",
      "(4233, ('N025', 'R102', '125 ST'))\n",
      "(4223, ('N009', 'R174', '181 ST'))\n",
      "(4217, ('R102', 'R304', 'RECTOR ST'))\n",
      "(4193, ('N417', 'R269', 'BEDFORD-NOSTRAN'))\n",
      "(4188, ('R321', 'R386', '174 ST'))\n",
      "(4172, ('N068', 'R012', '34 ST-PENN STA'))\n",
      "(4171, ('R137', 'R031', '34 ST-PENN STA'))\n",
      "(4163, ('R403', 'R446', 'BROOK AV'))\n",
      "(4143, ('R609', 'R056', 'NEVINS ST'))\n",
      "(4095, ('N422', 'R318', 'FULTON ST'))\n",
      "(4080, ('R605', 'R456', 'HOYT ST'))\n",
      "(4075, ('N333A', 'R141', 'FOREST HILLS 71'))\n",
      "(4066, ('R120', 'R320', 'CANAL ST'))\n",
      "(4057, ('N535', 'R220', 'CARROLL ST'))\n",
      "(4041, ('N057', 'R188', '50 ST'))\n",
      "(3971, ('N205', 'R195', '161/YANKEE STAD'))\n",
      "(3966, ('R621', 'R060', 'EASTN PKWY-MUSM'))\n",
      "(3955, ('K026', 'R100', 'METROPOLITAN AV'))\n",
      "(3941, ('N510', 'R163', '14 ST'))\n",
      "(3939, ('R323', 'R387', 'WEST FARMS SQ'))\n",
      "(3933, ('D005', 'R398', 'NEW UTRECHT AV'))\n",
      "(3930, ('B029', 'R172', 'BRIGHTON BEACH'))\n",
      "(3926, ('R163', 'R166', '79 ST'))\n",
      "(3914, ('K019', 'R413', 'KNICKERBOCKER'))\n",
      "(3912, ('A047', 'R087', 'CITY HALL'))\n",
      "(3908, ('R128', 'R105', '14 ST'))\n",
      "(3901, ('N222', 'R156', 'BEDFORD PK BLVD'))\n",
      "(3898, ('B012', 'R196', 'PROSPECT PARK'))\n",
      "(3895, ('R624', 'R124', 'KINGSTON AV'))\n",
      "(3877, ('R131', 'R190', '23 ST'))\n",
      "(3865, ('N319', 'R298', 'NORTHERN BLVD'))\n",
      "(3844, ('N511', 'R163', '14 ST'))\n",
      "(3834, ('H032', 'R295', 'WILSON AV'))\n",
      "(3827, ('R203', 'R043', 'WALL ST'))\n",
      "(3816, ('R319', 'R409', 'FREEMAN ST'))\n",
      "(3801, ('N101', 'R252', 'HIGH ST'))\n",
      "(3799, ('R186', 'R036', 'DYCKMAN ST'))\n",
      "(3783, ('R623', 'R061', 'NOSTRAND AV'))\n",
      "(3745, ('H040', 'R376', 'EAST 105 ST'))\n",
      "(3743, ('R257', 'R182', '116 ST'))\n",
      "(3721, ('A050', 'R088', 'CORTLANDT ST'))\n",
      "(3720, ('R647', 'R110', 'FLATBUSH AV-B.C'))\n",
      "(3717, ('N340', 'R115', '169 ST'))\n",
      "(3709, ('N342', 'R019', 'JAMAICA 179 ST'))\n",
      "(3699, ('R291', 'R183', 'BEDFORD PK BLVD'))\n",
      "(3696, ('D012', 'R395', 'KINGS HWY'))\n",
      "(3690, ('H017', 'R265', 'MONTROSE AV'))\n",
      "(3670, ('N549', 'R242', '18 AV'))\n",
      "(3668, ('R162', 'R166', '79 ST'))\n",
      "(3648, ('N513', 'R163', '14 ST'))\n",
      "(3646, ('R285', 'R308', 'MT EDEN AV'))\n",
      "(3633, ('N207', 'R104', '167 ST'))\n",
      "(3591, ('R262', 'R195', '161/YANKEE STAD'))\n",
      "(3585, ('R133', 'R272', '28 ST'))\n",
      "(3573, ('R600', 'R224', 'CLARK ST'))\n",
      "(3567, ('H041', 'R152', 'CANARSIE-ROCKAW'))\n",
      "(3554, ('N118', 'R199', 'KINGSTON-THROOP'))\n",
      "(3542, ('J001', 'R460', 'MARCY AV'))\n",
      "(3521, ('C011', 'R231', 'UNION ST'))\n",
      "(3520, ('H005', 'R330', '3 AV'))\n",
      "(3511, ('N220', 'R155', 'KINGSBRIDGE RD'))\n",
      "(3497, ('R416', 'R245', 'ST LAWRENCE AV'))\n",
      "(3496, ('N340A', 'R115', '169 ST'))\n",
      "(3493, ('R422', 'R428', 'BUHRE AV'))\n",
      "(3488, ('R309', 'R345', 'HARLEM 148 ST'))\n",
      "(3475, ('N314', 'R238', 'STEINWAY ST'))\n",
      "(3475, ('K017', 'R401', 'CENTRAL AV'))\n",
      "(3468, ('H023', 'R236', 'DEKALB AV'))\n",
      "(3458, ('C027', 'R216', 'BAY RIDGE-95 ST'))\n",
      "(3436, ('R227A', 'R131', '23 ST'))\n",
      "(3428, ('N037', 'R314', '103 ST'))\n",
      "(3427, ('N122', 'R439', 'ROCKAWAY AV'))\n",
      "(3416, ('J023', 'R436', 'NORWOOD AV'))\n",
      "(3405, ('R242A', 'R049', '51 ST'))\n",
      "(3404, ('N039', 'R251', '96 ST'))\n",
      "(3388, ('N316A', 'R267', '46 ST'))\n",
      "(3372, ('R232A', 'R176', '33 ST'))\n",
      "(3326, ('R130', 'R321', '18 ST'))\n",
      "(3320, ('H019', 'R294', 'MORGAN AV'))\n",
      "(3291, ('B021', 'R228', 'AVENUE J'))\n",
      "(3274, ('A038', 'R085', '8 ST-NYU'))\n",
      "(3271, ('N331', 'R219', '67 AV'))\n",
      "(3266, ('N412', 'R299', 'BROADWAY'))\n",
      "(3238, ('H037', 'R349', 'SUTTER AV'))\n",
      "(3237, ('N557', 'R130', 'KINGS HWY'))\n",
      "(3226, ('R646', 'R110', 'FLATBUSH AV-B.C'))\n",
      "(3189, ('N224', 'R157', 'NORWOOD 205 ST'))\n",
      "(3187, ('J022', 'R435', 'CLEVELAND ST'))\n",
      "(3173, ('R303', 'R324', '116 ST'))\n",
      "(3171, ('R316', 'R407', 'INTERVALE AV'))\n",
      "(3163, ('N035', 'R334', 'CATHEDRAL PKWY'))\n",
      "(3162, ('R636', 'R209', 'STERLING ST'))\n",
      "(3162, ('E004', 'R234', '50 ST'))\n",
      "(3161, ('N128', 'R200', 'EUCLID AV'))\n",
      "(3139, ('N045', 'R187', '81 ST-MUSEUM'))\n",
      "(3131, ('A007', 'R079', '5 AV/59 ST'))\n",
      "(3118, ('R286', 'R309', '176 ST'))\n",
      "(3111, ('R532', 'R328', 'METS-WILLETS PT'))\n",
      "(3102, ('R197', 'R117', 'V.CORTLANDT PK'))\n",
      "(3062, ('N112A', 'R284', 'CLINTON-WASH AV'))\n",
      "(3053, ('N317', 'R267', '46 ST'))\n",
      "(3052, ('R304', 'R206', '125 ST'))\n",
      "(3045, ('R604', 'R108', 'BOROUGH HALL'))\n",
      "(3039, ('G011', 'R312', 'W 8 ST-AQUARIUM'))\n",
      "(3035, ('R288', 'R275', '183 ST'))\n",
      "(3033, ('C017', 'R455', '25 ST'))\n",
      "(3030, ('N529', 'R257', 'EAST BROADWAY'))\n",
      "(3028, ('J007', 'R377', 'FLUSHING AV'))\n",
      "(3019, ('K024', 'R403', 'FOREST AVE'))\n",
      "(3017, ('R188', 'R037', '207 ST'))\n",
      "(3014, ('R205A', 'R014', 'FULTON ST'))\n",
      "(3010, ('N013', 'R035', '168 ST'))\n",
      "(3003, ('N225', 'R157', 'NORWOOD 205 ST'))\n",
      "(2995, ('R115', 'R029', 'PARK PLACE'))\n",
      "(2994, ('A066', 'R118', 'CANAL ST'))\n",
      "(2971, ('H030', 'R266', 'HALSEY ST'))\n",
      "(2965, ('R633', 'R068', 'VAN SICLEN AV'))\n",
      "(2954, ('N528', 'R257', 'EAST BROADWAY'))\n",
      "(2937, ('R328', 'R361', 'PELHAM PKWY'))\n",
      "(2893, ('J021', 'R434', 'VAN SICLEN AV'))\n",
      "(2890, ('B022', 'R229', 'AVENUE M'))\n",
      "(2889, ('R293', 'R133', 'MOSHOLU PKWY'))\n",
      "(2884, ('N126', 'R441', 'VAN SICLEN AVE'))\n",
      "(2879, ('R409', 'R449', 'E 149 ST'))\n",
      "(2875, ('N325A', 'R218', 'ELMHURST AV'))\n",
      "(2857, ('R619', 'R059', 'GRAND ARMY PLAZ'))\n",
      "(2839, ('J016', 'R381', 'HALSEY ST'))\n",
      "(2831, ('H006', 'R330', '3 AV'))\n",
      "(2800, ('B017', 'R262', 'BEVERLEY ROAD'))\n",
      "(2774, ('R254', 'R181', '110 ST'))\n",
      "(2767, ('B025', 'R150', 'AVENUE U'))\n",
      "(2766, ('N002A', 'R173', 'INWOOD-207 ST'))\n",
      "(2755, ('N121B', 'R438', 'RALPH AV'))\n",
      "(2754, ('A083', 'R125', 'BROAD ST'))\n",
      "(2753, ('N191', 'R335', 'BEACH 67 ST'))\n",
      "(2751, ('E003', 'R369', 'FT HAMILTON PKY'))\n",
      "(2750, ('R310', 'R053', '3 AV-149 ST'))\n",
      "(2733, ('R259', 'R307', '138/GRAND CONC'))\n",
      "(2703, ('N029', 'R333', '116 ST'))\n",
      "(2698, ('K022', 'R402', 'SENECA AVE'))\n",
      "(2696, ('B023', 'R211', 'KINGS HWY'))\n",
      "(2696, ('A064', 'R311', 'BOWERY'))\n",
      "(2692, ('N322', 'R340', '65 ST'))\n",
      "(2683, ('A016', 'R081', '49 ST'))\n",
      "(2681, ('C024', 'R214', '77 ST'))\n",
      "(2677, ('R307', 'R207', '135 ST'))\n",
      "(2668, ('B028', 'R136', 'SHEEPSHEAD BAY'))\n",
      "(2666, ('N310', 'R140', 'QUEENS PLAZA'))\n",
      "(2653, ('R226A', 'R131', '23 ST'))\n",
      "(2643, ('R139', 'R031', '34 ST-PENN STA'))\n",
      "(2623, ('R176', 'R169', '137 ST CITY COL'))\n",
      "(2614, ('R606', 'R225', 'HOYT ST'))\n",
      "(2604, ('R238A', 'R046', 'GRD CNTRL-42 ST'))\n",
      "(2585, ('N337', 'R255', 'BRIARWOOD'))\n",
      "(2573, ('R305', 'R206', '125 ST'))\n",
      "(2566, ('R504', 'R276', 'VERNON-JACKSON'))\n",
      "(2561, ('R230', 'R143', '28 ST'))\n",
      "(2529, ('N333', 'R141', 'FOREST HILLS 71'))\n",
      "(2518, ('N221', 'R155', 'KINGSBRIDGE RD'))\n",
      "(2511, ('R103', 'R304', 'RECTOR ST'))\n",
      "(2508, ('N542', 'R241', '15 ST-PROSPECT'))\n",
      "(2498, ('J013', 'R380', 'GATES AV'))\n",
      "(2489, ('R204A', 'R043', 'WALL ST'))\n",
      "(2486, ('N307', 'R359', 'COURT SQ-23 ST'))\n",
      "(2473, ('JFK02', 'R535', 'HOWARD BCH JFK'))\n",
      "(2472, ('B020', 'R263', 'AVENUE H'))\n",
      "(2468, ('R419', 'R326', 'ZEREGA AV'))\n",
      "(2442, ('R726', 'R329', 'MORRIS PARK'))\n",
      "(2439, ('R118', 'R343', 'FRANKLIN ST'))\n",
      "(2405, ('J020', 'R433', 'ALABAMA AV'))\n",
      "(2402, ('N030', 'R333', '116 ST'))\n",
      "(2346, ('H003', 'R163', '6 AV'))\n",
      "(2338, ('R125', 'R189', 'CHRISTOPHER ST'))\n",
      "(2338, ('N415', 'R286', 'MYRTLE-WILLOUGH'))\n",
      "(2319, ('H038', 'R350', 'LIVONIA AV'))\n",
      "(2269, ('N209', 'R443', '170 ST'))\n",
      "(2243, ('R727', 'R430', 'PELHAM PKWY'))\n",
      "(2243, ('R639', 'R109', 'CHURCH AV'))\n",
      "(2215, ('R123', 'R290', 'HOUSTON ST'))\n",
      "(2209, ('B010', 'R412', 'BOTANIC GARDEN'))\n",
      "(2205, ('N338B', 'R128', 'SUTPHIN BLVD'))\n",
      "(2196, ('N312', 'R339', '36 ST'))\n",
      "(2189, ('J028', 'R004', '75 ST-ELDERTS'))\n",
      "(2187, ('R618', 'R058', 'BERGEN ST'))\n",
      "(2185, ('R517', 'R291', '33 ST-RAWSON ST'))\n",
      "(2176, ('J005', 'R353', 'LORIMER ST'))\n",
      "(2171, ('N023', 'R332', '135 ST'))\n",
      "(2157, ('E011', 'R371', '79 ST'))\n",
      "(2127, ('R510', 'R090', '39 AV'))\n",
      "(2123, ('R632', 'R067', 'PENNSYLVANIA AV'))\n",
      "(2122, ('N195', 'R358', 'BEACH 25 ST'))\n",
      "(2108, ('R421', 'R427', 'MIDDLETOWN RD'))\n",
      "(2096, ('N017', 'R331', '155 ST'))\n",
      "(2094, ('R289', 'R119', 'FORDHAM RD'))\n",
      "(2054, ('D015', 'R396', 'AVENUE U'))\n",
      "(2053, ('R172', 'R192', 'CATHEDRAL PKWY'))\n",
      "(2045, ('R329', 'R362', 'ALLERTON AV'))\n",
      "(2019, ('J031', 'R006', 'WOODHAVEN BLVD'))\n",
      "(2013, ('N556', 'R424', 'AVENUE P'))\n",
      "(2011, ('C003', 'R089', 'JAY ST-METROTEC'))\n",
      "(1980, ('J035', 'R008', '111 ST'))\n",
      "(1974, ('N111', 'R284', 'CLINTON-WASH AV'))\n",
      "(1970, ('R411', 'R450', 'LONGWOOD AV'))\n",
      "(1955, ('R333', 'R366', '225 ST'))\n",
      "(1944, ('N561', 'R271', 'AVENUE X'))\n",
      "(1939, ('B018', 'R184', 'CORTELYOU RD'))\n",
      "(1929, ('R413', 'R325', 'WHITLOCK AV'))\n",
      "(1913, ('B009', 'R411', 'PARK PLACE'))\n",
      "(1903, ('N555', 'R423', 'AVENUE N'))\n",
      "(1892, ('N548', 'R420', 'DITMAS AV'))\n",
      "(1889, ('N192', 'R336', 'BEACH 60 ST'))\n",
      "(1889, ('J012', 'R379', 'KOSCIUSZKO ST'))\n",
      "(1878, ('N110', 'R283', 'LAFAYETTE AV'))\n",
      "(1863, ('N006A', 'R280', '190 ST'))\n",
      "(1860, ('R215', 'R322', 'SPRING ST'))\n",
      "(1860, ('N202', 'R315', '155 ST'))\n",
      "(1855, ('A077', 'R028', 'FULTON ST'))\n",
      "(1838, ('R315', 'R406', 'PROSPECT AV'))\n",
      "(1838, ('R166', 'R167', '86 ST'))\n",
      "(1837, ('N318', 'R298', 'NORTHERN BLVD'))\n",
      "(1833, ('R178', 'R273', '145 ST'))\n",
      "(1822, ('N401', 'R360', '21 ST'))\n",
      "(1816, ('J030', 'R005', '85 ST-FOREST PK'))\n",
      "(1802, ('E009', 'R370', '71 ST'))\n",
      "(1798, ('R302', 'R324', '116 ST'))\n",
      "(1787, ('N551', 'R421', 'AVENUE I'))\n",
      "(1752, ('R322', 'R386', '174 ST'))\n",
      "(1751, ('N086', 'R282', 'SPRING ST'))\n",
      "(1733, ('H022', 'R279', 'JEFFERSON ST'))\n",
      "(1728, ('E012', 'R372', '18 AV'))\n",
      "(1671, ('R129', 'R321', '18 ST'))\n",
      "(1665, ('R317', 'R408', 'SIMPSON ST'))\n",
      "(1653, ('N181', 'R357', 'AQUEDUCT N.COND'))\n",
      "(1651, ('E013', 'R373', '20 AV'))\n",
      "(1645, ('H015', 'R250', 'GRAND ST'))\n",
      "(1643, ('H028', 'R266', 'HALSEY ST'))\n",
      "(1637, ('R180', 'R193', '157 ST'))\n",
      "(1624, ('R408', 'R449', 'E 149 ST'))\n",
      "(1597, ('C001', 'R108', 'BOROUGH HALL'))\n",
      "(1596, ('A054', 'R227', 'RECTOR ST'))\n",
      "(1584, ('N184', 'R416', 'BEACH 90 ST'))\n",
      "(1582, ('R334', 'R367', '233 ST'))\n",
      "(1581, ('N127', 'R442', 'SHEPHERD AV'))\n",
      "(1554, ('N215', 'R237', '182-183 STS'))\n",
      "(1545, ('N001', 'R173', 'INWOOD-207 ST'))\n",
      "(1531, ('R294', 'R052', 'WOODLAWN'))\n",
      "(1527, ('N559', 'R425', 'AVENUE U'))\n",
      "(1522, ('R119', 'R320', 'CANAL ST'))\n",
      "(1518, ('N543', 'R289', 'FT HAMILTON PKY'))\n",
      "(1513, ('N414', 'R316', 'FLUSHING AV'))\n",
      "(1484, ('R405', 'R447', 'CYPRESS AV'))\n",
      "(1475, ('R520', 'R223', '46 ST BLISS ST'))\n",
      "(1460, ('R637', 'R451', 'WINTHROP ST'))\n",
      "(1455, ('N024', 'R332', '135 ST'))\n",
      "(1438, ('N131', 'R383', '80 ST'))\n",
      "(1435, ('N532', 'R129', 'BERGEN ST'))\n",
      "(1416, ('R306', 'R207', '135 ST'))\n",
      "(1406, ('R332', 'R365', '219 ST'))\n",
      "(1404, ('H012', 'R268', 'LORIMER ST'))\n",
      "(1403, ('J017', 'R432', 'CHAUNCEY ST'))\n",
      "(1402, ('R402', 'R446', 'BROOK AV'))\n",
      "(1384, ('N187', 'R419', 'ROCKAWAY PARK B'))\n",
      "(1380, ('J003', 'R352', 'HEWES ST'))\n",
      "(1354, ('R728', 'R226', 'GUN HILL RD'))\n",
      "(1352, ('R194', 'R040', '231 ST'))\n",
      "(1345, ('N134', 'R385', 'ROCKAWAY BLVD'))\n",
      "(1345, ('JFK01', 'R535', 'HOWARD BCH JFK'))\n",
      "(1339, ('N125', 'R440', 'LIBERTY AV'))\n",
      "(1328, ('N332', 'R219', '67 AV'))\n",
      "(1326, ('R335', 'R444', 'NEREID AV'))\n",
      "(1310, ('D016', 'R397', '86 ST'))\n",
      "(1306, ('E015', 'R399', '25 AV'))\n",
      "(1304, ('N016A', 'R296', '163 ST-AMSTERDM'))\n",
      "(1295, ('R192', 'R039', 'MARBLE HILL-225'))\n",
      "(1291, ('N208', 'R443', '170 ST'))\n",
      "(1279, ('N414A', 'R316', 'FLUSHING AV'))\n",
      "(1278, ('H033', 'R313', 'BUSHWICK AV'))\n",
      "(1268, ('C022', 'R212', '59 ST'))\n",
      "(1260, ('N541', 'R241', '15 ST-PROSPECT'))\n",
      "(1231, ('N034', 'R334', 'CATHEDRAL PKWY'))\n",
      "(1227, ('R404', 'R447', 'CYPRESS AV'))\n",
      "(1220, ('B026', 'R230', 'NECK RD'))\n",
      "(1202, ('N316', 'R267', '46 ST'))\n",
      "(1194, ('R330', 'R363', 'BURKE AV'))\n",
      "(1180, ('N185', 'R417', 'BEACH 98 ST'))\n",
      "(1176, ('N011', 'R126', '175 ST'))\n",
      "(1174, ('N113', 'R297', 'FRANKLIN AV'))\n",
      "(1168, ('N133', 'R384', '88 ST'))\n",
      "(1146, ('N075', 'R111', '23 ST'))\n",
      "(1139, ('R326', 'R389', 'BRONX PARK EAST'))\n",
      "(1136, ('C010', 'R231', 'UNION ST'))\n",
      "(1122, ('N194', 'R338', 'BEACH 36 ST'))\n",
      "(1101, ('B032', 'R264', 'OCEAN PKWY'))\n",
      "(1098, ('N119', 'R199', 'KINGSTON-THROOP'))\n",
      "(1086, ('C016', 'R278', '25 ST'))\n",
      "(1068, ('N311', 'R339', '36 ST'))\n",
      "(1065, ('R122', 'R290', 'HOUSTON ST'))\n",
      "(1053, ('E005', 'R247', '55 ST'))\n",
      "(1049, ('R410', 'R450', 'LONGWOOD AV'))\n",
      "(1017, ('N130', 'R383', '80 ST'))\n",
      "(1004, ('N135', 'R385', 'ROCKAWAY BLVD'))\n",
      "(997, ('N212', 'R253', '174-175 STS'))\n",
      "(978, ('R312', 'R405', 'JACKSON AV'))\n",
      "(956, ('N553', 'R422', 'BAY PKWY'))\n",
      "(935, ('H013', 'R249', 'GRAHAM AV'))\n",
      "(924, ('N334B', 'R341', '75 AV'))\n",
      "(921, ('N012', 'R035', '168 ST'))\n",
      "(886, ('N534', 'R220', 'CARROLL ST'))\n",
      "(854, ('N210', 'R253', '174-175 STS'))\n",
      "(853, ('R117', 'R343', 'FRANKLIN ST'))\n",
      "(831, ('N533', 'R129', 'BERGEN ST'))\n",
      "(828, ('R190', 'R038', '215 ST'))\n",
      "(825, ('J025', 'R003', 'CYPRESS HILLS'))\n",
      "(821, ('R327', 'R361', 'PELHAM PKWY'))\n",
      "(821, ('A071', 'R044', 'CHAMBERS ST'))\n",
      "(818, ('N193', 'R337', 'BEACH 44 ST'))\n",
      "(792, ('R617', 'R058', 'BERGEN ST'))\n",
      "(783, ('R641', 'R210', 'BEVERLY RD'))\n",
      "(774, ('N545', 'R204', 'CHURCH AV'))\n",
      "(759, ('E016', 'R400', 'BAY 50 ST'))\n",
      "(755, ('H035', 'R348', 'ATLANTIC AV'))\n",
      "(748, ('N330C', 'R202', '63 DR-REGO PARK'))\n",
      "(720, ('R407', 'R448', \"E 143/ST MARY'S\"))\n",
      "(719, ('R260', 'R205', '149/GRAND CONC'))\n",
      "(706, ('B034', 'R264', 'OCEAN PKWY'))\n",
      "(703, ('R203A', 'R043', 'WALL ST'))\n",
      "(680, ('R121', 'R290', 'HOUSTON ST'))\n",
      "(665, ('N558', 'R130', 'KINGS HWY'))\n",
      "(664, ('N087', 'R282', 'SPRING ST'))\n",
      "(655, ('N562', 'R426', 'NEPTUNE AV'))\n",
      "(624, ('N137', 'R354', '104 ST'))\n",
      "(590, ('R729', 'R292', 'BAYCHESTER AV'))\n",
      "(565, ('R318', 'R408', 'SIMPSON ST'))\n",
      "(564, ('N186', 'R418', 'BEACH 105 ST'))\n",
      "(563, ('N206', 'R104', '167 ST'))\n",
      "(563, ('N139', 'R355', '111 ST'))\n",
      "(550, ('N420B', 'R317', 'CLINTON-WASH AV'))\n",
      "(540, ('N338', 'R128', 'SUTPHIN BLVD'))\n",
      "(536, ('A055', 'R227', 'RECTOR ST'))\n",
      "(515, ('N182', 'R414', 'HOWARD BCH JFK'))\n",
      "(508, ('PTH18', 'R549', 'NEWARK BM BW'))\n",
      "(503, ('N329A', 'R201', 'WOODHAVEN BLVD'))\n",
      "(484, ('R314', 'R406', 'PROSPECT AV'))\n",
      "(470, ('R643', 'R135', 'NEWKIRK AV'))\n",
      "(465, ('C004', 'R089', 'JAY ST-METROTEC'))\n",
      "(464, ('N544', 'R289', 'FT HAMILTON PKY'))\n",
      "(438, ('N418', 'R269', 'BEDFORD-NOSTRAN'))\n",
      "(395, ('N547', 'R420', 'DITMAS AV'))\n",
      "(376, ('N138', 'R355', '111 ST'))\n",
      "(351, ('R320', 'R409', 'FREEMAN ST'))\n",
      "(350, ('D009', 'R393', '20 AV'))\n",
      "(339, ('C026', 'R215', '86 ST'))\n",
      "(312, ('R406', 'R448', \"E 143/ST MARY'S\"))\n",
      "(269, ('N416', 'R286', 'MYRTLE-WILLOUGH'))\n",
      "(238, ('J032', 'R006', 'WOODHAVEN BLVD'))\n",
      "(235, ('N218', 'R112', 'FORDHAM RD'))\n",
      "(234, ('N223', 'R156', 'BEDFORD PK BLVD'))\n",
      "(226, ('N339', 'R114', 'PARSONS BLVD'))\n",
      "(217, ('J034', 'R007', '104 ST'))\n",
      "(207, ('A082', 'R028', 'FULTON ST'))\n",
      "(179, ('N003', 'R185', 'DYCKMAN ST'))\n",
      "(175, ('R308', 'R344', '145 ST'))\n",
      "(173, ('N181A', 'R464', 'AQUEDUCT RACETR'))\n",
      "(173, ('C028', 'R216', 'BAY RIDGE-95 ST'))\n",
      "(149, ('R506', 'R276', 'VERNON-JACKSON'))\n",
      "(144, ('PTH19', 'R549', 'NEWARK C'))\n",
      "(136, ('J037', 'R009', '121 ST'))\n",
      "(111, ('N183', 'R415', 'BROAD CHANNEL'))\n",
      "(110, ('G015', 'R312', 'W 8 ST-AQUARIUM'))\n",
      "(109, ('N123B', 'R439', 'ROCKAWAY AV'))\n",
      "(107, ('R196', 'R306', '238 ST'))\n",
      "(81, ('N022', 'R332', '135 ST'))\n",
      "(74, ('A084', 'R125', 'BROAD ST'))\n",
      "(66, ('TRAM2', 'R469', 'RIT-ROOSEVELT'))\n",
      "(56, ('TRAM1', 'R468', 'RIT-MANHATTAN'))\n",
      "(18, ('OB01', 'R459', 'ORCHARD BEACH'))\n",
      "(0, ('S102', 'R165', 'TOMPKINSVILLE'))\n",
      "(0, ('S101A', 'R070', 'ST. GEORGE'))\n",
      "(0, ('S101', 'R070', 'ST. GEORGE'))\n",
      "(0, ('R630', 'R066', 'JUNIUS ST'))\n",
      "(0, ('R627', 'R063', 'SUTTER AV-RUTLD'))\n",
      "(0, ('R262B', 'R195', '161/YANKEE STAD'))\n",
      "(0, ('R262A', 'R195', '161/YANKEE STAD'))\n",
      "(0, ('N554', 'R423', 'AVENUE N'))\n",
      "(0, ('N550', 'R242', '18 AV'))\n",
      "(0, ('A085', 'R125', 'BROAD ST'))\n"
     ]
    }
   ],
   "source": [
    "twelth_to_thirteenth = [(getStationRangeRider(bigDict[tup], dt(2017,6,12,1,0,0), dt(2017,6,13,1,0,0)), tup) for tup, scps in bigDict.items()]\n",
    "twelth_to_thirteenth.sort(reverse = True)\n",
    "for tup in twelth_to_thirteenth:\n",
    "    print(tup)"
   ]
  },
  {
   "cell_type": "markdown",
   "metadata": {
    "colab_type": "text",
    "id": "VDOq0JHPPhV_"
   },
   "source": [
    "28.Make a dictionary called total_dict that contains the station name as its key and the total number of riders through all of its station areas between 6/12-6/13 as its value. Then create a sorted list of tuples to view the busiest stations on that day."
   ]
  },
  {
   "cell_type": "code",
   "execution_count": 60,
   "metadata": {
    "colab": {},
    "colab_type": "code",
    "id": "96J5DK0ePhWA"
   },
   "outputs": [
    {
     "name": "stdout",
     "output_type": "stream",
     "text": [
      "[(135549, '34 ST-PENN STA'), (132884, 'GRD CNTRL-42 ST'), (109563, '34 ST-HERALD SQ'), (91048, 'TIMES SQ-42 ST'), (84115, '14 ST-UNION SQ'), (84095, '23 ST'), (79292, 'FULTON ST'), (71420, '42 ST-PORT AUTH'), (71240, '86 ST'), (62141, '47-50 STS ROCK'), (57251, '59 ST'), (56297, 'PATH NEW WTC'), (55971, '125 ST'), (55966, '59 ST COLUMBUS'), (54458, 'CANAL ST'), (50766, 'CHAMBERS ST'), (47196, 'LEXINGTON AV/53'), (47075, '14 ST'), (46095, 'FLUSHING-MAIN'), (44748, '96 ST'), (43749, '72 ST'), (43525, 'WALL ST'), (41687, '28 ST'), (40872, '42 ST-BRYANT PK'), (39204, 'ATL AV-BARCLAY'), (38847, '50 ST'), (37885, 'JKSN HT-ROOSVLT'), (33762, 'W 4 ST-WASH SQ'), (33735, 'JAMAICA CENTER'), (33147, '7 AV'), (30358, '145 ST'), (29966, 'BOWLING GREEN'), (28806, 'BEDFORD AV'), (28447, '5 AV/53 ST'), (28121, '77 ST'), (27153, 'LEXINGTON AV/63'), (26880, 'CHURCH AV'), (26253, 'KEW GARDENS'), (26145, \"B'WAY-LAFAYETTE\"), (25459, 'GRAND ST'), (25132, 'KINGS HWY'), (24382, 'JOURNAL SQUARE'), (23980, '8 AV'), (23761, 'BOROUGH HALL'), (23700, '72 ST-2 AVE'), (23434, '51 ST'), (23050, 'JAY ST-METROTEC'), (22931, 'CROWN HTS-UTICA'), (22280, '33 ST'), (22038, '1 AV'), (21484, '49 ST'), (20897, '57 ST-7 AV'), (19889, 'PAVONIA/NEWPORT'), (19870, 'THIRTY THIRD ST'), (19693, 'SUTPHIN-ARCHER'), (19494, '181 ST'), (19271, 'NEWARK HM HE'), (19161, 'GROVE STREET'), (19153, '103 ST'), (19133, '66 ST-LINCOLN'), (18568, '82 ST-JACKSON H'), (18414, 'JUNCTION BLVD'), (18285, '168 ST'), (16578, 'BROOKLYN BRIDGE'), (16463, '116 ST'), (16358, 'DELANCEY/ESSEX'), (16332, 'EXCHANGE PLACE'), (16249, 'NOSTRAND AV'), (16230, 'WHITEHALL S-FRY'), (16069, 'SOUTH FERRY'), (15975, '68ST-HUNTER CO'), (15895, '86 ST-2 AVE'), (15852, 'ASTOR PL'), (15842, '61 ST WOODSIDE'), (15369, 'CITY / BUS'), (15364, 'CONEY IS-STILLW'), (15209, 'PARKCHESTER'), (15171, '2 AV'), (14650, 'ASTORIA DITMARS'), (14623, '103 ST-CORONA'), (14145, 'CHRISTOPHER ST'), (13982, 'WOODHAVEN BLVD'), (13949, 'CORTLANDT ST'), (13760, 'SPRING ST'), (13743, '167 ST'), (13655, 'FRANKLIN AV'), (13594, 'BAY PKWY'), (13244, 'FOREST HILLS 71'), (12844, 'PRINCE ST'), (12789, 'MYRTLE-WYCKOFF'), (12687, 'COURT SQ'), (12608, 'BROADWAY'), (12196, 'METS-WILLETS PT'), (11983, '96 ST-2 AVE'), (11955, 'DEKALB AV'), (11951, 'THIRTY ST'), (11883, '57 ST'), (11866, 'SHEEPSHEAD BAY'), (11864, 'VERNON-JACKSON'), (11811, 'TWENTY THIRD ST'), (11715, '161/YANKEE STAD'), (11630, 'LACKAWANNA'), (11622, '5 AVE'), (11570, '30 AV'), (11394, '81 ST-MUSEUM'), (11082, '34 ST-HUDSON YD'), (10895, '8 ST-NYU'), (10873, 'GRAND-NEWTOWN'), (10697, 'UTICA AV'), (10690, '46 ST BLISS ST'), (10611, 'BRIGHTON BEACH'), (10581, '111 ST'), (10579, 'FLATBUSH AV-B.C'), (10485, 'HIGH ST'), (10357, 'STEINWAY ST'), (10201, '5 AV/59 ST'), (10080, '170 ST'), (10075, 'WORLD TRADE CTR'), (9956, 'CATHEDRAL PKWY'), (9898, '36 ST'), (9849, 'NEVINS ST'), (9842, '33 ST-RAWSON ST'), (9779, '137 ST CITY COL'), (9753, 'MARCY AV'), (9737, 'KINGSBRIDGE RD'), (9636, 'PROSPECT PARK'), (9627, 'HOUSTON ST'), (9606, '191 ST'), (9603, '18 AV'), (9495, 'JAMAICA 179 ST'), (9474, '40 ST LOWERY ST'), (9265, 'BERGEN ST'), (9251, '79 ST'), (9037, '110 ST'), (8953, 'RECTOR ST'), (8834, 'GUN HILL RD'), (8799, 'NEWKIRK PLAZA'), (8750, 'ROCKAWAY AV'), (8687, 'HOYT-SCHER'), (8676, 'QUEENS PLAZA'), (8632, '3 AV-149 ST'), (8539, 'ASTORIA BLVD'), (8485, 'NEWARK HW BMEBE'), (8372, 'BROADWAY JCT'), (8345, 'HARRISON'), (8277, 'FT HAMILTON PKY'), (8214, 'FORDHAM RD'), (8188, 'METROPOLITAN AV'), (8024, '90 ST-ELMHURST'), (7768, '4AV-9 ST'), (7765, 'CENTRAL PK N110'), (7742, 'PATH WTC 2'), (7685, '135 ST'), (7667, '149/GRAND CONC'), (7649, 'JFK JAMAICA CT1'), (7607, 'HUNTS POINT AV'), (7491, '169 ST'), (7464, '175 ST'), (7442, 'BEDFORD PK BLVD'), (7186, 'HALSEY ST'), (7120, '14TH STREET'), (6967, 'OZONE PK LEFFRT'), (6865, '21 ST-QNSBRIDGE'), (6778, 'GRAHAM AV'), (6772, 'HOYT ST'), (6726, '46 ST'), (6677, 'CASTLE HILL AV'), (6565, 'ROOSEVELT ISLND'), (6432, '3 AV'), (6432, '116 ST-COLUMBIA'), (6421, 'HUNTERS PT AV'), (6191, 'MYRTLE AV'), (6122, 'EAST BROADWAY'), (6119, 'GREENPOINT AV'), (6095, '63 DR-REGO PARK'), (6067, 'PARSONS BLVD'), (5913, 'SARATOGA AV'), (5901, 'WESTCHESTER SQ'), (5873, 'NEW LOTS AV'), (5687, 'AVENUE U'), (5683, '157 ST'), (5663, 'CLINTON-WASH AV'), (5635, 'MORISN AV/SNDVW'), (5585, 'E 180 ST'), (5541, 'SMITH-9 ST'), (5536, '4 AV-9 ST'), (5438, 'VAN SICLEN AV'), (5352, '52 ST'), (5342, 'ELDER AV'), (5335, 'BLEECKER ST'), (5331, 'NORWOOD 205 ST'), (5329, 'PELHAM PKWY'), (5292, 'FRESH POND RD'), (5289, 'FLUSHING AV'), (5277, '36 AV'), (5258, 'FAR ROCKAWAY'), (5234, 'BURNSIDE AV'), (5192, '45 ST'), (5163, 'TREMONT AV'), (5156, '174 ST'), (5043, 'KINGSTON-THROOP'), (5040, 'NORTHERN BLVD'), (5029, '18 ST'), (5027, 'GRANT AV'), (4988, 'CARROLL ST'), (4971, 'PELHAM BAY PARK'), (4899, 'CLASSON AV'), (4829, '9 AV'), (4801, 'JAMAICA VAN WK'), (4794, '3 AV 138 ST'), (4780, 'BEDFORD-NOSTRAN'), (4777, '69 ST'), (4775, 'BROOK AV'), (4736, '74 ST-BROADWAY'), (4729, 'UNION ST'), (4696, 'WAKEFIELD/241'), (4695, 'PARK PLACE'), (4645, '67 AV'), (4628, '9TH STREET'), (4473, 'PRESIDENT ST'), (4409, 'CRESCENT ST'), (4397, 'NEWKIRK AV'), (4370, 'QUEENSBORO PLZ'), (4306, 'YORK ST'), (4260, 'NASSAU AV'), (4253, 'DYCKMAN ST'), (4220, '25 ST'), (4210, 'EASTCHSTER/DYRE'), (4118, 'NEW LOTS'), (4057, 'EASTN PKWY-MUSM'), (4051, 'WILSON AV'), (4039, 'KINGSTON AV'), (3927, 'HOWARD BCH JFK'), (3921, 'CITY HALL'), (3902, 'E 149 ST'), (3859, 'MONTROSE AV'), (3853, 'MT EDEN AV'), (3763, 'INWOOD-207 ST'), (3756, 'ST LAWRENCE AV'), (3700, 'BAY RIDGE-95 ST'), (3660, 'PARKSIDE AV'), (3637, 'HARLEM 148 ST'), (3623, 'CLARK ST'), (3528, 'NEW UTRECHT AV'), (3513, 'FREEMAN ST'), (3506, 'KNICKERBOCKER'), (3438, 'MORGAN AV'), (3405, 'WEST FARMS SQ'), (3395, 'AVENUE J'), (3322, 'EUCLID AV'), (3309, '155 ST'), (3293, 'STERLING ST'), (3272, 'EAST 105 ST'), (3270, '176 ST'), (3244, '15 ST-PROSPECT'), (3226, 'V.CORTLANDT PK'), (3211, '183 ST'), (3184, 'FRANKLIN ST'), (3173, 'W 8 ST-AQUARIUM'), (3140, 'CANARSIE-ROCKAW'), (3131, 'BUHRE AV'), (3115, 'LORIMER ST'), (3114, '207 ST'), (3012, 'CENTRAL AV'), (2941, 'AVENUE M'), (2922, 'BEVERLEY ROAD'), (2921, 'NORWOOD AV'), (2905, 'ELMHURST AV'), (2889, 'GRAND ARMY PLAZ'), (2888, 'BEACH 67 ST'), (2812, '138/GRAND CONC'), (2794, 'CLEVELAND ST'), (2792, 'INTERVALE AV'), (2752, 'BOWERY'), (2749, 'BROAD ST'), (2671, 'SUTTER AV'), (2649, 'LONGWOOD AV'), (2643, 'BRIARWOOD'), (2585, 'MOSHOLU PKWY'), (2562, 'AVENUE H'), (2535, 'FOREST AVE'), (2519, 'COURT SQ-23 ST'), (2448, 'SUTPHIN BLVD'), (2398, 'CYPRESS AV'), (2381, '6 AV'), (2352, 'SENECA AVE'), (2332, 'RALPH AV'), (2270, '75 ST-ELDERTS'), (2244, 'BEACH 25 ST'), (2208, 'ZEREGA AV'), (2202, '65 ST'), (2201, 'ALABAMA AV'), (2188, '39 AV'), (2185, 'MYRTLE-WILLOUGH'), (2123, 'PENNSYLVANIA AV'), (2110, 'MORRIS PARK'), (2104, 'GATES AV'), (2092, 'ROCKAWAY BLVD'), (2070, 'AVENUE P'), (2066, '80 ST'), (2058, 'LIVONIA AV'), (2055, 'PROSPECT AV'), (2036, 'CORTELYOU RD'), (2035, 'BOTANIC GARDEN'), (2028, 'WHITLOCK AV'), (2016, 'BEACH 60 ST'), (2003, 'AVENUE X'), (1988, 'SIMPSON ST'), (1979, 'DITMAS AV'), (1974, '20 AV'), (1970, '174-175 STS'), (1922, 'MIDDLETOWN RD'), (1905, '190 ST'), (1888, '85 ST-FOREST PK'), (1869, '71 ST'), (1844, 'OCEAN PKWY'), (1822, 'ALLERTON AV'), (1800, 'JEFFERSON ST'), (1750, '21 ST'), (1704, 'AVENUE N'), (1658, 'AVENUE I'), (1639, 'LAFAYETTE AV'), (1636, '225 ST'), (1606, '182-183 STS'), (1602, 'WOODLAWN'), (1555, 'KOSCIUSZKO ST'), (1486, 'AQUEDUCT N.COND'), (1481, 'BEACH 90 ST'), (1423, 'VAN SICLEN AVE'), (1407, '231 ST'), (1370, '233 ST'), (1367, 'BUSHWICK AV'), (1365, 'SHEPHERD AV'), (1331, 'MARBLE HILL-225'), (1305, 'ROCKAWAY PARK B'), (1304, 'WINTHROP ST'), (1249, 'NECK RD'), (1203, 'BEACH 36 ST'), (1194, 'HEWES ST'), (1190, 'LIBERTY AV'), (1185, '219 ST'), (1174, 'NEREID AV'), (1163, 'CHAUNCEY ST'), (1130, '25 AV'), (1122, 'BEACH 98 ST'), (1080, '163 ST-AMSTERDM'), (1073, '55 ST'), (1047, '88 ST'), (1032, 'BRONX PARK EAST'), (1000, 'BURKE AV'), (966, \"E 143/ST MARY'S\"), (938, '75 AV'), (875, 'BEACH 44 ST'), (864, '104 ST'), (855, 'CYPRESS HILLS'), (850, '215 ST'), (844, 'JACKSON AV'), (816, 'BEVERLY RD'), (790, 'NEWARK BM BW'), (769, 'ATLANTIC AV'), (712, 'BAY 50 ST'), (612, 'NEPTUNE AV'), (521, 'BEACH 105 ST'), (508, 'BAYCHESTER AV'), (188, 'AQUEDUCT RACETR'), (147, '121 ST'), (145, 'NEWARK C'), (96, 'BROAD CHANNEL'), (95, '238 ST'), (56, 'RIT-ROOSEVELT'), (55, 'RIT-MANHATTAN'), (18, 'ORCHARD BEACH'), (0, 'TOMPKINSVILLE'), (0, 'SUTTER AV-RUTLD'), (0, 'ST. GEORGE'), (0, 'JUNIUS ST')]\n"
     ]
    }
   ],
   "source": [
    "total_dict = {}\n",
    "\n",
    "sortList = []\n",
    "total_dict = {}\n",
    "for tup, scps in bigDict.items():\n",
    "    total_dict[tup[-1]] = total_dict.get(tup[-1], 0) + getStationRangeRider(bigDict[tup], dt(2017,6,12,0,0,0), dt(2017,6,13,0,0,0))\n",
    "for thing1, thing2 in total_dict.items():\n",
    "    sortList.append((thing2, thing1))\n",
    "sortList.sort(reverse = True)\n",
    "print(sortList)"
   ]
  },
  {
   "cell_type": "markdown",
   "metadata": {
    "colab_type": "text",
    "id": "kB0JnTbePhWB"
   },
   "source": [
    "29.Make a histogram of those station totals:"
   ]
  },
  {
   "cell_type": "code",
   "execution_count": 62,
   "metadata": {
    "colab": {},
    "colab_type": "code",
    "id": "q4Q7Uzc8PhWC"
   },
   "outputs": [
    {
     "data": {
      "image/png": "[encoded data removed]",
      "text/plain": [
       "<Figure size 720x360 with 1 Axes>"
      ]
     },
     "metadata": {},
     "output_type": "display_data"
    }
   ],
   "source": [
    "totals = [total for total, station in sortList]\n",
    "plt.hist(totals, rwidth = 0.9, bins = 20)\n",
    "plt.title(\"Frequency of Rider Totals From 17/06/12-17/06/13\")\n",
    "plt.xlabel(\"Total Riders\")\n",
    "plt.ylabel(\"Frequency (# of Stations)\");"
   ]
  },
  {
   "cell_type": "markdown",
   "metadata": {
    "colab_type": "text",
    "id": "CtbpBxyRPhWE"
   },
   "source": [
    "30.Create a commuter index to be the average weekday exits divided by the sum of the avg weekday exits + avg weekend exits. To do this, first make a function called isWeekday that returns True if the datetime input is a weekday and False if it isn't."
   ]
  },
  {
   "cell_type": "code",
   "execution_count": 64,
   "metadata": {
    "colab": {},
    "colab_type": "code",
    "id": "MIHgElRQPhWE"
   },
   "outputs": [
    {
     "name": "stdout",
     "output_type": "stream",
     "text": [
      "False\n",
      "False\n",
      "True\n",
      "True\n",
      "True\n",
      "True\n",
      "True\n"
     ]
    }
   ],
   "source": [
    "def isWeekday(date):\n",
    "    '''\n",
    "    This function takes in a datetime object and returns True if that day is a weekday and False if it is not.\n",
    "    '''\n",
    "    if date.weekday() in [5,6]:\n",
    "        return False\n",
    "    return True\n",
    "\n",
    "for i in range(10,17):\n",
    "    print(isWeekday(dt(2017,6,i,0,0,0)))"
   ]
  },
  {
   "cell_type": "markdown",
   "metadata": {
    "colab_type": "text",
    "id": "z-07SD3SPhWG"
   },
   "source": [
    "31.Make a function called commuterIndex that inputs a (C/A,UNIT,STATION) tuple and outputs its commuter index. \n",
    "\n",
    "For example, the output of \n",
    "```python\n",
    "getCommuteIndex(('PTH11', 'R545', '14TH STREET'))\n",
    "```\n",
    "should be 0.663."
   ]
  },
  {
   "cell_type": "code",
   "execution_count": 72,
   "metadata": {
    "colab": {},
    "colab_type": "code",
    "id": "JbZfNH0SPhWI"
   },
   "outputs": [
    {
     "data": {
      "text/plain": [
       "0.676321142201943"
      ]
     },
     "execution_count": 72,
     "metadata": {},
     "output_type": "execute_result"
    }
   ],
   "source": [
    "def getCommuteIndex(iD):\n",
    "    '''\n",
    "    This function takes in a (C/A,UNIT,STATION) tuple and returns the commuter index for that iD.\n",
    "    The commuter index is defined as the average weekday exits divided by the average weekday exits + average \n",
    "    weekend exits.\n",
    "    '''\n",
    "    weekdays = []\n",
    "    weekends = []\n",
    "    for i in range(10,17):\n",
    "        for key in bigDict.keys():\n",
    "            if key == iD and isWeekday(dt(2017,6,i,0,0,0)):\n",
    "                weekdays.append(abs(getStationRangeRider(bigDict[iD], dt(2017,6,i,0,0,0), dt(2017,6,i+1,0,0,0))))\n",
    "            elif key == iD:\n",
    "                weekends.append(abs(getStationRangeRider(bigDict[iD], dt(2017,6,i,0,0,0), dt(2017,6,i+1,0,0,0))))\n",
    "    dayAvg = sum(weekdays)/5\n",
    "    endAvg = sum(weekends)/2\n",
    "    try:\n",
    "        return dayAvg/(endAvg + dayAvg)\n",
    "    except:\n",
    "        return 0\n",
    "\n",
    "getCommuteIndex(('PTH11', 'R545', '14TH STREET'))"
   ]
  },
  {
   "cell_type": "markdown",
   "metadata": {
    "colab_type": "text",
    "id": "UQ80WNkhPhWK"
   },
   "source": [
    "32.Create a sorted list of tuples in descending order containing the commuter index and the station area tuple."
   ]
  },
  {
   "cell_type": "code",
   "execution_count": 73,
   "metadata": {
    "colab": {},
    "colab_type": "code",
    "id": "Y2Bu9CROPhWK"
   },
   "outputs": [
    {
     "name": "stdout",
     "output_type": "stream",
     "text": [
      "[(1.0, ('R630', 'R066', 'JUNIUS ST')), (1.0, ('R627', 'R063', 'SUTTER AV-RUTLD')), (1.0, ('R237B', 'R047', 'GRD CNTRL-42 ST')), (1.0, ('R204A', 'R043', 'WALL ST')), (1.0, ('R203A', 'R043', 'WALL ST')), (1.0, ('R112', 'R027', 'WALL ST')), (1.0, ('N554', 'R423', 'AVENUE N')), (1.0, ('N401', 'R360', '21 ST')), (0.9997511653754915, ('R634', 'R069', 'NEW LOTS AV')), (0.9992930863848438, ('R242A', 'R049', '51 ST')), (0.9991714603602964, ('R237', 'R046', 'GRD CNTRL-42 ST')), (0.999009861776704, ('R230', 'R143', '28 ST')), (0.9989731653888281, ('N412', 'R299', 'BROADWAY')), (0.9988500837796104, ('R633', 'R068', 'VAN SICLEN AV')), (0.9987639060568603, ('R137', 'R031', '34 ST-PENN STA')), (0.9983459591782725, ('R629', 'R065', 'ROCKAWAY AV')), (0.9972474538948527, ('R632', 'R067', 'PENNSYLVANIA AV')), (0.9970398631758979, ('N405', 'R239', 'GREENPOINT AV')), (0.9965086507874932, ('C016', 'R278', '25 ST')), (0.9961351862511306, ('R628', 'R064', 'SARATOGA AV')), (0.9957164886629734, ('N318', 'R298', 'NORTHERN BLVD')), (0.9956817559454848, ('R112A', 'R027', 'WALL ST')), (0.9954828418571167, ('N508', 'R453', '23 ST')), (0.9951557799194329, ('N415', 'R286', 'MYRTLE-WILLOUGH')), (0.9933015778505507, ('N414', 'R316', 'FLUSHING AV')), (0.9921636558607605, ('N414A', 'R316', 'FLUSHING AV')), (0.991384958866212, ('N408A', 'R256', 'NASSAU AV')), (0.9862637362637363, ('N416', 'R286', 'MYRTLE-WILLOUGH')), (0.985985985985986, ('N316', 'R267', '46 ST')), (0.9850679408690458, ('C010', 'R231', 'UNION ST')), (0.9830611977841429, ('N304', 'R015', '5 AV/53 ST')), (0.9601226993865031, ('E016', 'R400', 'BAY 50 ST')), (0.9511793261309478, ('R201', 'R041', 'BOWLING GREEN')), (0.9461851833224363, ('R203', 'R043', 'WALL ST')), (0.9440890893194055, ('N511', 'R163', '14 ST')), (0.9437704772868148, ('E015', 'R399', '25 AV')), (0.9347702779353375, ('R121', 'R290', 'HOUSTON ST')), (0.9320347799673463, ('R208', 'R014', 'FULTON ST')), (0.9308408339103008, ('R200A', 'R041', 'BOWLING GREEN')), (0.9151395654527178, ('R204', 'R043', 'WALL ST')), (0.9086556633488724, ('R205A', 'R014', 'FULTON ST')), (0.9073295949394167, ('R206', 'R014', 'FULTON ST')), (0.9029024848611401, ('R117', 'R343', 'FRANKLIN ST')), (0.8936385481219173, ('R133', 'R272', '28 ST')), (0.893227856783575, ('N312', 'R339', '36 ST')), (0.8925025676138308, ('R210A', 'R044', 'BROOKLYN BRIDGE')), (0.8872656927489827, ('N091', 'R029', 'CHAMBERS ST')), (0.8727753387150072, ('R129', 'R321', '18 ST')), (0.8726340694006309, ('R123', 'R290', 'HOUSTON ST')), (0.8718520169378203, ('N023', 'R332', '135 ST')), (0.8604437460981067, ('PTH13', 'R541', 'THIRTY ST')), (0.8598921710606668, ('R602', 'R108', 'BOROUGH HALL')), (0.8554297881878292, ('R604', 'R108', 'BOROUGH HALL')), (0.8545342232534314, ('PTH16', 'R550', 'LACKAWANNA')), (0.8522386401510943, ('R119', 'R320', 'CANAL ST')), (0.8491755819177079, ('N095A', 'R014', 'FULTON ST')), (0.8490663951199929, ('N095', 'R014', 'FULTON ST')), (0.846523417926725, ('R202', 'R042', 'BOWLING GREEN')), (0.8451024080898105, ('R131', 'R190', '23 ST')), (0.8383606739287234, ('PTH01', 'R549', 'NEWARK HW BMEBE')), (0.8333776119575388, ('R113', 'R028', 'FULTON ST')), (0.8211582232200788, ('R532H', 'R328', 'METS-WILLETS PT')), (0.8204424253701214, ('N501', 'R020', '47-50 STS ROCK')), (0.8183785502072355, ('N502', 'R021', '42 ST-BRYANT PK')), (0.8120978284321814, ('R507', 'R134', 'HUNTERS PT AV')), (0.8106149103362603, ('N500', 'R020', '47-50 STS ROCK')), (0.8090094513317786, ('R516', 'R291', '33 ST-RAWSON ST')), (0.8085106382978723, ('R647', 'R110', 'FLATBUSH AV-B.C')), (0.8079435675447395, ('N306', 'R017', 'LEXINGTON AV/53')), (0.8074075998026026, ('N305A', 'R016', 'LEXINGTON AV/53')), (0.8027643044168777, ('A077', 'R028', 'FULTON ST')), (0.8013483081874491, ('PTH05', 'R543', 'EXCHANGE PLACE')), (0.7991063171834195, ('PTH21', 'R540', 'PATH WTC 2')), (0.7983608187069909, ('R241A', 'R048', 'GRD CNTRL-42 ST')), (0.7931893733801729, ('N305', 'R017', 'LEXINGTON AV/53')), (0.7899727167130393, ('N325A', 'R218', 'ELMHURST AV')), (0.7855786606354894, ('N504', 'R021', '42 ST-BRYANT PK')), (0.7851239669421488, ('A082', 'R028', 'FULTON ST')), (0.7836842246780135, ('N331', 'R219', '67 AV')), (0.7835897435897435, ('R315', 'R406', 'PROSPECT AV')), (0.7826224029761342, ('R125', 'R189', 'CHRISTOPHER ST')), (0.7803855397044537, ('R317', 'R408', 'SIMPSON ST')), (0.7763905127776849, ('N101', 'R252', 'HIGH ST')), (0.7754329004329005, ('R227', 'R131', '23 ST')), (0.7724028273909455, ('R240', 'R047', 'GRD CNTRL-42 ST')), (0.7696431563075892, ('R319', 'R409', 'FREEMAN ST')), (0.7685468485655664, ('R102', 'R304', 'RECTOR ST')), (0.76242922516094, ('N330', 'R202', '63 DR-REGO PARK')), (0.7622151840349313, ('PTH12', 'R542', 'TWENTY THIRD ST')), (0.7620752142106089, ('N090', 'R139', 'CANAL ST')), (0.7617124394184168, ('N100', 'R252', 'HIGH ST')), (0.7613253842722149, ('R110', 'R027', 'WALL ST')), (0.7599912084691747, ('R236', 'R045', 'GRD CNTRL-42 ST')), (0.7591482796305687, ('PTH22', 'R540', 'PATH NEW WTC')), (0.7583969723592621, ('R726', 'R329', 'MORRIS PARK')), (0.758342826974909, ('R245A', 'R051', '59 ST')), (0.7576003399389655, ('N700A', 'R570', '72 ST-2 AVE')), (0.7503590851614963, ('N098', 'R028', 'FULTON ST')), (0.7481852877347901, ('R517', 'R291', '33 ST-RAWSON ST')), (0.7474685736405681, ('R321', 'R386', '174 ST')), (0.7460597570663611, ('N501A', 'R020', '47-50 STS ROCK')), (0.745057232049948, ('N330C', 'R202', '63 DR-REGO PARK')), (0.7447243022464262, ('N138', 'R355', '111 ST')), (0.7437918695687267, ('R155', 'R116', '50 ST')), (0.7437405478070912, ('A071', 'R044', 'CHAMBERS ST')), (0.7421861640478046, ('PTH06', 'R546', 'PAVONIA/NEWPORT')), (0.7407364137313317, ('A050', 'R088', 'CORTLANDT ST')), (0.7392064618558812, ('A035', 'R170', '14 ST-UNION SQ')), (0.737988179067334, ('N307', 'R359', 'COURT SQ-23 ST')), (0.7376146788990826, ('R730', 'R431', 'EASTCHSTER/DYRE')), (0.7369167676871888, ('R608', 'R056', 'NEVINS ST')), (0.7367630115714071, ('K017', 'R401', 'CENTRAL AV')), (0.7350522475731157, ('N332', 'R219', '67 AV')), (0.7326216423258457, ('R124', 'R290', 'HOUSTON ST')), (0.7318439909746844, ('R115', 'R029', 'PARK PLACE')), (0.7313130213507151, ('K025', 'R404', 'FRESH POND RD')), (0.7295596553051615, ('N102', 'R127', 'JAY ST-METROTEC')), (0.7283199304499022, ('R727', 'R430', 'PELHAM PKWY')), (0.7277303549399327, ('R229', 'R143', '28 ST')), (0.727372085492228, ('R227A', 'R131', '23 ST')), (0.7264119039567128, ('R232A', 'R176', '33 ST')), (0.725853842628784, ('N303', 'R015', '5 AV/53 ST')), (0.725520744687815, ('N301', 'R113', '7 AV')), (0.7247278790982261, ('R231A', 'R176', '33 ST')), (0.724684900968876, ('A047', 'R087', 'CITY HALL')), (0.7235955459447819, ('R232', 'R176', '33 ST')), (0.7217951447201394, ('N300', 'R113', '7 AV')), (0.7215287113501057, ('N505', 'R022', '34 ST-HERALD SQ')), (0.71890007958506, ('R243', 'R049', '51 ST')), (0.7172816564905761, ('K024', 'R403', 'FOREST AVE')), (0.7169161181286902, ('N507', 'R023', '34 ST-HERALD SQ')), (0.7146731045504391, ('B024A', 'R211', 'KINGS HWY')), (0.7130386696686022, ('N086', 'R282', 'SPRING ST')), (0.7130308434053233, ('C003', 'R089', 'JAY ST-METROTEC')), (0.7129698548567175, ('N551', 'R421', 'AVENUE I')), (0.7118228075426519, ('R501', 'R054', '5 AVE')), (0.7097616267087999, ('N133', 'R384', '88 ST')), (0.7097301717089125, ('R118', 'R343', 'FRANKLIN ST')), (0.709267110841914, ('N139', 'R355', '111 ST')), (0.7092098285310235, ('R646', 'R110', 'FLATBUSH AV-B.C')), (0.7084233261339093, ('N555', 'R423', 'AVENUE N')), (0.7075999748434454, ('R246', 'R177', '68ST-HUNTER CO')), (0.7072465972169417, ('R421', 'R427', 'MIDDLETOWN RD')), (0.7063656905484673, ('N067', 'R012', '34 ST-PENN STA')), (0.706275295689418, ('R231', 'R176', '33 ST')), (0.7055717746443879, ('K022', 'R402', 'SENECA AVE')), (0.7048523288843924, ('N017', 'R331', '155 ST')), (0.7045501338274655, ('N547', 'R420', 'DITMAS AV')), (0.7044887145259082, ('N557', 'R130', 'KINGS HWY')), (0.7030004348456298, ('B028', 'R136', 'SHEEPSHEAD BAY')), (0.7018385291766587, ('N604', 'R342', 'JAMAICA VAN WK')), (0.7016959143055702, ('PTH20', 'R549', 'NEWARK HM HE')), (0.6998143181349288, ('R406', 'R448', \"E 143/ST MARY'S\")), (0.6997567649741564, ('K019', 'R413', 'KNICKERBOCKER')), (0.699753429291176, ('N073', 'R013', '34 ST-PENN STA')), (0.6979373639890244, ('N316A', 'R267', '46 ST')), (0.6977112918792224, ('N092', 'R029', 'CHAMBERS ST')), (0.6970417783928726, ('R422', 'R428', 'BUHRE AV')), (0.6962534169480624, ('N068', 'R012', '34 ST-PENN STA')), (0.6958794402004851, ('N089', 'R139', 'CANAL ST')), (0.6956100545556518, ('A083', 'R125', 'BROAD ST')), (0.6947816293329996, ('R238A', 'R046', 'GRD CNTRL-42 ST')), (0.6918660736544319, ('R249', 'R179', '86 ST')), (0.6917567135156423, ('R182', 'R035', '168 ST')), (0.6917183238284156, ('R238', 'R046', 'GRD CNTRL-42 ST')), (0.6913721744667304, ('N509', 'R203', '23 ST')), (0.6905416842996192, ('R644', 'R135', 'NEWKIRK AV')), (0.6896291545629456, ('R226', 'R131', '23 ST')), (0.6883943208024228, ('N337', 'R255', 'BRIARWOOD')), (0.6883406788392192, ('N131', 'R383', '80 ST')), (0.6882217090069284, ('PTH19', 'R549', 'NEWARK C')), (0.6880503313751059, ('R134', 'R272', '28 ST')), (0.6879529786105709, ('R143', 'R032', 'TIMES SQ-42 ST')), (0.6874597057264431, ('N069', 'R013', '34 ST-PENN STA')), (0.6874593300190011, ('N607', 'R025', 'JAMAICA CENTER')), (0.6867167919799498, ('N310', 'R140', 'QUEENS PLAZA')), (0.6864753923847969, ('N512', 'R163', '14 ST')), (0.6853684311653376, ('R637', 'R451', 'WINTHROP ST')), (0.6846275752773375, ('N137', 'R354', '104 ST')), (0.6845846914690346, ('R244A', 'R050', '59 ST')), (0.6844127035654385, ('A058', 'R001', 'WHITEHALL S-FRY')), (0.6836609336609336, ('R173', 'R159', '116 ST-COLUMBIA')), (0.6832711564078198, ('PTH07', 'R550', 'CITY / BUS')), (0.683035335389142, ('R247', 'R178', '77 ST')), (0.6828287903529707, ('N562', 'R426', 'NEPTUNE AV')), (0.6828100412405557, ('PTH04', 'R551', 'GROVE STREET')), (0.6809576279675448, ('N024', 'R332', '135 ST')), (0.6806479520300707, ('R419', 'R326', 'ZEREGA AV')), (0.6800205444273241, ('H040', 'R376', 'EAST 105 ST')), (0.6799929241110915, ('R215', 'R322', 'SPRING ST')), (0.6793760831889082, ('N559', 'R425', 'AVENUE U')), (0.6791695146958304, ('N419', 'R287', 'CLASSON AV')), (0.6770705476649717, ('B027', 'R136', 'SHEEPSHEAD BAY')), (0.6766767762143887, ('N141', 'R356', 'OZONE PK LEFFRT')), (0.676498344503271, ('N510', 'R163', '14 ST')), (0.676321142201943, ('PTH11', 'R545', '14TH STREET')), (0.6761703922395613, ('R120', 'R320', 'CANAL ST')), (0.6753061195330695, ('R219', 'R160', 'ASTOR PL')), (0.6740791685771054, ('A054', 'R227', 'RECTOR ST')), (0.6739355462010904, ('N338B', 'R128', 'SUTPHIN BLVD')), (0.6738852852546096, ('K026', 'R100', 'METROPOLITAN AV')), (0.6738672841130348, ('N327', 'R254', 'GRAND-NEWTOWN')), (0.6733459900129226, ('N531', 'R129', 'BERGEN ST')), (0.6726106679180354, ('J002', 'R460', 'MARCY AV')), (0.6722689075630253, ('R410', 'R450', 'LONGWOOD AV')), (0.6719858156028369, ('R729', 'R292', 'BAYCHESTER AV')), (0.670690682272138, ('R242', 'R049', '51 ST')), (0.6704215065241513, ('R251', 'R144', '96 ST')), (0.6700791065611913, ('N122', 'R439', 'ROCKAWAY AV')), (0.6700670214863, ('A021', 'R032', 'TIMES SQ-42 ST')), (0.6698909009110336, ('J003', 'R352', 'HEWES ST')), (0.6697439802036738, ('R405', 'R447', 'CYPRESS AV')), (0.6697237603825824, ('R245', 'R051', '59 ST')), (0.6695775312721265, ('N558', 'R130', 'KINGS HWY')), (0.6686059776408853, ('N134', 'R385', 'ROCKAWAY BLVD')), (0.6684186415245473, ('PTH03', 'R552', 'JOURNAL SQUARE')), (0.6680382819362892, ('R316', 'R407', 'INTERVALE AV')), (0.6677572335254933, ('A002', 'R051', '59 ST')), (0.6672812778387786, ('N309A', 'R140', 'QUEENS PLAZA')), (0.6672733257178262, ('N039', 'R251', '96 ST')), (0.6670442592442754, ('N130', 'R383', '80 ST')), (0.6668379582048647, ('N542', 'R241', '15 ST-PROSPECT')), (0.6667644040463275, ('N040', 'R251', '96 ST')), (0.6646153846153846, ('TRAM1', 'R468', 'RIT-MANHATTAN')), (0.6645646048571046, ('N556', 'R424', 'AVENUE P')), (0.6641510965045747, ('G009', 'R151', 'CONEY IS-STILLW')), (0.6635709165705738, ('R510', 'R090', '39 AV')), (0.6635290998276547, ('N043', 'R186', '86 ST')), (0.6635083680155849, ('N519', 'R461', \"B'WAY-LAFAYETTE\")), (0.6634990426210907, ('N334B', 'R341', '75 AV')), (0.6631581063154086, ('N051', 'R084', '59 ST COLUMBUS')), (0.663071133659369, ('R609', 'R056', 'NEVINS ST')), (0.6623633454804018, ('R625', 'R062', 'CROWN HTS-UTICA')), (0.6619042807061183, ('R159', 'R164', '66 ST-LINCOLN')), (0.6618972277636376, ('R312', 'R405', 'JACKSON AV')), (0.6617743258059463, ('N700', 'R570', '72 ST-2 AVE')), (0.6609083850931677, ('C027', 'R216', 'BAY RIDGE-95 ST')), (0.6608956932322221, ('N135', 'R385', 'ROCKAWAY BLVD')), (0.6601276833578676, ('A006', 'R079', '5 AV/59 ST')), (0.6594898617181343, ('N340', 'R115', '169 ST')), (0.6585292968301036, ('PTH09', 'R548', 'CHRISTOPHER ST')), (0.6582809224318659, ('J025', 'R003', 'CYPRESS HILLS')), (0.6582631996075027, ('N503', 'R021', '42 ST-BRYANT PK')), (0.6567668504357105, ('N322', 'R340', '65 ST')), (0.6566091643038029, ('R259', 'R307', '138/GRAND CONC')), (0.6560375895260253, ('A015', 'R081', '49 ST')), (0.6559532418878706, ('N329', 'R201', 'WOODHAVEN BLVD')), (0.6558050785263466, ('E004', 'R234', '50 ST')), (0.6555931178605962, ('R138', 'R293', '34 ST-PENN STA')), (0.6555653492785732, ('R412', 'R146', 'HUNTS POINT AV')), (0.6546717505032953, ('A025', 'R023', '34 ST-HERALD SQ')), (0.6544135323557051, ('R417', 'R222', 'PARKCHESTER')), (0.6542946296600427, ('E003', 'R369', 'FT HAMILTON PKY')), (0.6542457900394123, ('N087', 'R282', 'SPRING ST')), (0.6542104580251719, ('E013', 'R373', '20 AV')), (0.6541516891306413, ('R168A', 'R168', '96 ST')), (0.6536267318663407, ('J035', 'R008', '111 ST')), (0.6530763030628695, ('N561', 'R271', 'AVENUE X')), (0.6530662106034694, ('R141', 'R031', '34 ST-PENN STA')), (0.652946315891661, ('N007A', 'R174', '181 ST')), (0.6522391793845383, ('R326', 'R389', 'BRONX PARK EAST')), (0.6520915445419506, ('N601', 'R319', 'LEXINGTON AV/63')), (0.6518744805103682, ('R550', 'R072', '34 ST-HUDSON YD')), (0.6518130976005774, ('N035', 'R334', 'CATHEDRAL PKWY')), (0.6509351604454908, ('B022', 'R229', 'AVENUE M')), (0.6508974335754261, ('D005', 'R398', 'NEW UTRECHT AV')), (0.6503580912529171, ('N548', 'R420', 'DITMAS AV')), (0.6503260625140544, ('A055', 'R227', 'RECTOR ST')), (0.6499588903437985, ('J031', 'R006', 'WOODHAVEN BLVD')), (0.6498860725496933, ('N606', 'R025', 'JAMAICA CENTER')), (0.6494891490789768, ('R521', 'R327', '52 ST')), (0.6493667660192131, ('R217A', 'R194', 'BLEECKER ST')), (0.6490360137945609, ('B024', 'R211', 'KINGS HWY')), (0.6489241223103057, ('R335', 'R444', 'NEREID AV')), (0.6486239068191114, ('R248', 'R178', '77 ST')), (0.6484644781067268, ('R728', 'R226', 'GUN HILL RD')), (0.6482552120661921, ('N535', 'R220', 'CARROLL ST')), (0.6482347534602076, ('N044', 'R187', '81 ST-MUSEUM')), (0.6481971183550405, ('J007', 'R377', 'FLUSHING AV')), (0.6479911537043863, ('C028', 'R216', 'BAY RIDGE-95 ST')), (0.6479473964812511, ('J030', 'R005', '85 ST-FOREST PK')), (0.6478982172551143, ('E012', 'R372', '18 AV')), (0.6473857034604699, ('C024', 'R214', '77 ST')), (0.6456884301847282, ('R130', 'R321', '18 ST')), (0.6455728286583305, ('A027', 'R082', '28 ST')), (0.6450120903044045, ('B019', 'R149', 'NEWKIRK PLAZA')), (0.6449331608451919, ('N342', 'R019', 'JAMAICA 179 ST')), (0.6444891244745019, ('R407', 'R448', \"E 143/ST MARY'S\")), (0.6440781734757755, ('R610', 'R057', 'ATL AV-BARCLAY')), (0.6439512011608535, ('N311', 'R339', '36 ST')), (0.6430935047745108, ('E011', 'R371', '79 ST')), (0.6430062630480167, ('N319', 'R298', 'NORTHERN BLVD')), (0.6424941499042711, ('R328', 'R361', 'PELHAM PKWY')), (0.6421397362846938, ('A029', 'R082', '28 ST')), (0.6418040678782043, ('R635', 'R277', 'PRESIDENT ST')), (0.641706119001578, ('N702A', 'R572', '96 ST-2 AVE')), (0.6415701146053763, ('N600', 'R302', '57 ST')), (0.641136244082062, ('N539A', 'R288', '7 AV')), (0.6408374703216059, ('A061', 'R142', 'DELANCEY/ESSEX')), (0.6406935757837583, ('N315', 'R238', 'STEINWAY ST')), (0.6406412753045605, ('R334', 'R367', '233 ST')), (0.6405040594972031, ('N063A', 'R011', '42 ST-PORT AUTH')), (0.6403091557669441, ('N543', 'R289', 'FT HAMILTON PKY')), (0.6402907183256373, ('J020', 'R433', 'ALABAMA AV')), (0.6400419137434212, ('C012', 'R258', '4AV-9 ST')), (0.640017055750986, ('N037', 'R314', '103 ST')), (0.6399564408548483, ('R332', 'R365', '219 ST')), (0.6398638030382399, ('N029', 'R333', '116 ST')), (0.6396349365253868, ('R165', 'R167', '86 ST')), (0.6396199287366381, ('R171', 'R192', 'CATHEDRAL PKWY')), (0.638983325238789, ('H035', 'R348', 'ATLANTIC AV')), (0.6388611697383411, ('R331', 'R364', 'GUN HILL RD')), (0.6386613047222508, ('R622', 'R123', 'FRANKLIN AV')), (0.6383460348600317, ('R509', 'R121', 'QUEENSBORO PLZ')), (0.6383313656040929, ('R293', 'R133', 'MOSHOLU PKWY')), (0.6381286304882516, ('R163', 'R166', '79 ST')), (0.6381170466067421, ('N343', 'R019', 'JAMAICA 179 ST')), (0.6380429355966052, ('R154', 'R116', '50 ST')), (0.6378923086262369, ('R122', 'R290', 'HOUSTON ST')), (0.6377886041092988, ('N549', 'R242', '18 AV')), (0.6377480996621622, ('R160A', 'R164', '66 ST-LINCOLN')), (0.6372869980528881, ('N078', 'R175', '14 ST')), (0.6372490944579857, ('N063', 'R011', '42 ST-PORT AUTH')), (0.6367277535147297, ('R135', 'R031', '34 ST-PENN STA')), (0.6364535919255888, ('N215', 'R237', '182-183 STS')), (0.6361448439308482, ('R145', 'R032', 'TIMES SQ-42 ST')), (0.6358027086809733, ('D012', 'R395', 'KINGS HWY')), (0.6357919656728565, ('C008', 'R099', 'DEKALB AV')), (0.6357048748353096, ('N333A', 'R141', 'FOREST HILLS 71')), (0.6356112327708361, ('R148', 'R033', 'TIMES SQ-42 ST')), (0.6348172940259502, ('R228', 'R143', '28 ST')), (0.6346721971889827, ('A013', 'R081', '49 ST')), (0.6346555323590815, ('N338', 'R128', 'SUTPHIN BLVD')), (0.6344016818981422, ('A033', 'R170', '14 ST-UNION SQ')), (0.6344004793039673, ('R176', 'R169', '137 ST CITY COL')), (0.6341932588112082, ('A016', 'R081', '49 ST')), (0.6336373240195762, ('R534', 'R055', 'FLUSHING-MAIN')), (0.633583932542877, ('E001', 'R368', '9 AV')), (0.633567351886459, ('N125', 'R440', 'LIBERTY AV')), (0.6334422889162458, ('H041', 'R152', 'CANARSIE-ROCKAW')), (0.6331958645820968, ('N519A', 'R461', \"B'WAY-LAFAYETTE\")), (0.6327369988140596, ('N317', 'R267', '46 ST')), (0.6317321688500728, ('N329A', 'R201', 'WOODHAVEN BLVD')), (0.6313980675511986, ('R290', 'R161', 'KINGSBRIDGE RD')), (0.6309997596089639, ('R401', 'R445', '3 AV 138 ST')), (0.6304398591816143, ('R515', 'R095', 'ASTORIA DITMARS')), (0.6302491924319336, ('N195', 'R358', 'BEACH 25 ST')), (0.6302353954537533, ('R221', 'R170', '14 ST-UNION SQ')), (0.6299043239635096, ('R333', 'R366', '225 ST')), (0.6291625747701098, ('N339A', 'R114', 'PARSONS BLVD')), (0.6291123525760397, ('N553', 'R422', 'BAY PKWY')), (0.6288828868814038, ('R220', 'R160', 'ASTOR PL')), (0.6286057925468972, ('N112A', 'R284', 'CLINTON-WASH AV')), (0.6285990805710138, ('N120A', 'R153', 'UTICA AV')), (0.6285578966823769, ('A049', 'R088', 'CORTLANDT ST')), (0.6285469743299489, ('R518', 'R261', '40 ST LOWERY ST')), (0.6283645705611024, ('J028', 'R004', '75 ST-ELDERTS')), (0.6280839572848901, ('E005', 'R247', '55 ST')), (0.62804107000747, ('R244', 'R050', '59 ST')), (0.6277501103196117, ('D003', 'R391', 'FT HAMILTON PKY')), (0.6276895967841852, ('J024', 'R437', 'CRESCENT ST')), (0.6276042785343013, ('R175', 'R169', '137 ST CITY COL')), (0.6273679639580958, ('B026', 'R230', 'NECK RD')), (0.6272064376061921, ('R252', 'R180', '103 ST')), (0.6270381836945305, ('R304', 'R206', '125 ST')), (0.6269921805049842, ('H016', 'R250', 'GRAND ST')), (0.6267440781264502, ('C025', 'R215', '86 ST')), (0.6267362505018065, ('R624', 'R124', 'KINGSTON AV')), (0.6266616546492156, ('B009', 'R411', 'PARK PLACE')), (0.6266514710227512, ('N075', 'R111', '23 ST')), (0.626549927853457, ('R114', 'R028', 'FULTON ST')), (0.6264472604613, ('R508', 'R346', 'COURT SQ')), (0.6264350897851045, ('N212', 'R253', '174-175 STS')), (0.6253113234868231, ('N103', 'R127', 'JAY ST-METROTEC')), (0.6251195978269682, ('R116', 'R030', 'CHAMBERS ST')), (0.6250066441062347, ('N340A', 'R115', '169 ST')), (0.6246566126590795, ('N034', 'R334', 'CATHEDRAL PKWY')), (0.6246385426847085, ('D010', 'R394', 'BAY PKWY')), (0.624609478978411, ('PTH02', 'R544', 'HARRISON')), (0.6240118088368448, ('N601A', 'R319', 'LEXINGTON AV/63')), (0.6239081955026947, ('R226A', 'R131', '23 ST')), (0.6238711424568179, ('R511', 'R091', '36 AV')), (0.6234650096168072, ('N225', 'R157', 'NORWOOD 205 ST')), (0.623322513444116, ('N001', 'R173', 'INWOOD-207 ST')), (0.623261573633073, ('R192', 'R039', 'MARBLE HILL-225')), (0.6228253807839457, ('N210', 'R253', '174-175 STS')), (0.622015641868783, ('R132', 'R190', '23 ST')), (0.6218939918455265, ('R636', 'R209', 'STERLING ST')), (0.6217984183291567, ('R142', 'R293', '34 ST-PENN STA')), (0.621340171334812, ('N333B', 'R141', 'FOREST HILLS 71')), (0.6209208269292305, ('A069', 'R044', 'CHAMBERS ST')), (0.619696833796753, ('N224', 'R157', 'NORWOOD 205 ST')), (0.6195940284214307, ('R513', 'R093', '30 AV')), (0.619567055640115, ('N076', 'R111', '23 ST')), (0.619119492280555, ('N094', 'R029', 'WORLD TRADE CTR')), (0.6189560408297962, ('N536', 'R270', 'SMITH-9 ST')), (0.6184635158356501, ('N108', 'R217', 'HOYT-SCHER')), (0.6181427034779491, ('N222', 'R156', 'BEDFORD PK BLVD')), (0.6176977290524667, ('N605', 'R024', 'SUTPHIN-ARCHER')), (0.617454375292466, ('J013', 'R380', 'GATES AV')), (0.6169117839136908, ('B025', 'R150', 'AVENUE U')), (0.6168189711617844, ('N701A', 'R571', '86 ST-2 AVE')), (0.6165561919471437, ('J022', 'R435', 'CLEVELAND ST')), (0.6165515647123414, ('H039', 'R375', 'NEW LOTS')), (0.6164500027425813, ('R503', 'R276', 'VERNON-JACKSON')), (0.6161183570177147, ('B021', 'R228', 'AVENUE J')), (0.6155917319083717, ('A011', 'R080', '57 ST-7 AV')), (0.6153846153846154, ('J016', 'R381', 'HALSEY ST')), (0.6153036023654181, ('R210', 'R044', 'BROOKLYN BRIDGE')), (0.6151501842008552, ('N400A', 'R359', 'COURT SQ')), (0.6148360592202154, ('D008', 'R392', '18 AV')), (0.6147106620504487, ('R524', 'R347', '69 ST')), (0.6147010283102704, ('R194', 'R040', '231 ST')), (0.6146985372814842, ('C026', 'R215', '86 ST')), (0.6145427759654846, ('R519', 'R223', '46 ST BLISS ST')), (0.6142986543499017, ('N117', 'R198', 'NOSTRAND AV')), (0.614154095373089, ('N220', 'R155', 'KINGSBRIDGE RD')), (0.6138457807953444, ('C017', 'R455', '25 ST')), (0.6138307184701367, ('R411', 'R450', 'LONGWOOD AV')), (0.6136778908901069, ('N182', 'R414', 'HOWARD BCH JFK')), (0.6130823577021003, ('R258', 'R132', '125 ST')), (0.6127359262394798, ('B004', 'R171', '7 AV')), (0.6125138492040353, ('R330', 'R363', 'BURKE AV')), (0.612291841843293, ('N702', 'R572', '96 ST-2 AVE')), (0.6121147715196599, ('N111', 'R284', 'CLINTON-WASH AV')), (0.611061984767664, ('R618', 'R058', 'BERGEN ST')), (0.6105691378016509, ('N520', 'R240', 'GRAND ST')), (0.6104808492922564, ('B020', 'R263', 'AVENUE H')), (0.6104458062403518, ('N213', 'R154', 'TREMONT AV')), (0.6103812004432229, ('R645', 'R110', 'FLATBUSH AV-B.C')), (0.610369450481217, ('J023', 'R436', 'NORWOOD AV')), (0.6102801544796979, ('H006', 'R330', '3 AV')), (0.6102134509897448, ('N060', 'R010', '42 ST-PORT AUTH')), (0.610002080572924, ('A081', 'R028', 'FULTON ST')), (0.6097961096789313, ('H038', 'R350', 'LIVONIA AV')), (0.6096645328969534, ('J021', 'R434', 'VAN SICLEN AV')), (0.6096531876493829, ('N196', 'R285', 'FAR ROCKAWAY')), (0.6096137816060017, ('R639', 'R109', 'CHURCH AV')), (0.6096118520288535, ('N062', 'R011', '42 ST-PORT AUTH')), (0.608869654241705, ('C019', 'R232', '45 ST')), (0.6085011185682326, ('R404', 'R447', 'CYPRESS AV')), (0.6079686078734161, ('A022', 'R022', '34 ST-HERALD SQ')), (0.6076889471384884, ('R408', 'R449', 'E 149 ST')), (0.6075462174269669, ('R285', 'R308', 'MT EDEN AV')), (0.6075306574469235, ('N194', 'R338', 'BEACH 36 ST')), (0.6072159672466735, ('C004', 'R089', 'JAY ST-METROTEC')), (0.606956081142216, ('A030', 'R083', '23 ST')), (0.6068044788975021, ('N127', 'R442', 'SHEPHERD AV')), (0.6065436421835056, ('R325', 'R388', 'E 180 ST')), (0.6062170008318761, ('R403', 'R446', 'BROOK AV')), (0.6061217956610604, ('N121B', 'R438', 'RALPH AV')), (0.6060432478877273, ('R158', 'R084', '59 ST COLUMBUS')), (0.6059900166389351, ('N546', 'R204', 'CHURCH AV')), (0.6059288372287495, ('A014', 'R081', '49 ST')), (0.6058089411424491, ('H008', 'R248', '1 AV')), (0.6049152563024698, ('N129', 'R382', 'GRANT AV')), (0.6047278497969951, ('A043', 'R462', 'CANAL ST')), (0.6046939897588087, ('R512', 'R092', 'BROADWAY')), (0.6043972115243992, ('C011', 'R231', 'UNION ST')), (0.6043837788853648, ('N030', 'R333', '116 ST')), (0.6039643404127234, ('A010', 'R080', '57 ST-7 AV')), (0.6039327801408549, ('E009', 'R370', '71 ST')), (0.6039136918348094, ('J005', 'R353', 'LORIMER ST')), (0.6036384890772266, ('R327', 'R361', 'PELHAM PKWY')), (0.6035231621268144, ('R291', 'R183', 'BEDFORD PK BLVD')), (0.6034768761197001, ('R283', 'R221', '167 ST')), (0.6034191432263195, ('J017', 'R432', 'CHAUNCEY ST')), (0.6034013052229248, ('A060', 'R001', 'WHITEHALL S-FRY')), (0.6027431771825021, ('B016', 'R098', 'CHURCH AV')), (0.6022347364823702, ('N046', 'R281', '72 ST')), (0.6021914156807481, ('R170', 'R191', '103 ST')), (0.602079921909069, ('PTH17', 'R541', 'THIRTY THIRD ST')), (0.6019652146497819, ('A031', 'R083', '23 ST')), (0.6015560734850562, ('B029', 'R172', 'BRIGHTON BEACH')), (0.601484985872922, ('R329', 'R362', 'ALLERTON AV')), (0.6014466633023334, ('R409', 'R449', 'E 149 ST')), (0.6009859009272984, ('D015', 'R396', 'AVENUE U')), (0.6004143646408839, ('R147', 'R033', 'TIMES SQ-42 ST')), (0.5998049228297665, ('N016A', 'R296', '163 ST-AMSTERDM')), (0.5989089967591311, ('N120', 'R153', 'UTICA AV')), (0.5986072153980074, ('B015', 'R098', 'CHURCH AV')), (0.5985457596308467, ('R514', 'R094', 'ASTORIA BLVD')), (0.5983500745181254, ('R169', 'R168', '96 ST')), (0.5981698826337776, ('N002A', 'R173', 'INWOOD-207 ST')), (0.5979050312807114, ('R261', 'R205', '149/GRAND CONC')), (0.5976274446938121, ('N209', 'R443', '170 ST')), (0.5972179761540812, ('N193', 'R337', 'BEACH 44 ST')), (0.5968463542184486, ('N010', 'R126', '175 ST')), (0.5965000629485082, ('R166', 'R167', '86 ST')), (0.5962858296326201, ('R288', 'R275', '183 ST')), (0.5962004534438277, ('N126', 'R441', 'VAN SICLEN AVE')), (0.5951293211986043, ('C001', 'R108', 'BOROUGH HALL')), (0.5949296473067626, ('R623', 'R061', 'NOSTRAND AV')), (0.5948329760628797, ('R414', 'R162', 'ELDER AV')), (0.5946659189496776, ('N009', 'R174', '181 ST')), (0.5939513414751417, ('B023', 'R211', 'KINGS HWY')), (0.5936660236274655, ('A034', 'R170', '14 ST-UNION SQ')), (0.593654411323697, ('R172', 'R192', 'CATHEDRAL PKWY')), (0.592936922977597, ('R418', 'R106', 'CASTLE HILL AV')), (0.5928634301577629, ('R164', 'R167', '86 ST')), (0.5928561263697169, ('N083', 'R138', 'W 4 ST-WASH SQ')), (0.5918124276866535, ('N070', 'R012', '34 ST-PENN STA')), (0.5917626387849008, ('R523', 'R147', '61 ST WOODSIDE')), (0.5916555313313172, ('R284', 'R243', '170 ST')), (0.5916243353717066, ('N537', 'R258', '4 AV-9 ST')), (0.5910910213265896, ('A037', 'R170', '14 ST-UNION SQ')), (0.5906456615786467, ('N533', 'R129', 'BERGEN ST')), (0.5901368395255927, ('N072', 'R012', '34 ST-PENN STA')), (0.5894141439394278, ('N049', 'R084', '59 ST COLUMBUS')), (0.5890507057271936, ('N114', 'R297', 'FRANKLIN AV')), (0.5890230400168714, ('N077', 'R111', '23 ST')), (0.5889810124791307, ('R413', 'R325', 'WHITLOCK AV')), (0.5888802857356945, ('R601A', 'R108', 'BOROUGH HALL')), (0.5885077593595566, ('R111', 'R027', 'WALL ST')), (0.5879345938329457, ('R323', 'R387', 'WEST FARMS SQ')), (0.5873982644316283, ('N056', 'R188', '50 ST')), (0.5871813950773989, ('N422', 'R318', 'FULTON ST')), (0.5871308786000728, ('R336', 'R145', 'WAKEFIELD/241')), (0.58656631218419, ('R420', 'R107', 'WESTCHESTER SQ')), (0.5860151642796967, ('H015', 'R250', 'GRAND ST')), (0.5855030520426776, ('H014', 'R249', 'GRAHAM AV')), (0.5854092526690391, ('N202', 'R315', '155 ST')), (0.5848778036062072, ('N045', 'R187', '81 ST-MUSEUM')), (0.5840528568210827, ('R306', 'R207', '135 ST')), (0.5839384830164037, ('R101', 'R001', 'SOUTH FERRY')), (0.5838975106759713, ('PTH18', 'R549', 'NEWARK BM BW')), (0.5838871798766979, ('R185', 'R274', '191 ST')), (0.5838618559959798, ('N062A', 'R010', '42 ST-PORT AUTH')), (0.5837875877504168, ('R216', 'R322', 'SPRING ST')), (0.5837815086751157, ('R103', 'R304', 'RECTOR ST')), (0.5836844600110606, ('R528', 'R097', 'JUNCTION BLVD')), (0.5833224289689706, ('N525', 'R142', 'DELANCEY/ESSEX')), (0.5831685592151102, ('J009', 'R378', 'MYRTLE AV')), (0.5824663461803812, ('R161A', 'R452', '72 ST')), (0.582414064595392, ('N603', 'R303', '21 ST-QNSBRIDGE')), (0.5821000833875505, ('N602', 'R259', 'ROOSEVELT ISLND')), (0.581586324955963, ('N526', 'R142', 'DELANCEY/ESSEX')), (0.5814892975580344, ('PTH10', 'R547', '9TH STREET')), (0.5813986946911336, ('R160', 'R164', '66 ST-LINCOLN')), (0.5812344936470942, ('R180', 'R193', '157 ST')), (0.5811765672500206, ('R307', 'R207', '135 ST')), (0.5809489315465411, ('R641', 'R210', 'BEVERLY RD')), (0.5803449045296611, ('N192', 'R336', 'BEACH 60 ST')), (0.5801650509928286, ('R286', 'R309', '176 ST')), (0.5800181287138685, ('N011', 'R126', '175 ST')), (0.5793862385841511, ('N534', 'R220', 'CARROLL ST')), (0.5790227954677774, ('R161B', 'R452', '72 ST')), (0.5781466113416321, ('R402', 'R446', 'BROOK AV')), (0.5776727702303602, ('N223', 'R156', 'BEDFORD PK BLVD')), (0.5774956674253022, ('R303', 'R324', '116 ST')), (0.5773159038799393, ('B010', 'R412', 'BOTANIC GARDEN')), (0.5772900705477001, ('N323', 'R018', 'JKSN HT-ROOSVLT')), (0.5764343899415618, ('R287', 'R244', 'BURNSIDE AV')), (0.5762933381738973, ('A039', 'R085', '8 ST-NYU')), (0.5760051701057103, ('N118', 'R199', 'KINGSTON-THROOP')), (0.5758533155578283, ('N128', 'R200', 'EUCLID AV')), (0.5758081372962468, ('R197', 'R117', 'V.CORTLANDT PK')), (0.5757069650521851, ('N523', 'R300', '2 AV')), (0.5756203046063793, ('R254', 'R181', '110 ST')), (0.5755046663651687, ('R619', 'R059', 'GRAND ARMY PLAZ')), (0.5754044181596799, ('H028', 'R266', 'HALSEY ST')), (0.5753836988728112, ('D002', 'R390', '8 AV')), (0.5753494498024387, ('R415', 'R120', 'MORISN AV/SNDVW')), (0.5752249424565808, ('R302', 'R324', '116 ST')), (0.5750489337591429, ('R310', 'R053', '3 AV-149 ST')), (0.5748946925021061, ('R309', 'R345', 'HARLEM 148 ST')), (0.5748427043174953, ('H023', 'R236', 'DEKALB AV')), (0.5745034614105626, ('R162', 'R166', '79 ST')), (0.5742293157359628, ('B017', 'R262', 'BEVERLEY ROAD')), (0.5742229504838957, ('N113', 'R297', 'FRANKLIN AV')), (0.5738944451138691, ('N513', 'R163', '14 ST')), (0.5737439222042139, ('R520', 'R223', '46 ST BLISS ST')), (0.5736497362896585, ('N020', 'R101', '145 ST')), (0.5731935974105433, ('R139', 'R031', '34 ST-PENN STA')), (0.5729676787463271, ('N206', 'R104', '167 ST')), (0.571819653039309, ('R174', 'R034', '125 ST')), (0.5717440021091484, ('R612', 'R057', 'ATL AV-BARCLAY')), (0.5710654522346961, ('J032', 'R006', 'WOODHAVEN BLVD')), (0.5710245415564273, ('H027', 'R137', 'MYRTLE-WYCKOFF')), (0.5701439831079236, ('R188', 'R037', '207 ST')), (0.5695134475006245, ('H032', 'R295', 'WILSON AV')), (0.5691584601611459, ('N420B', 'R317', 'CLINTON-WASH AV')), (0.569021159566706, ('N124', 'R103', 'BROADWAY JCT')), (0.5689908515989665, ('R533', 'R055', 'FLUSHING-MAIN')), (0.5689025766284797, ('R179', 'R193', '157 ST')), (0.5683189264917514, ('R526', 'R096', '82 ST-JACKSON H')), (0.5681433683170393, ('R416', 'R245', 'ST LAWRENCE AV')), (0.5677596296975999, ('N080', 'R138', 'W 4 ST-WASH SQ')), (0.5673001675747983, ('N324', 'R018', 'JKSN HT-ROOSVLT')), (0.5669029158540645, ('R305', 'R206', '125 ST')), (0.5653745864101496, ('H037', 'R349', 'SUTTER AV')), (0.5653652564276969, ('R605', 'R456', 'HOYT ST')), (0.5644265552555153, ('B013', 'R196', 'PROSPECT PARK')), (0.5644106293984038, ('R423', 'R429', 'PELHAM BAY PARK')), (0.5643865533109742, ('N545', 'R204', 'CHURCH AV')), (0.5640681379541831, ('N541', 'R241', '15 ST-PROSPECT')), (0.5638039646304109, ('N071', 'R013', '34 ST-PENN STA')), (0.56307432313488, ('N013', 'R035', '168 ST')), (0.5619579807133949, ('R183', 'R260', '181 ST')), (0.561733787162264, ('N207', 'R104', '167 ST')), (0.5616092598730337, ('G001', 'R151', 'CONEY IS-STILLW')), (0.5614781714366777, ('R294', 'R052', 'WOODLAWN')), (0.5614481711474992, ('R126', 'R189', 'CHRISTOPHER ST')), (0.5611285266457681, ('G015', 'R312', 'W 8 ST-AQUARIUM')), (0.5610125524469438, ('N314', 'R238', 'STEINWAY ST')), (0.5606995660422618, ('JFK02', 'R535', 'HOWARD BCH JFK')), (0.5592932381923208, ('R190', 'R038', '215 ST')), (0.5584158415841585, ('N544', 'R289', 'FT HAMILTON PKY')), (0.5580384997573545, ('H003', 'R163', '6 AV')), (0.5578922169588904, ('R301', 'R323', 'CENTRAL PK N110')), (0.5576699848745998, ('J012', 'R379', 'KOSCIUSZKO ST')), (0.5575760336130627, ('N335', 'R158', 'KEW GARDENS')), (0.5567991766370771, ('R643', 'R135', 'NEWKIRK AV')), (0.556645052454004, ('R289', 'R119', 'FORDHAM RD')), (0.5554789800137836, ('N123B', 'R439', 'ROCKAWAY AV')), (0.5553784960538037, ('N025', 'R102', '125 ST')), (0.5553299760065389, ('N221', 'R155', 'KINGSBRIDGE RD')), (0.5548504079782411, ('N119', 'R199', 'KINGSTON-THROOP')), (0.554675625949924, ('J001', 'R460', 'MARCY AV')), (0.5543557321098864, ('R253', 'R181', '110 ST')), (0.5542068984860915, ('R527', 'R122', '90 ST-ELMHURST')), (0.5540122619499757, ('R186', 'R036', 'DYCKMAN ST')), (0.5537661784935286, ('N701', 'R571', '86 ST-2 AVE')), (0.5533726685253626, ('N026', 'R102', '125 ST')), (0.5529863823666151, ('R529', 'R208', '103 ST-CORONA')), (0.5528254977938047, ('N333', 'R141', 'FOREST HILLS 71')), (0.5523546662066585, ('C022', 'R212', '59 ST')), (0.5506345506345506, ('J034', 'R007', '104 ST')), (0.5502740587653877, ('H012', 'R268', 'LORIMER ST')), (0.5501758403533165, ('R606', 'R225', 'HOYT ST')), (0.5495495495495496, ('N208', 'R443', '170 ST')), (0.5494708449871448, ('A046', 'R463', 'CANAL ST')), (0.5491540219261085, ('N057', 'R188', '50 ST')), (0.5481699585570713, ('C021', 'R212', '59 ST')), (0.5472154506113347, ('R311', 'R053', '3 AV-149 ST')), (0.5471716707180869, ('H001', 'R175', '8 AV')), (0.5471707246236507, ('A041', 'R086', 'PRINCE ST')), (0.5466828806917984, ('R260', 'R205', '149/GRAND CONC')), (0.5465302754293365, ('B014', 'R148', 'PARKSIDE AV')), (0.5463046398150194, ('H030', 'R266', 'HALSEY ST')), (0.5459747053665641, ('R530', 'R310', '111 ST')), (0.5454821195668659, ('H005', 'R330', '3 AV')), (0.5453255333575112, ('A007', 'R079', '5 AV/59 ST')), (0.5443425076452599, ('R177', 'R273', '145 ST')), (0.5438974954662368, ('R127', 'R105', '14 ST')), (0.5428067603178062, ('R504', 'R276', 'VERNON-JACKSON')), (0.5426699633065089, ('C018', 'R197', '36 ST')), (0.5425998467171932, ('B031', 'R172', 'BRIGHTON BEACH')), (0.5423919146546884, ('D009', 'R393', '20 AV')), (0.540980313378867, ('N528', 'R257', 'EAST BROADWAY')), (0.5405635512241072, ('H026', 'R137', 'MYRTLE-WYCKOFF')), (0.5403439153439153, ('A042', 'R086', 'PRINCE ST')), (0.5392087183131958, ('N218', 'R112', 'FORDHAM RD')), (0.5386360310259037, ('N532', 'R129', 'BERGEN ST')), (0.5385856255694024, ('N019', 'R101', '145 ST')), (0.5368314138649315, ('R257', 'R182', '116 ST')), (0.5362606413620944, ('R128', 'R105', '14 ST')), (0.5358216791561262, ('R621', 'R060', 'EASTN PKWY-MUSM')), (0.5353989061019954, ('H022', 'R279', 'JEFFERSON ST')), (0.5351716275672884, ('N521', 'R300', '2 AV')), (0.5337973359847771, ('N529', 'R257', 'EAST BROADWAY')), (0.5335534615269397, ('R626', 'R062', 'CROWN HTS-UTICA')), (0.5322085889570553, ('N006A', 'R280', '190 ST')), (0.5307599517490953, ('H019', 'R294', 'MORGAN AV')), (0.5299263224702668, ('R178', 'R273', '145 ST')), (0.5294831351613686, ('JFK01', 'R535', 'HOWARD BCH JFK')), (0.5294210071490297, ('H033', 'R313', 'BUSHWICK AV')), (0.5290423517862777, ('R151', 'R033', 'TIMES SQ-42 ST')), (0.5274184855834007, ('R525', 'R018', '74 ST-BROADWAY')), (0.5269975834884918, ('R532', 'R328', 'METS-WILLETS PT')), (0.5265756129669245, ('N181', 'R357', 'AQUEDUCT N.COND')), (0.5264473609454009, ('N012', 'R035', '168 ST')), (0.5259726683519282, ('N217', 'R112', 'FORDHAM RD')), (0.5251039334825711, ('R308', 'R344', '145 ST')), (0.5235651693376491, ('B034', 'R264', 'OCEAN PKWY')), (0.5218750568006253, ('A066', 'R118', 'CANAL ST')), (0.5208186129950794, ('C009', 'R057', 'ATL AV-BARCLAY')), (0.5187583742742296, ('B018', 'R184', 'CORTELYOU RD')), (0.5183787455657031, ('JFK03', 'R536', 'JFK JAMAICA CT1')), (0.5166404906140154, ('A038', 'R085', '8 ST-NYU')), (0.5163179216309557, ('N116', 'R198', 'NOSTRAND AV')), (0.5160686517306917, ('N205', 'R195', '161/YANKEE STAD')), (0.5148169668797211, ('R506', 'R276', 'VERNON-JACKSON')), (0.5143824027072758, ('J037', 'R009', '121 ST')), (0.5127110446144123, ('H007', 'R248', '1 AV')), (0.5113576333861595, ('R196', 'R306', '238 ST')), (0.5112960760998811, ('R600', 'R224', 'CLARK ST')), (0.509983933899472, ('N339', 'R114', 'PARSONS BLVD')), (0.5077399380804953, ('N022', 'R332', '135 ST')), (0.5032250286334318, ('B012', 'R196', 'PROSPECT PARK')), (0.5032114374416486, ('R256', 'R182', '116 ST')), (0.5030717399920729, ('B032', 'R264', 'OCEAN PKWY')), (0.502919124413535, ('N336', 'R158', 'KEW GARDENS')), (0.5023083482812363, ('N110', 'R283', 'LAFAYETTE AV')), (0.4991899479340581, ('H017', 'R265', 'MONTROSE AV')), (0.4972474474191878, ('H013', 'R249', 'GRAHAM AV')), (0.4968251562157883, ('A064', 'R311', 'BOWERY')), (0.48790100102467093, ('R250', 'R179', '86 ST')), (0.48605048880720836, ('H009', 'R235', 'BEDFORD AV')), (0.48314860891201084, ('N418', 'R269', 'BEDFORD-NOSTRAN')), (0.48066717210007576, ('A084', 'R125', 'BROAD ST')), (0.4782453249599726, ('R262', 'R195', '161/YANKEE STAD')), (0.47643919609401614, ('E014', 'R374', 'BAY PKWY')), (0.47343895619757687, ('N181A', 'R464', 'AQUEDUCT RACETR')), (0.4720528980266556, ('N530', 'R301', 'YORK ST')), (0.47101464369779406, ('N191', 'R335', 'BEACH 67 ST')), (0.4647863150065793, ('R617', 'R058', 'BERGEN ST')), (0.4595942800133023, ('R314', 'R406', 'PROSPECT AV')), (0.45855881515237823, ('R322', 'R386', '174 ST')), (0.45531516516979936, ('N409', 'R268', 'METROPOLITAN AV')), (0.44212091639946094, ('N203', 'R195', '161/YANKEE STAD')), (0.43051890941073, ('N417', 'R269', 'BEDFORD-NOSTRAN')), (0.42333582647718776, ('R318', 'R408', 'SIMPSON ST')), (0.42307692307692313, ('TRAM2', 'R469', 'RIT-ROOSEVELT')), (0.42148579433524486, ('N187', 'R419', 'ROCKAWAY PARK B')), (0.410377358490566, ('OB01', 'R459', 'ORCHARD BEACH')), (0.40979015613611086, ('D016', 'R397', '86 ST')), (0.4073705179282868, ('N183', 'R415', 'BROAD CHANNEL')), (0.4020153805356669, ('N003', 'R185', 'DYCKMAN ST')), (0.3884248713405889, ('G011', 'R312', 'W 8 ST-AQUARIUM')), (0.3724578733294597, ('N186', 'R418', 'BEACH 105 ST')), (0.36894237938012564, ('N185', 'R417', 'BEACH 98 ST')), (0.35947562097516095, ('N184', 'R416', 'BEACH 90 ST')), (0.3472491579054812, ('R320', 'R409', 'FREEMAN ST')), (0.0004614142346291383, ('R262B', 'R195', '161/YANKEE STAD')), (0.00021332574841783402, ('R262A', 'R195', '161/YANKEE STAD')), (2.7650206620063687e-05, ('N506', 'R022', '34 ST-HERALD SQ')), (0, ('S102', 'R165', 'TOMPKINSVILLE')), (0, ('S101A', 'R070', 'ST. GEORGE')), (0, ('S101', 'R070', 'ST. GEORGE')), (0, ('N550', 'R242', '18 AV')), (0, ('A085', 'R125', 'BROAD ST'))]\n"
     ]
    }
   ],
   "source": [
    "commuter_i = [(getCommuteIndex(key), key) for key in bigDict.keys()]\n",
    "commuter_i.sort(reverse = True)\n",
    "print(commuter_i)"
   ]
  },
  {
   "cell_type": "markdown",
   "metadata": {
    "colab_type": "text",
    "id": "NsOCaBkdPhWP"
   },
   "source": [
    "33.Remember that there are still several station areas within each station. Let's get all of the commuter indexes for each station area and then take the median of that commuter index to assign to the entire station. Create a sorted list of tuples in descending order containing the median commuter index and the station name."
   ]
  },
  {
   "cell_type": "code",
   "execution_count": 122,
   "metadata": {
    "colab": {},
    "colab_type": "code",
    "id": "ep_Wnvf0PhWQ"
   },
   "outputs": [
    {
     "name": "stdout",
     "output_type": "stream",
     "text": [
      "[(1.0, 'SUTTER AV-RUTLD'), (1.0, 'JUNIUS ST'), (1.0, '21 ST'), (0.9997511653754915, 'NEW LOTS AV'), (0.9972474538948527, 'PENNSYLVANIA AV'), (0.9970398631758979, 'GREENPOINT AV'), (0.9961351862511306, 'SARATOGA AV'), (0.9921636558607605, 'FLUSHING AV'), (0.991384958866212, 'NASSAU AV'), (0.9907097580915847, 'MYRTLE-WILLOUGH'), (0.9709334696339605, 'WALL ST'), (0.9601226993865031, 'BAY 50 ST'), (0.9437704772868148, '25 AV'), (0.9308408339103008, 'BOWLING GREEN'), (0.8604437460981067, 'THIRTY ST'), (0.8545342232534314, 'LACKAWANNA'), (0.8544575202064635, '5 AV/53 ST'), (0.8542116630669547, 'AVENUE N'), (0.8383606739287234, 'NEWARK HW BMEBE'), (0.819361375855495, 'NORTHERN BLVD'), (0.8180709581872083, 'FULTON ST'), (0.8120978284321814, 'HUNTERS PT AV'), (0.8106149103362603, '47-50 STS ROCK'), (0.8074075998026026, 'LEXINGTON AV/53'), (0.8063163282850263, 'FRANKLIN ST'), (0.8051772157914188, '25 ST'), (0.8042573083382819, 'VAN SICLEN AV'), (0.8026278558632383, 'HOUSTON ST'), (0.8018335775738183, 'BROADWAY'), (0.8013483081874491, 'EXCHANGE PLACE'), (0.7991063171834195, 'PATH WTC 2'), (0.7947325761967226, 'UNION ST'), (0.7899727167130393, 'ELMHURST AV'), (0.7855786606354894, '42 ST-BRYANT PK'), (0.7785973695332844, '33 ST-RAWSON ST'), (0.7724028273909455, 'GRD CNTRL-42 ST'), (0.7690514760980509, 'HIGH ST'), (0.7622151840349313, 'TWENTY THIRD ST'), (0.7593682361255646, '67 AV'), (0.7592318844498678, '18 ST'), (0.7591482796305687, 'PATH NEW WTC'), (0.7583969723592621, 'MORRIS PARK'), (0.7539030849896244, 'BROOKLYN BRIDGE'), (0.753743228605444, '63 DR-REGO PARK'), (0.7421861640478046, 'PAVONIA/NEWPORT'), (0.737988179067334, 'COURT SQ-23 ST'), (0.7376146788990826, 'EASTCHSTER/DYRE'), (0.7367630115714071, 'CENTRAL AV'), (0.7313130213507151, 'FRESH POND RD'), (0.7252795546932167, 'BOROUGH HALL'), (0.724684900968876, 'CITY HALL'), (0.7241617125215041, '33 ST'), (0.71890007958506, '51 ST'), (0.7172816564905761, 'FOREST AVE'), (0.7129698548567175, 'AVENUE I'), (0.7118228075426519, '5 AVE'), (0.7097616267087999, '88 ST'), (0.7096873328724559, '72 ST-2 AVE'), (0.7092098285310235, 'FLATBUSH AV-B.C'), (0.7075999748434454, '68ST-HUNTER CO'), (0.7072465972169417, 'MIDDLETOWN RD'), (0.7055717746443879, 'SENECA AVE'), (0.7018385291766587, 'JAMAICA VAN WK'), (0.7016959143055702, 'NEWARK HM HE'), (0.6999939506732789, 'NEVINS ST'), (0.6997567649741564, 'KNICKERBOCKER'), (0.6979373639890244, '46 ST'), (0.6977112918792224, 'CHAMBERS ST'), (0.6970417783928726, 'BUHRE AV'), (0.6900354912553007, 'SHEEPSHEAD BAY'), (0.6883943208024228, 'BRIARWOOD'), (0.6882217090069284, 'NEWARK C'), (0.6880503313751059, '28 ST'), (0.6853684311653376, 'WINTHROP ST'), (0.6846471552068543, 'CORTLANDT ST'), (0.6836609336609336, '116 ST-COLUMBIA'), (0.6832711564078198, 'CITY / BUS'), (0.6828287903529707, 'NEPTUNE AV'), (0.6828100412405557, 'GROVE STREET'), (0.6814656944011007, '7 AV'), (0.6814469213541273, '111 ST'), (0.6806479520300707, 'ZEREGA AV'), (0.6800205444273241, 'EAST 105 ST'), (0.6792528228119501, 'PARK PLACE'), (0.6791695146958304, 'CLASSON AV'), (0.6776924690417473, '80 ST'), (0.6774541125401913, 'DITMAS AV'), (0.6769990349093642, 'QUEENS PLAZA'), (0.6766767762143887, 'OZONE PK LEFFRT'), (0.676321142201943, '14TH STREET'), (0.6761703922395613, 'CANAL ST'), (0.6740779033542853, 'METS-WILLETS PT'), (0.6738672841130348, 'GRAND-NEWTOWN'), (0.6721517213047153, \"E 143/ST MARY'S\"), (0.6719858156028369, 'BAYCHESTER AV'), (0.6700791065611913, 'ROCKAWAY AV'), (0.6698909009110336, 'HEWES ST'), (0.6691710834460731, 'JAY ST-METROTEC'), (0.6686727012843472, 'JAMAICA CENTER'), (0.6684186415245473, 'JOURNAL SQUARE'), (0.6680382819362892, 'INTERVALE AV'), (0.6677572335254933, '59 ST'), (0.6671193570752518, 'SPRING ST'), (0.6667644040463275, '96 ST'), (0.6647508354365537, 'ROCKAWAY BLVD'), (0.6646153846153846, 'RIT-MANHATTAN'), (0.6645646048571046, 'AVENUE P'), (0.6635709165705738, '39 AV'), (0.6634990426210907, '75 AV'), (0.6622026155455799, 'RECTOR ST'), (0.6618972277636376, 'JACKSON AV'), (0.6593067725333437, 'KINGS HWY'), (0.6585292968301036, 'CHRISTOPHER ST'), (0.6582809224318659, 'CYPRESS HILLS'), (0.6567668504357105, '65 ST'), (0.6566091643038029, '138/GRAND CONC'), (0.6555653492785732, 'HUNTS POINT AV'), (0.6546717505032953, '34 ST-HERALD SQ'), (0.654449769398777, 'BAY RIDGE-95 ST'), (0.6544135323557051, 'PARKCHESTER'), (0.654295539280086, 'SUTPHIN BLVD'), (0.6530763030628695, 'AVENUE X'), (0.6530662106034694, '34 ST-PENN STA'), (0.6522391793845383, 'BRONX PARK EAST'), (0.6520945032072367, 'ASTOR PL'), (0.6518744805103682, '34 ST-HUDSON YD'), (0.6509351604454908, 'AVENUE M'), (0.6508974335754261, 'NEW UTRECHT AV'), (0.6494891490789768, '52 ST'), (0.6493667660192131, 'BLEECKER ST'), (0.6489241223103057, 'NEREID AV'), (0.6486239068191114, '77 ST'), (0.6483521162988408, \"B'WAY-LAFAYETTE\"), (0.6479473964812511, '85 ST-FOREST PK'), (0.6451307907767158, '155 ST'), (0.6450120903044045, 'NEWKIRK PLAZA'), (0.6439512011608535, '36 ST'), (0.6439070043941817, 'WHITEHALL S-FRY'), (0.6436628239225339, 'GUN HILL RD'), (0.6430498130165809, 'LONGWOOD AV'), (0.6424941499042711, 'PELHAM PKWY'), (0.6422482529121845, '169 ST'), (0.6418040678782043, 'PRESIDENT ST'), (0.6415701146053763, '57 ST'), (0.641525103725967, 'JAMAICA 179 ST'), (0.6408455295969356, 'WOODHAVEN BLVD'), (0.6406412753045605, '233 ST'), (0.6402907183256373, 'ALABAMA AV'), (0.6400419137434212, '4AV-9 ST'), (0.6399564408548483, '219 ST'), (0.6391225493859531, 'CYPRESS AV'), (0.638983325238789, 'ATLANTIC AV'), (0.6383460348600317, 'QUEENSBORO PLZ'), (0.6383313656040929, 'MOSHOLU PKWY'), (0.6381286304882516, '79 ST'), (0.6380516766893978, 'LEXINGTON AV/63'), (0.6380429355966052, '50 ST'), (0.6377480996621622, '66 ST-LINCOLN'), (0.6372869980528881, '14 ST'), (0.6364535919255888, '182-183 STS'), (0.6358780383508422, 'TIMES SQ-42 ST'), (0.6344327280000954, '49 ST'), (0.634029633043278, 'FT HAMILTON PKY'), (0.633583932542877, '9 AV'), (0.633567351886459, 'LIBERTY AV'), (0.6334422889162458, 'CANARSIE-ROCKAW'), (0.6321382706978588, 'CATHEDRAL PKWY'), (0.6310023789191344, '137 ST CITY COL'), (0.6309997596089639, '3 AV 138 ST'), (0.6304398591816143, 'ASTORIA DITMARS'), (0.6302491924319336, 'BEACH 25 ST'), (0.6302353954537533, '14 ST-UNION SQ'), (0.6299043239635096, '225 ST'), (0.6285469743299489, '40 ST LOWERY ST'), (0.6283645705611024, '75 ST-ELDERTS'), (0.6280839572848901, '55 ST'), (0.6276895967841852, 'CRESCENT ST'), (0.6273679639580958, 'NECK RD'), (0.6272064376061921, '103 ST'), (0.6269989804224355, '96 ST-2 AVE'), (0.6267362505018065, 'KINGSTON AV'), (0.6266514710227512, '23 ST'), (0.6263123316647572, '18 AV'), (0.6246385426847085, 'BAY PKWY'), (0.6246302352845251, '174-175 STS'), (0.624609478978411, 'HARRISON'), (0.6238711424568179, '36 AV'), (0.6236704304683481, 'NEWKIRK AV'), (0.623261573633073, 'MARBLE HILL-225'), (0.6218939918455265, 'STERLING ST'), (0.6215920118015229, 'PROSPECT AV'), (0.62158092170678, 'NORWOOD 205 ST'), (0.621340171334812, 'FOREST HILLS 71'), (0.6207987223310776, 'COURT SQ'), (0.6195940284214307, '30 AV'), (0.619119492280555, 'WORLD TRADE CTR'), (0.6189560408297962, 'SMITH-9 ST'), (0.6184635158356501, 'HOYT-SCHER'), (0.6176977290524667, 'SUTPHIN-ARCHER'), (0.617631062955944, '104 ST'), (0.617454375292466, 'GATES AV'), (0.6169117839136908, 'AVENUE U'), (0.6165562785332075, '81 ST-MUSEUM'), (0.6165561919471437, 'CLEVELAND ST'), (0.6165515647123414, 'NEW LOTS'), (0.6161183570177147, 'AVENUE J'), (0.615453048079524, '15 ST-PROSPECT'), (0.6147106620504487, '69 ST'), (0.6147010283102704, '231 ST'), (0.6146985372814842, '86 ST'), (0.614154095373089, 'KINGSBRIDGE RD'), (0.6138207253251715, 'CARROLL ST'), (0.6137540386650724, 'UTICA AV'), (0.6136431469339797, 'MARCY AV'), (0.6128801781888042, 'CONEY IS-STILLW'), (0.6125138492040353, 'BURKE AV'), (0.6121147715196599, 'CLINTON-WASH AV'), (0.6107461980389468, 'INWOOD-207 ST'), (0.6105691378016509, 'GRAND ST'), (0.6104808492922564, 'AVENUE H'), (0.6104458062403518, 'TREMONT AV'), (0.610369450481217, 'NORWOOD AV'), (0.6102134509897448, '42 ST-PORT AUTH'), (0.6097961096789313, 'LIVONIA AV'), (0.6097780361605476, '57 ST-7 AV'), (0.6096531876493829, 'FAR ROCKAWAY'), (0.608869654241705, '45 ST'), (0.6075462174269669, 'MT EDEN AV'), (0.6075306574469235, 'BEACH 36 ST'), (0.6068044788975021, 'SHEPHERD AV'), (0.6065436421835056, 'E 180 ST'), (0.6061217956610604, 'RALPH AV'), (0.6060432478877273, '59 ST COLUMBUS'), (0.6053173349951759, 'DEKALB AV'), (0.6049152563024698, 'GRANT AV'), (0.6045678052204109, 'E 149 ST'), (0.6039327801408549, '71 ST'), (0.6035231621268144, 'BEDFORD PK BLVD'), (0.6034191432263195, 'CHAUNCEY ST'), (0.6030136943964731, '174 ST'), (0.6027431771825021, 'CHURCH AV'), (0.6027266083576894, '5 AV/59 ST'), (0.602079921909069, 'THIRTY THIRD ST'), (0.6018606830908207, 'SIMPSON ST'), (0.601484985872922, 'ALLERTON AV'), (0.6013140878092713, 'FLUSHING-MAIN'), (0.6008530641153511, 'STEINWAY ST'), (0.5998049228297665, '163 ST-AMSTERDM'), (0.5985457596308467, 'ASTORIA BLVD'), (0.5983011863399301, '20 AV'), (0.5979584035036707, 'CROWN HTS-UTICA'), (0.5972179761540812, 'BEACH 44 ST'), (0.5962858296326201, '183 ST'), (0.5962004534438277, 'VAN SICLEN AVE'), (0.5949296473067626, 'NOSTRAND AV'), (0.5948329760628797, 'ELDER AV'), (0.5946659189496776, '181 ST'), (0.5941433490848492, '46 ST BLISS ST'), (0.592936922977597, 'CASTLE HILL AV'), (0.5921818060867541, 'BROOK AV'), (0.5917626387849008, '61 ST WOODSIDE'), (0.5916555313313172, '170 ST'), (0.5916243353717066, '4 AV-9 ST'), (0.5906456615786467, 'BERGEN ST'), (0.5890507057271936, 'FRANKLIN AV'), (0.5889810124791307, 'WHITLOCK AV'), (0.5884322414661585, '175 ST'), (0.5879345938329457, 'WEST FARMS SQ'), (0.5871308786000728, 'WAKEFIELD/241'), (0.58656631218419, 'WESTCHESTER SQ'), (0.5852925748276565, '86 ST-2 AVE'), (0.5840528568210827, '135 ST'), (0.5839384830164037, 'SOUTH FERRY'), (0.5838975106759713, 'NEWARK BM BW'), (0.5838871798766979, '191 ST'), (0.5836844600110606, 'JUNCTION BLVD'), (0.5833224289689706, 'DELANCEY/ESSEX'), (0.5831685592151102, 'MYRTLE AV'), (0.5824663461803812, '72 ST'), (0.582414064595392, '21 ST-QNSBRIDGE'), (0.5821000833875505, 'ROOSEVELT ISLND'), (0.5814892975580344, '9TH STREET'), (0.5809489315465411, 'BEVERLY RD'), (0.5803449045296611, 'BEACH 60 ST'), (0.5803078780336584, 'W 4 ST-WASH SQ'), (0.5801650509928286, '176 ST'), (0.5778811370232819, '3 AV'), (0.5773159038799393, 'BOTANIC GARDEN'), (0.5770938753000985, 'LORIMER ST'), (0.5764343899415618, 'BURNSIDE AV'), (0.5763603049409416, '116 ST'), (0.5758533155578283, 'EUCLID AV'), (0.5758081372962468, 'V.CORTLANDT PK'), (0.5755046663651687, 'GRAND ARMY PLAZ'), (0.5754044181596799, 'HALSEY ST'), (0.5753494498024387, 'MORISN AV/SNDVW'), (0.5750685351377869, '157 ST'), (0.5748946925021061, 'HARLEM 148 ST'), (0.5742293157359628, 'BEVERLEY ROAD'), (0.5729676787463271, '167 ST'), (0.5722951190612492, 'JKSN HT-ROOSVLT'), (0.5722939559862549, '149/GRAND CONC'), (0.5720779601011248, 'BRIGHTON BEACH'), (0.5717440021091484, 'ATL AV-BARCLAY'), (0.5701439831079236, '207 ST'), (0.5695732543347909, 'PARSONS BLVD'), (0.5695134475006245, 'WILSON AV'), (0.5693612844466868, '125 ST'), (0.569021159566706, 'BROADWAY JCT'), (0.5683189264917514, '82 ST-JACKSON H'), (0.5681433683170393, 'ST LAWRENCE AV'), (0.5654277890419757, 'KINGSTON-THROOP'), (0.5653745864101496, 'SUTTER AV'), (0.5649880183581328, '110 ST'), (0.5646002252122044, 'METROPOLITAN AV'), (0.5644106293984038, 'PELHAM BAY PARK'), (0.56307432313488, '168 ST'), (0.5614781714366777, 'WOODLAWN'), (0.561277684795449, '8 AV'), (0.5611321921852388, '3 AV-149 ST'), (0.5606995660422618, 'HOWARD BCH JFK'), (0.5592932381923208, '215 ST'), (0.5592599928784308, '1 AV'), (0.5584461571065352, 'FREEMAN ST'), (0.5580384997573545, '6 AV'), (0.5578922169588904, 'CENTRAL PK N110'), (0.5577705483905067, 'HOYT ST'), (0.5576699848745998, 'KOSCIUSZKO ST'), (0.5557940463902673, 'MYRTLE-WYCKOFF'), (0.5554392963097368, '2 AV'), (0.5542068984860915, '90 ST-ELMHURST'), (0.5529863823666151, '103 ST-CORONA'), (0.5465302754293365, 'PARKSIDE AV'), (0.5464669143939563, '8 ST-NYU'), (0.5437573199837831, 'PRINCE ST'), (0.5428067603178062, 'VERNON-JACKSON'), (0.5413752497309328, 'GRAHAM AV'), (0.5392087183131958, 'FORDHAM RD'), (0.5385856255694024, '145 ST'), (0.537388824681822, 'EAST BROADWAY'), (0.5358216791561262, 'EASTN PKWY-MUSM'), (0.5353989061019954, 'JEFFERSON ST'), (0.5338257919444735, 'PROSPECT PARK'), (0.5322085889570553, '190 ST'), (0.5307599517490953, 'MORGAN AV'), (0.5302475790132989, 'KEW GARDENS'), (0.5294210071490297, 'BUSHWICK AV'), (0.5274184855834007, '74 ST-BROADWAY'), (0.5265756129669245, 'AQUEDUCT N.COND'), (0.5187583742742296, 'CORTELYOU RD'), (0.5183787455657031, 'JFK JAMAICA CT1'), (0.5143824027072758, '121 ST'), (0.513318454664861, 'OCEAN PKWY'), (0.5113576333861595, '238 ST'), (0.5112960760998811, 'CLARK ST'), (0.5023083482812363, 'LAFAYETTE AV'), (0.4991899479340581, 'MONTROSE AV'), (0.4968251562157883, 'BOWERY'), (0.48605048880720836, 'BEDFORD AV'), (0.48066717210007576, 'BROAD ST'), (0.47801382124282127, 'DYCKMAN ST'), (0.4747766989931785, 'W 8 ST-AQUARIUM'), (0.47343895619757687, 'AQUEDUCT RACETR'), (0.4720528980266556, 'YORK ST'), (0.47101464369779406, 'BEACH 67 ST'), (0.4568337591613704, 'BEDFORD-NOSTRAN'), (0.44212091639946094, '161/YANKEE STAD'), (0.42307692307692313, 'RIT-ROOSEVELT'), (0.42148579433524486, 'ROCKAWAY PARK B'), (0.410377358490566, 'ORCHARD BEACH'), (0.4073705179282868, 'BROAD CHANNEL'), (0.3724578733294597, 'BEACH 105 ST'), (0.36894237938012564, 'BEACH 98 ST'), (0.35947562097516095, 'BEACH 90 ST'), (0, 'TOMPKINSVILLE'), (0.0, 'ST. GEORGE')]\n"
     ]
    }
   ],
   "source": [
    "import statistics\n",
    "station_dict = {}\n",
    "for tup in commuter_i:\n",
    "    station_dict[tup[-1][-1]] = station_dict.get(tup[-1][-1], []) + [tup[0]]\n",
    "sort_station = []\n",
    "for key, value in station_dict.items():\n",
    "    sort_station.append((statistics.median(value), key))\n",
    "new_station = {}\n",
    "for tup in sort_station:\n",
    "    new_station[tup[-1]] = tup[0]\n",
    "sort_station.sort(reverse = True)\n",
    "print(sort_station)"
   ]
  },
  {
   "cell_type": "markdown",
   "metadata": {},
   "source": [
    "### How can you use what you have done so far to make decisions about MTA advertising???"
   ]
  },
  {
   "cell_type": "code",
   "execution_count": 114,
   "metadata": {},
   "outputs": [
    {
     "name": "stdout",
     "output_type": "stream",
     "text": [
      "[(65731, '34 ST-PENN STA'), (51197, 'TIMES SQ-42 ST'), (46295, '14 ST-UNION SQ'), (42316, '42 ST-PORT AUTH'), (41093, 'GRD CNTRL-42 ST'), (40100, '86 ST'), (36179, '125 ST'), (33774, '23 ST'), (31960, '59 ST COLUMBUS'), (31063, 'CANAL ST'), (29596, '59 ST'), (28911, '72 ST'), (27373, 'FLUSHING-MAIN'), (25793, 'BEDFORD AV'), (25721, '96 ST'), (25272, 'JKSN HT-ROOSVLT'), (25133, '14 ST'), (23298, 'FULTON ST'), (23109, 'ATL AV-BARCLAY'), (22744, 'W 4 ST-WASH SQ'), (20805, '145 ST'), (20270, '50 ST'), (20209, 'CHAMBERS ST'), (18063, '8 AV'), (17056, '28 ST'), (15879, '161/YANKEE STAD'), (15613, 'CHURCH AV'), (15597, '47-50 STS ROCK'), (15562, 'CROWN HTS-UTICA'), (15184, '7 AV'), (14943, 'PATH NEW WTC'), (14930, 'JAMAICA CENTER'), (14751, '1 AV'), (14602, 'GRAND ST'), (13407, '42 ST-BRYANT PK'), (12729, '181 ST'), (12441, '77 ST'), (12304, '49 ST'), (12205, \"B'WAY-LAFAYETTE\"), (12124, '82 ST-JACKSON H'), (12014, '57 ST-7 AV'), (11796, 'KINGS HWY'), (11578, 'LEXINGTON AV/63'), (11317, 'JOURNAL SQUARE'), (11128, 'JUNCTION BLVD'), (11115, 'NOSTRAND AV'), (10879, 'SUTPHIN-ARCHER'), (10646, '86 ST-2 AVE'), (10610, 'BAY PKWY'), (10569, '2 AV'), (10557, 'THIRTY THIRD ST'), (10543, '103 ST'), (10319, 'LEXINGTON AV/53'), (10166, '116 ST'), (10065, '103 ST-CORONA'), (9884, '72 ST-2 AVE'), (9814, 'WALL ST'), (9793, 'DELANCEY/ESSEX'), (9666, 'SOUTH FERRY'), (9666, 'PRINCE ST'), (9336, 'JAY ST-METROTEC'), (9211, 'KEW GARDENS'), (9089, 'MYRTLE-WYCKOFF'), (9051, '66 ST-LINCOLN'), (8852, '61 ST WOODSIDE'), (8694, 'BOROUGH HALL'), (8637, 'PROSPECT PARK'), (8470, 'CONEY IS-STILLW'), (8236, '168 ST'), (8125, 'WHITEHALL S-FRY'), (8091, '167 ST'), (8047, 'SPRING ST'), (8005, 'FRANKLIN AV'), (7972, 'CHRISTOPHER ST'), (7835, 'ASTORIA DITMARS'), (7743, 'GROVE STREET'), (7669, '8 ST-NYU'), (7567, '51 ST'), (7560, 'BRIGHTON BEACH'), (7505, 'FOREST HILLS 71'), (7427, 'ASTOR PL'), (7322, '33 ST'), (7249, 'VERNON-JACKSON'), (7084, 'CITY / BUS'), (7083, 'PARKCHESTER'), (6882, '96 ST-2 AVE'), (6880, 'BOWLING GREEN'), (6813, '46 ST BLISS ST'), (6745, 'DEKALB AV'), (6694, '111 ST'), (6675, 'NEWARK HM HE'), (6666, 'UTICA AV'), (6665, '81 ST-MUSEUM'), (6570, 'WOODHAVEN BLVD'), (6474, '57 ST'), (6438, '5 AV/59 ST'), (6384, 'JFK JAMAICA CT1'), (6363, 'PAVONIA/NEWPORT'), (6327, 'COURT SQ'), (6304, 'HIGH ST'), (6233, '191 ST'), (6214, 'FORDHAM RD'), (6205, 'CORTLANDT ST'), (6196, 'METROPOLITAN AV'), (6053, '30 AV'), (6011, 'BEDFORD-NOSTRAN'), (5988, '170 ST'), (5956, '90 ST-ELMHURST'), (5842, '5 AV/53 ST'), (5811, '68ST-HUNTER CO'), (5731, '36 ST'), (5721, 'BROADWAY JCT'), (5702, '79 ST'), (5648, 'STEINWAY ST'), (5634, 'KINGSBRIDGE RD'), (5634, 'CATHEDRAL PKWY'), (5600, '110 ST'), (5569, '34 ST-HUDSON YD'), (5541, 'BERGEN ST'), (5511, 'CENTRAL PK N110'), (5452, '137 ST CITY COL'), (5422, 'BROADWAY'), (5379, '18 AV'), (5324, 'BROOKLYN BRIDGE'), (5322, 'MARCY AV'), (5147, 'HALSEY ST'), (5131, '40 ST LOWERY ST'), (5059, '149/GRAND CONC'), (5002, '3 AV-149 ST'), (4981, 'SHEEPSHEAD BAY'), (4958, 'ASTORIA BLVD'), (4848, 'HOYT-SCHER'), (4706, 'WORLD TRADE CTR'), (4645, 'METS-WILLETS PT'), (4623, 'GRAHAM AV'), (4598, 'FLATBUSH AV-B.C'), (4595, 'FT HAMILTON PKY'), (4544, '175 ST'), (4542, 'EAST BROADWAY'), (4505, 'GRAND-NEWTOWN'), (4475, 'HOYT ST'), (4472, 'JAMAICA 179 ST'), (4448, 'NEWKIRK PLAZA'), (4426, '5 AVE'), (4387, '21 ST-QNSBRIDGE'), (4366, 'W 8 ST-AQUARIUM'), (4302, 'ROOSEVELT ISLND'), (4252, 'GUN HILL RD'), (4220, '3 AV'), (4199, '157 ST'), (4186, 'BEDFORD PK BLVD'), (4060, '135 ST'), (3956, 'MYRTLE AV'), (3870, 'CASTLE HILL AV'), (3781, '4AV-9 ST'), (3765, 'HUNTS POINT AV'), (3754, 'MONTROSE AV'), (3726, 'NEVINS ST'), (3692, '74 ST-BROADWAY'), (3676, 'KINGSTON-THROOP'), (3624, 'EXCHANGE PLACE'), (3601, 'QUEENS PLAZA'), (3590, '169 ST'), (3585, 'RECTOR ST'), (3530, 'MORISN AV/SNDVW'), (3503, 'BURNSIDE AV'), (3456, 'HOWARD BCH JFK'), (3424, 'CLINTON-WASH AV'), (3381, 'EASTN PKWY-MUSM'), (3342, 'YORK ST'), (3301, '14TH STREET'), (3288, 'ELDER AV'), (3268, 'TWENTY THIRD ST'), (3197, 'PARSONS BLVD'), (3191, 'PELHAM BAY PARK'), (3160, 'CLARK ST'), (3125, 'BEACH 67 ST'), (3111, 'DYCKMAN ST'), (3090, '45 ST'), (3081, 'TREMONT AV'), (3074, 'AVENUE U'), (3048, 'FAR ROCKAWAY'), (3048, '4 AV-9 ST'), (3040, '69 ST'), (3034, 'GRANT AV'), (3003, '174 ST'), (2983, '52 ST'), (2961, 'NORWOOD 205 ST'), (2950, 'BROOK AV'), (2928, '9TH STREET'), (2896, 'WILSON AV'), (2878, 'HOUSTON ST'), (2842, 'OZONE PK LEFFRT'), (2841, 'THIRTY ST'), (2820, 'WAKEFIELD/241'), (2814, '36 AV'), (2811, 'MORGAN AV'), (2799, 'PARKSIDE AV'), (2796, 'SMITH-9 ST'), (2773, 'HARRISON'), (2724, '116 ST-COLUMBIA'), (2716, 'WESTCHESTER SQ'), (2665, 'BLEECKER ST'), (2636, '9 AV'), (2626, 'BOWERY'), (2568, 'CARROLL ST'), (2554, 'ST LAWRENCE AV'), (2483, 'E 180 ST'), (2474, 'PELHAM PKWY'), (2414, '3 AV 138 ST'), (2362, 'INWOOD-207 ST'), (2355, 'NEW LOTS'), (2329, 'WEST FARMS SQ'), (2324, 'CRESCENT ST'), (2313, '46 ST'), (2293, 'KINGSTON AV'), (2273, 'HARLEM 148 ST'), (2262, 'E 149 ST'), (2241, 'BEACH 90 ST'), (2207, '176 ST'), (2198, 'CLASSON AV'), (2181, '207 ST'), (2174, 'MT EDEN AV'), (2159, 'UNION ST'), (2159, 'EUCLID AV'), (2132, '155 ST'), (2131, 'AVENUE J'), (2120, 'LORIMER ST'), (2116, 'BEVERLEY ROAD'), (2106, '18 ST'), (2082, 'QUEENSBORO PLZ'), (2054, 'V.CORTLANDT PK'), (2026, 'PRESIDENT ST'), (2008, '183 ST'), (1966, '15 ST-PROSPECT'), (1899, 'FREEMAN ST'), (1878, 'PARK PLACE'), (1853, 'GRAND ARMY PLAZ'), (1829, 'NEW UTRECHT AV'), (1817, 'NEWKIRK AV'), (1800, 'SUTTER AV'), (1792, 'CORTELYOU RD'), (1782, 'STERLING ST'), (1782, 'LACKAWANNA'), (1768, 'JAMAICA VAN WK'), (1762, '33 ST-RAWSON ST'), (1756, 'ROCKAWAY PARK B'), (1753, 'OCEAN PKWY'), (1746, 'FRESH POND RD'), (1745, 'BAY RIDGE-95 ST'), (1745, '25 ST'), (1683, '6 AV'), (1666, 'NORWOOD AV'), (1621, 'CLEVELAND ST'), (1606, 'NORTHERN BLVD'), (1585, 'BEACH 98 ST'), (1584, 'LAFAYETTE AV'), (1566, '190 ST'), (1563, 'INTERVALE AV'), (1552, '63 DR-REGO PARK'), (1550, 'RALPH AV'), (1516, 'NEWARK HW BMEBE'), (1504, 'VAN SICLEN AVE'), (1501, 'KNICKERBOCKER'), (1484, 'AVENUE M'), (1480, 'ROCKAWAY AV'), (1462, 'JEFFERSON ST'), (1447, 'PATH WTC 2'), (1446, 'LONGWOOD AV'), (1433, 'AVENUE H'), (1409, 'FLUSHING AV'), (1404, 'VAN SICLEN AV'), (1380, 'HUNTERS PT AV'), (1364, 'CANARSIE-ROCKAW'), (1339, 'EAST 105 ST'), (1332, 'EASTCHSTER/DYRE'), (1330, '138/GRAND CONC'), (1301, 'CITY HALL'), (1274, 'BOTANIC GARDEN'), (1262, 'GATES AV'), (1259, 'BEACH 60 ST'), (1258, 'BEACH 25 ST'), (1216, 'KOSCIUSZKO ST'), (1207, 'WHITLOCK AV'), (1191, 'BUHRE AV'), (1190, 'MOSHOLU PKWY'), (1188, 'SIMPSON ST'), (1185, 'ALABAMA AV'), (1176, 'BUSHWICK AV'), (1170, 'AQUEDUCT N.COND'), (1132, 'WOODLAWN'), (1129, 'LIVONIA AV'), (1100, 'CYPRESS AV'), (1098, '75 ST-ELDERTS'), (1081, '71 ST'), (1076, '67 AV'), (1071, 'PROSPECT AV'), (1070, 'DITMAS AV'), (1062, 'ALLERTON AV'), (1051, 'CENTRAL AV'), (1046, 'FOREST AVE'), (1041, 'AVENUE X'), (1034, 'ROCKAWAY BLVD'), (1033, '174-175 STS'), (1023, 'FRANKLIN ST'), (1022, 'SUTPHIN BLVD'), (1001, '65 ST'), (991, '20 AV'), (986, 'BEACH 105 ST'), (984, 'AVENUE P'), (969, 'BRIARWOOD'), (943, 'ZEREGA AV'), (939, 'BROAD ST'), (935, '39 AV'), (904, '225 ST'), (894, 'SENECA AVE'), (891, '80 ST'), (887, '85 ST-FOREST PK'), (862, 'SHEPHERD AV'), (841, '231 ST'), (834, '55 ST'), (826, '182-183 STS'), (782, 'AVENUE N'), (761, 'COURT SQ-23 ST'), (753, '163 ST-AMSTERDM'), (736, 'CHAUNCEY ST'), (717, 'LIBERTY AV'), (707, 'MARBLE HILL-225'), (706, 'BEACH 36 ST'), (703, '233 ST'), (688, '219 ST'), (670, 'NECK RD'), (661, 'ELMHURST AV'), (651, 'BURKE AV'), (649, 'MORRIS PARK'), (649, 'MIDDLETOWN RD'), (630, 'AVENUE I'), (620, 'NEREID AV'), (609, '215 ST'), (598, 'WINTHROP ST'), (592, 'HEWES ST'), (557, 'BEVERLY RD'), (556, 'JACKSON AV'), (504, 'BEACH 44 ST'), (488, 'NEWARK BM BW'), (484, \"E 143/ST MARY'S\"), (471, 'BRONX PARK EAST'), (421, '104 ST'), (411, '75 AV'), (409, 'CYPRESS HILLS'), (401, 'ATLANTIC AV'), (386, '88 ST'), (248, 'BAYCHESTER AV'), (245, 'NEPTUNE AV'), (210, 'AQUEDUCT RACETR'), (152, 'BROAD CHANNEL'), (127, '121 ST'), (88, 'RIT-ROOSEVELT'), (88, '238 ST'), (83, 'NEWARK C'), (68, '25 AV'), (63, 'RIT-MANHATTAN'), (50, 'ORCHARD BEACH'), (29, 'BAY 50 ST'), (19, 'NASSAU AV'), (15, 'SARATOGA AV'), (15, 'GREENPOINT AV'), (4, 'MYRTLE-WILLOUGH'), (0, 'TOMPKINSVILLE'), (0, 'SUTTER AV-RUTLD'), (0, 'ST. GEORGE'), (0, 'PENNSYLVANIA AV'), (0, 'NEW LOTS AV'), (0, 'JUNIUS ST'), (0, '21 ST')]\n"
     ]
    }
   ],
   "source": [
    "# Making lists for each day of tuples that have the cumulative exit tallys and the station as their two elements.\n",
    "\n",
    "ten_eleven = []\n",
    "eleven_twelve = []\n",
    "twelve_thirteen = []\n",
    "thirteen_fourteen = []\n",
    "fourteen_fifteen = []\n",
    "fifteen_sixteen = []\n",
    "sixteen = []\n",
    "\n",
    "lists = [ten_eleven, eleven_twelve, twelve_thirteen, thirteen_fourteen, fourteen_fifteen, fifteen_sixteen, sixteen]\n",
    "\n",
    "\n",
    "for n in range(10,17):\n",
    "    total_dict = {}\n",
    "    for tup, scps in bigDict.items():\n",
    "        total_dict[tup[-1]] = total_dict.get(tup[-1], 0) + abs(getStationRangeRider(bigDict[tup], dt(2017,6,n,0,0,0), dt(2017,6,n+1,0,0,0)))\n",
    "    for count,station in total_dict.items():\n",
    "        lists[n-10].append((station, count))\n",
    "\n",
    "for item in lists:\n",
    "    item.sort(reverse = True)\n",
    "\n",
    "del eleven_twelve[0] # This was just deleting a HUGE outlier\n",
    "print(eleven_twelve)"
   ]
  },
  {
   "cell_type": "code",
   "execution_count": null,
   "metadata": {},
   "outputs": [],
   "source": [
    "# Everything under this point is graphing the top ten stations from the lists created above"
   ]
  },
  {
   "cell_type": "code",
   "execution_count": 110,
   "metadata": {},
   "outputs": [
    {
     "data": {
      "text/plain": [
       "Text(0.5,1,'Top Ten Stations (June 10th)')"
      ]
     },
     "execution_count": 110,
     "metadata": {},
     "output_type": "execute_result"
    },
    {
     "data": {
      "image/png": "[encoded data removed]",
      "text/plain": [
       "<Figure size 720x360 with 1 Axes>"
      ]
     },
     "metadata": {},
     "output_type": "display_data"
    }
   ],
   "source": [
    "objects = [tup[-1] for tup in ten_eleven[:10]]\n",
    "y_pos = np.arange(len(objects))\n",
    "performance = [tup[0] for tup in ten_eleven[:10]]\n",
    "\n",
    "plt.bar(y_pos, performance, align = 'center');\n",
    "plt.xticks(y_pos, objects, rotation = 75);\n",
    "plt.ylabel('Exits')\n",
    "plt.title('Top Ten Stations (June 10th)')"
   ]
  },
  {
   "cell_type": "code",
   "execution_count": 124,
   "metadata": {},
   "outputs": [
    {
     "data": {
      "text/plain": [
       "Text(0.5,1,'Top Ten Stations (June 10th) - CI Adjusted')"
      ]
     },
     "execution_count": 124,
     "metadata": {},
     "output_type": "execute_result"
    },
    {
     "data": {
      "image/png": "[encoded data removed]",
      "text/plain": [
       "<Figure size 720x360 with 1 Axes>"
      ]
     },
     "metadata": {},
     "output_type": "display_data"
    }
   ],
   "source": [
    "objects = [tup[-1] for tup in ten_eleven[:10]]\n",
    "y_pos = np.arange(len(objects))\n",
    "performance = [tup[0]*new_station[tup[-1]] for tup in ten_eleven[:10]]\n",
    "\n",
    "plt.bar(y_pos, performance, align = 'center');\n",
    "plt.xticks(y_pos, objects, rotation = 75);\n",
    "plt.ylabel('Exits')\n",
    "plt.title('Top Ten Stations (June 10th) - CI Adjusted')"
   ]
  },
  {
   "cell_type": "code",
   "execution_count": 115,
   "metadata": {},
   "outputs": [
    {
     "data": {
      "text/plain": [
       "Text(0.5,1,'Top Ten Stations (June 11th)')"
      ]
     },
     "execution_count": 115,
     "metadata": {},
     "output_type": "execute_result"
    },
    {
     "data": {
      "image/png": "[encoded data removed]",
      "text/plain": [
       "<Figure size 720x360 with 1 Axes>"
      ]
     },
     "metadata": {},
     "output_type": "display_data"
    }
   ],
   "source": [
    "objects = [tup[-1] for tup in eleven_twelve[:10]]\n",
    "y_pos = np.arange(len(objects))\n",
    "performance = [tup[0] for tup in eleven_twelve[:10]]\n",
    "\n",
    "plt.bar(y_pos, performance, align = 'center');\n",
    "plt.xticks(y_pos, objects, rotation = 75);\n",
    "plt.ylabel('Exits')\n",
    "plt.title('Top Ten Stations (June 11th)')"
   ]
  },
  {
   "cell_type": "code",
   "execution_count": 125,
   "metadata": {},
   "outputs": [
    {
     "data": {
      "text/plain": [
       "Text(0.5,1,'Top Ten Stations (June 11th) = CI Adjusted')"
      ]
     },
     "execution_count": 125,
     "metadata": {},
     "output_type": "execute_result"
    },
    {
     "data": {
      "image/png": "[encoded data removed]",
      "text/plain": [
       "<Figure size 720x360 with 1 Axes>"
      ]
     },
     "metadata": {},
     "output_type": "display_data"
    }
   ],
   "source": [
    "objects = [tup[-1] for tup in eleven_twelve[:10]]\n",
    "y_pos = np.arange(len(objects))\n",
    "performance = [tup[0]*new_station[tup[-1]] for tup in eleven_twelve[:10]]\n",
    "\n",
    "plt.bar(y_pos, performance, align = 'center');\n",
    "plt.xticks(y_pos, objects, rotation = 75);\n",
    "plt.ylabel('Exits')\n",
    "plt.title('Top Ten Stations (June 11th) = CI Adjusted')"
   ]
  },
  {
   "cell_type": "code",
   "execution_count": 112,
   "metadata": {},
   "outputs": [
    {
     "data": {
      "text/plain": [
       "Text(0.5,1,'Top Ten Stations (June 12th)')"
      ]
     },
     "execution_count": 112,
     "metadata": {},
     "output_type": "execute_result"
    },
    {
     "data": {
      "image/png": "[encoded data removed]",
      "text/plain": [
       "<Figure size 720x360 with 1 Axes>"
      ]
     },
     "metadata": {},
     "output_type": "display_data"
    }
   ],
   "source": [
    "objects = [tup[-1] for tup in twelve_thirteen[:10]]\n",
    "y_pos = np.arange(len(objects))\n",
    "performance = [tup[0] for tup in twelve_thirteen[:10]]\n",
    "\n",
    "plt.bar(y_pos, performance, align = 'center');\n",
    "plt.xticks(y_pos, objects, rotation = 75);\n",
    "plt.ylabel('Exits')\n",
    "plt.title('Top Ten Stations (June 12th)')"
   ]
  },
  {
   "cell_type": "code",
   "execution_count": 116,
   "metadata": {},
   "outputs": [
    {
     "data": {
      "text/plain": [
       "Text(0.5,1,'Top Ten Stations (June 13th)')"
      ]
     },
     "execution_count": 116,
     "metadata": {},
     "output_type": "execute_result"
    },
    {
     "data": {
      "image/png": "[encoded data removed]",
      "text/plain": [
       "<Figure size 720x360 with 1 Axes>"
      ]
     },
     "metadata": {},
     "output_type": "display_data"
    }
   ],
   "source": [
    "objects = [tup[-1] for tup in thirteen_fourteen[:10]]\n",
    "y_pos = np.arange(len(objects))\n",
    "performance = [tup[0] for tup in thirteen_fourteen[:10]]\n",
    "\n",
    "plt.bar(y_pos, performance, align = 'center');\n",
    "plt.xticks(y_pos, objects, rotation = 75);\n",
    "plt.ylabel('Exits')\n",
    "plt.title('Top Ten Stations (June 13th)')"
   ]
  },
  {
   "cell_type": "code",
   "execution_count": 118,
   "metadata": {},
   "outputs": [
    {
     "data": {
      "text/plain": [
       "Text(0.5,1,'Top Ten Stations (June 14th)')"
      ]
     },
     "execution_count": 118,
     "metadata": {},
     "output_type": "execute_result"
    },
    {
     "data": {
      "image/png": "[encoded data removed]",
      "text/plain": [
       "<Figure size 720x360 with 1 Axes>"
      ]
     },
     "metadata": {},
     "output_type": "display_data"
    }
   ],
   "source": [
    "objects = [tup[-1] for tup in fourteen_fifteen[:10]]\n",
    "y_pos = np.arange(len(objects))\n",
    "performance = [tup[0] for tup in fourteen_fifteen[:10]]\n",
    "\n",
    "plt.bar(y_pos, performance, align = 'center');\n",
    "plt.xticks(y_pos, objects, rotation = 75);\n",
    "plt.ylabel('Exits')\n",
    "plt.title('Top Ten Stations (June 14th)')"
   ]
  },
  {
   "cell_type": "code",
   "execution_count": 119,
   "metadata": {},
   "outputs": [
    {
     "data": {
      "text/plain": [
       "Text(0.5,1,'Top Ten Stations (June 15th)')"
      ]
     },
     "execution_count": 119,
     "metadata": {},
     "output_type": "execute_result"
    },
    {
     "data": {
      "image/png": "[encoded data removed]",
      "text/plain": [
       "<Figure size 720x360 with 1 Axes>"
      ]
     },
     "metadata": {},
     "output_type": "display_data"
    }
   ],
   "source": [
    "objects = [tup[-1] for tup in fifteen_sixteen[:10]]\n",
    "y_pos = np.arange(len(objects))\n",
    "performance = [tup[0] for tup in fifteen_sixteen[:10]]\n",
    "\n",
    "plt.bar(y_pos, performance, align = 'center');\n",
    "plt.xticks(y_pos, objects, rotation = 75);\n",
    "plt.ylabel('Exits')\n",
    "plt.title('Top Ten Stations (June 15th)')"
   ]
  },
  {
   "cell_type": "code",
   "execution_count": 120,
   "metadata": {},
   "outputs": [
    {
     "data": {
      "text/plain": [
       "Text(0.5,1,'Top Ten Stations (June 16th)')"
      ]
     },
     "execution_count": 120,
     "metadata": {},
     "output_type": "execute_result"
    },
    {
     "data": {
      "image/png": "[encoded data removed]",
      "text/plain": [
       "<Figure size 720x360 with 1 Axes>"
      ]
     },
     "metadata": {},
     "output_type": "display_data"
    }
   ],
   "source": [
    "objects = [tup[-1] for tup in sixteen[:10]]\n",
    "y_pos = np.arange(len(objects))\n",
    "performance = [tup[0] for tup in sixteen[:10]]\n",
    "\n",
    "plt.bar(y_pos, performance, align = 'center');\n",
    "plt.xticks(y_pos, objects, rotation = 75);\n",
    "plt.ylabel('Exits')\n",
    "plt.title('Top Ten Stations (June 16th)')"
   ]
  },
  {
   "cell_type": "code",
   "execution_count": 147,
   "metadata": {},
   "outputs": [
    {
     "data": {
      "image/png": "[encoded data removed]",
      "text/plain": [
       "<Figure size 720x360 with 1 Axes>"
      ]
     },
     "metadata": {},
     "output_type": "display_data"
    }
   ],
   "source": [
    "# def inspection(iD, scp):\n",
    "#     exits = [count for time, count in bigDict[iD][scp]]\n",
    "#     times = [time for time, count in bigDict[iD][scp]]\n",
    "#     plt.plot(times, exits)\n",
    "#     plt.xlabel('Time')\n",
    "#     plt.ylabel('Exit Tally')\n",
    "#     plt.title('Exits vs. Time for {}, {}'.format(iD, scp))\n",
    "#     plt.xticks(rotation=45)\n",
    "    \n",
    "\n",
    "# inspection(('A037', 'R170', '14 ST-UNION SQ'), '05-00-00')\n",
    "# 34 ST-PENN STA\tN067\tR012\t00-00-00\t\n",
    "def day_inspection(iD, scp, day):\n",
    "    '''\n",
    "    This function takes in a (C/A,UNIT,STATION) tuple, and scp, and a day from 10 to 16 (just the number, not datetime).\n",
    "    It plots a graph of the exit tally for that turnstile on that day. \n",
    "    '''\n",
    "    exits = []\n",
    "    times = []\n",
    "    for exit in bigDict[iD][scp]:\n",
    "        if dt(2017,6,day,0,0,0) <= exit[0] <= dt(2017,6,day+1,4,0,0):\n",
    "            exits.append(exit[-1])\n",
    "            times.append(exit[0])\n",
    "    plt.plot(times,exits, '.')\n",
    "\n",
    "day_inspection(('N067', 'R012', '34 ST-PENN STA'), '00-00-00', 13)"
   ]
  }
 ],
 "metadata": {
  "colab": {
   "name": "Unit 10 - MTA Data Analysis Student Version.ipynb",
   "provenance": [],
   "version": "0.3.2"
  },
  "kernelspec": {
   "display_name": "Python 3",
   "language": "python",
   "name": "python3"
  },
  "language_info": {
   "codemirror_mode": {
    "name": "ipython",
    "version": 3
   },
   "file_extension": ".py",
   "mimetype": "text/x-python",
   "name": "python",
   "nbconvert_exporter": "python",
   "pygments_lexer": "ipython3",
   "version": "3.6.5"
  }
 },
 "nbformat": 4,
 "nbformat_minor": 1
}
